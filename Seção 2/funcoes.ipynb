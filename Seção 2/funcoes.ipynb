{
 "cells": [
  {
   "cell_type": "code",
   "execution_count": 11,
   "metadata": {},
   "outputs": [],
   "source": [
    "def identificacao(nome, idade):\n",
    "    print('Olá',nome,'\\nVocê é um jovem, tem apenas',idade, 'anos')"
   ]
  },
  {
   "cell_type": "code",
   "execution_count": 12,
   "metadata": {},
   "outputs": [
    {
     "name": "stdout",
     "output_type": "stream",
     "text": [
      "Olá Luiz \n",
      "Você é um jovem, tem apenas 15 anos\n"
     ]
    }
   ],
   "source": [
    "identificacao('Luiz', 15)"
   ]
  },
  {
   "cell_type": "code",
   "execution_count": 18,
   "metadata": {},
   "outputs": [],
   "source": [
    "def maior (x, y):\n",
    "    if x < y:\n",
    "        print('O maior numero é',y)\n",
    "    elif x == y:\n",
    "        print('Os numeros são iguais')\n",
    "    else:\n",
    "        print('O maior numero é',x)"
   ]
  },
  {
   "cell_type": "code",
   "execution_count": 22,
   "metadata": {},
   "outputs": [
    {
     "name": "stdout",
     "output_type": "stream",
     "text": [
      "O maior numero é 4\n"
     ]
    }
   ],
   "source": [
    "maior(4 , 1)"
   ]
  },
  {
   "cell_type": "code",
   "execution_count": 23,
   "metadata": {},
   "outputs": [],
   "source": [
    "def pitagoras (cat1, cat2, hip):\n",
    "    if hip =='?':\n",
    "        hip = (cat1**2+cat2**2)**(1/2)\n",
    "        print('A hipotenusa é',hip)\n",
    "    elif cat1 == '?':\n",
    "        cat1 = (hip**2-cat2**2)**(1/2)\n",
    "        print('O cateto é',cat1)\n",
    "    elif cat2 == '?':\n",
    "        cat2 = (hip**2-cat1**2)**(1/2)\n",
    "        print('O cateto é',cat2)"
   ]
  },
  {
   "cell_type": "markdown",
   "metadata": {},
   "source": []
  },
  {
   "cell_type": "code",
   "execution_count": 26,
   "metadata": {},
   "outputs": [
    {
     "name": "stdout",
     "output_type": "stream",
     "text": [
      "A hipotenusa é 5.0\n"
     ]
    }
   ],
   "source": [
    "pitagoras(3,4,'?')"
   ]
  }
 ],
 "metadata": {
  "kernelspec": {
   "display_name": "base",
   "language": "python",
   "name": "python3"
  },
  "language_info": {
   "codemirror_mode": {
    "name": "ipython",
    "version": 3
   },
   "file_extension": ".py",
   "mimetype": "text/x-python",
   "name": "python",
   "nbconvert_exporter": "python",
   "pygments_lexer": "ipython3",
   "version": "3.11.3"
  },
  "orig_nbformat": 4
 },
 "nbformat": 4,
 "nbformat_minor": 2
}
