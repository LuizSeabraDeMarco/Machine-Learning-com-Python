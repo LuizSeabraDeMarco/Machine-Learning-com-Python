{
  "cells": [
    {
      "cell_type": "markdown",
      "metadata": {
        "id": "fQJ5CYV9Te0X"
      },
      "source": [
        "# **APRENDIZAGEM SUPERVISIONADA: REGRESSÃO**"
      ]
    },
    {
      "cell_type": "markdown",
      "metadata": {
        "id": "kXFCCsVHTtTP"
      },
      "source": [
        "Este projeto tem por objetivo desenvolver um algoritmo de Machine Learning para prever o valor do preço médio de casas em Boston. "
      ]
    },
    {
      "cell_type": "markdown",
      "metadata": {
        "id": "5ZQ2nYhQUc3G"
      },
      "source": [
        "Os dados foram extraídos do site do Kaggle:\n",
        "\n",
        "https://www.kaggle.com/schirmerchad/bostonhoustingmlnd"
      ]
    },
    {
      "cell_type": "code",
      "execution_count": 6,
      "metadata": {
        "id": "nWvIcticlCs2"
      },
      "outputs": [],
      "source": [
        "import numpy as np\n",
        "import pandas as pd"
      ]
    },
    {
      "cell_type": "code",
      "execution_count": 7,
      "metadata": {
        "id": "LRIrwcC8kUhT"
      },
      "outputs": [],
      "source": [
        "df = pd.read_csv('dados/housing.csv',\n",
        "                    sep=',', encoding='iso-8859-1')"
      ]
    },
    {
      "cell_type": "code",
      "execution_count": 8,
      "metadata": {
        "colab": {
          "base_uri": "https://localhost:8080/",
          "height": 206
        },
        "id": "QtugliripIyp",
        "outputId": "aefeaff8-1bd3-4912-921a-2dc06098697f"
      },
      "outputs": [
        {
          "data": {
            "text/html": [
              "<div>\n",
              "<style scoped>\n",
              "    .dataframe tbody tr th:only-of-type {\n",
              "        vertical-align: middle;\n",
              "    }\n",
              "\n",
              "    .dataframe tbody tr th {\n",
              "        vertical-align: top;\n",
              "    }\n",
              "\n",
              "    .dataframe thead th {\n",
              "        text-align: right;\n",
              "    }\n",
              "</style>\n",
              "<table border=\"1\" class=\"dataframe\">\n",
              "  <thead>\n",
              "    <tr style=\"text-align: right;\">\n",
              "      <th></th>\n",
              "      <th>RM</th>\n",
              "      <th>LSTAT</th>\n",
              "      <th>PTRATIO</th>\n",
              "      <th>MEDV</th>\n",
              "    </tr>\n",
              "  </thead>\n",
              "  <tbody>\n",
              "    <tr>\n",
              "      <th>0</th>\n",
              "      <td>6.575</td>\n",
              "      <td>4.98</td>\n",
              "      <td>15.3</td>\n",
              "      <td>504000.0</td>\n",
              "    </tr>\n",
              "    <tr>\n",
              "      <th>1</th>\n",
              "      <td>6.421</td>\n",
              "      <td>9.14</td>\n",
              "      <td>17.8</td>\n",
              "      <td>453600.0</td>\n",
              "    </tr>\n",
              "    <tr>\n",
              "      <th>2</th>\n",
              "      <td>7.185</td>\n",
              "      <td>4.03</td>\n",
              "      <td>17.8</td>\n",
              "      <td>728700.0</td>\n",
              "    </tr>\n",
              "    <tr>\n",
              "      <th>3</th>\n",
              "      <td>6.998</td>\n",
              "      <td>2.94</td>\n",
              "      <td>18.7</td>\n",
              "      <td>701400.0</td>\n",
              "    </tr>\n",
              "    <tr>\n",
              "      <th>4</th>\n",
              "      <td>7.147</td>\n",
              "      <td>5.33</td>\n",
              "      <td>18.7</td>\n",
              "      <td>760200.0</td>\n",
              "    </tr>\n",
              "  </tbody>\n",
              "</table>\n",
              "</div>"
            ],
            "text/plain": [
              "      RM  LSTAT  PTRATIO      MEDV\n",
              "0  6.575   4.98     15.3  504000.0\n",
              "1  6.421   9.14     17.8  453600.0\n",
              "2  7.185   4.03     17.8  728700.0\n",
              "3  6.998   2.94     18.7  701400.0\n",
              "4  7.147   5.33     18.7  760200.0"
            ]
          },
          "execution_count": 8,
          "metadata": {},
          "output_type": "execute_result"
        }
      ],
      "source": [
        "df.head()"
      ]
    },
    {
      "cell_type": "markdown",
      "metadata": {
        "id": "BxBX5HD17FZn"
      },
      "source": [
        "**Atributos previsores**\n",
        "\n",
        "RM: é o número médio de cômodos entre os imóveis no bairro.\n",
        "\n",
        "LSTAT: é a porcentagem de proprietários no bairro considerados de \"classe baixa\" (proletariado).\n",
        "\n",
        "PTRATIO: é a razão entre estudantes e professores nas escolas de ensino fundamental e médio no bairro.\n",
        "\n",
        "**Variável alvo**\n",
        "\n",
        "MEDV: valor médio das casas"
      ]
    },
    {
      "cell_type": "code",
      "execution_count": 9,
      "metadata": {
        "colab": {
          "base_uri": "https://localhost:8080/"
        },
        "id": "-pOctrVgQWpa",
        "outputId": "c67df09d-155e-461d-92e6-421e1a5f6e2a"
      },
      "outputs": [
        {
          "data": {
            "text/plain": [
              "(489, 4)"
            ]
          },
          "execution_count": 9,
          "metadata": {},
          "output_type": "execute_result"
        }
      ],
      "source": [
        "df.shape"
      ]
    },
    {
      "cell_type": "markdown",
      "metadata": {
        "id": "HxaCUHTyTqsg"
      },
      "source": [
        "## **EXPLORAÇÃO E TRATAMENTO DOS DADOS**"
      ]
    },
    {
      "cell_type": "markdown",
      "metadata": {
        "id": "3lk5kf4eZ_sL"
      },
      "source": [
        "Valores Missing (NAN)"
      ]
    },
    {
      "cell_type": "code",
      "execution_count": 10,
      "metadata": {
        "colab": {
          "base_uri": "https://localhost:8080/"
        },
        "id": "A24U7d5QYPaV",
        "outputId": "20a96792-f81e-4f3a-bd49-fcd2d836330f"
      },
      "outputs": [
        {
          "data": {
            "text/plain": [
              "RM         0\n",
              "LSTAT      0\n",
              "PTRATIO    0\n",
              "MEDV       0\n",
              "dtype: int64"
            ]
          },
          "execution_count": 10,
          "metadata": {},
          "output_type": "execute_result"
        }
      ],
      "source": [
        "# RELAÇÃO DA QUANTIDADE\n",
        "df.isnull().sum()"
      ]
    },
    {
      "cell_type": "markdown",
      "metadata": {
        "id": "Q_4_5j4Vlz2j"
      },
      "source": [
        "**Análise dos tipos de atributos.**"
      ]
    },
    {
      "cell_type": "code",
      "execution_count": 11,
      "metadata": {
        "colab": {
          "base_uri": "https://localhost:8080/"
        },
        "id": "wopAqivQXpqI",
        "outputId": "fffe3101-1baf-4fb4-e8a7-20e3a549899a"
      },
      "outputs": [
        {
          "data": {
            "text/plain": [
              "RM         float64\n",
              "LSTAT      float64\n",
              "PTRATIO    float64\n",
              "MEDV       float64\n",
              "dtype: object"
            ]
          },
          "execution_count": 11,
          "metadata": {},
          "output_type": "execute_result"
        }
      ],
      "source": [
        "# object: strings\n",
        "# int64: inteiros\n",
        "# float64: reais\n",
        "# complex: complexos\n",
        "df.dtypes"
      ]
    },
    {
      "cell_type": "markdown",
      "metadata": {
        "id": "GmQ0oYyVTYOv"
      },
      "source": [
        "**Dados Estatísticos**"
      ]
    },
    {
      "cell_type": "code",
      "execution_count": 12,
      "metadata": {
        "colab": {
          "base_uri": "https://localhost:8080/",
          "height": 300
        },
        "id": "BE2XqrzRS8Zo",
        "outputId": "4682f3bf-922c-4969-adf1-0cefd4ecf9dc"
      },
      "outputs": [
        {
          "data": {
            "text/html": [
              "<div>\n",
              "<style scoped>\n",
              "    .dataframe tbody tr th:only-of-type {\n",
              "        vertical-align: middle;\n",
              "    }\n",
              "\n",
              "    .dataframe tbody tr th {\n",
              "        vertical-align: top;\n",
              "    }\n",
              "\n",
              "    .dataframe thead th {\n",
              "        text-align: right;\n",
              "    }\n",
              "</style>\n",
              "<table border=\"1\" class=\"dataframe\">\n",
              "  <thead>\n",
              "    <tr style=\"text-align: right;\">\n",
              "      <th></th>\n",
              "      <th>RM</th>\n",
              "      <th>LSTAT</th>\n",
              "      <th>PTRATIO</th>\n",
              "      <th>MEDV</th>\n",
              "    </tr>\n",
              "  </thead>\n",
              "  <tbody>\n",
              "    <tr>\n",
              "      <th>count</th>\n",
              "      <td>489.000000</td>\n",
              "      <td>489.000000</td>\n",
              "      <td>489.000000</td>\n",
              "      <td>4.890000e+02</td>\n",
              "    </tr>\n",
              "    <tr>\n",
              "      <th>mean</th>\n",
              "      <td>6.240288</td>\n",
              "      <td>12.939632</td>\n",
              "      <td>18.516564</td>\n",
              "      <td>4.543429e+05</td>\n",
              "    </tr>\n",
              "    <tr>\n",
              "      <th>std</th>\n",
              "      <td>0.643650</td>\n",
              "      <td>7.081990</td>\n",
              "      <td>2.111268</td>\n",
              "      <td>1.653403e+05</td>\n",
              "    </tr>\n",
              "    <tr>\n",
              "      <th>min</th>\n",
              "      <td>3.561000</td>\n",
              "      <td>1.980000</td>\n",
              "      <td>12.600000</td>\n",
              "      <td>1.050000e+05</td>\n",
              "    </tr>\n",
              "    <tr>\n",
              "      <th>25%</th>\n",
              "      <td>5.880000</td>\n",
              "      <td>7.370000</td>\n",
              "      <td>17.400000</td>\n",
              "      <td>3.507000e+05</td>\n",
              "    </tr>\n",
              "    <tr>\n",
              "      <th>50%</th>\n",
              "      <td>6.185000</td>\n",
              "      <td>11.690000</td>\n",
              "      <td>19.100000</td>\n",
              "      <td>4.389000e+05</td>\n",
              "    </tr>\n",
              "    <tr>\n",
              "      <th>75%</th>\n",
              "      <td>6.575000</td>\n",
              "      <td>17.120000</td>\n",
              "      <td>20.200000</td>\n",
              "      <td>5.187000e+05</td>\n",
              "    </tr>\n",
              "    <tr>\n",
              "      <th>max</th>\n",
              "      <td>8.398000</td>\n",
              "      <td>37.970000</td>\n",
              "      <td>22.000000</td>\n",
              "      <td>1.024800e+06</td>\n",
              "    </tr>\n",
              "  </tbody>\n",
              "</table>\n",
              "</div>"
            ],
            "text/plain": [
              "               RM       LSTAT     PTRATIO          MEDV\n",
              "count  489.000000  489.000000  489.000000  4.890000e+02\n",
              "mean     6.240288   12.939632   18.516564  4.543429e+05\n",
              "std      0.643650    7.081990    2.111268  1.653403e+05\n",
              "min      3.561000    1.980000   12.600000  1.050000e+05\n",
              "25%      5.880000    7.370000   17.400000  3.507000e+05\n",
              "50%      6.185000   11.690000   19.100000  4.389000e+05\n",
              "75%      6.575000   17.120000   20.200000  5.187000e+05\n",
              "max      8.398000   37.970000   22.000000  1.024800e+06"
            ]
          },
          "execution_count": 12,
          "metadata": {},
          "output_type": "execute_result"
        }
      ],
      "source": [
        "df.describe()"
      ]
    },
    {
      "cell_type": "markdown",
      "metadata": {
        "id": "BjC9JIo5jJ79"
      },
      "source": [
        "**Análise dos outliers**"
      ]
    },
    {
      "cell_type": "code",
      "execution_count": 13,
      "metadata": {
        "id": "9pBh8XgzjJOX"
      },
      "outputs": [],
      "source": [
        "import plotly.express as px"
      ]
    },
    {
      "cell_type": "code",
      "execution_count": 14,
      "metadata": {
        "colab": {
          "base_uri": "https://localhost:8080/",
          "height": 542
        },
        "id": "R3RYMYZ0jQgO",
        "outputId": "9d78fb74-0ecb-44d4-e49d-b711d5a8f09b"
      },
      "outputs": [
        {
          "data": {
            "application/vnd.plotly.v1+json": {
              "config": {
                "plotlyServerURL": "https://plot.ly"
              },
              "data": [
                {
                  "alignmentgroup": "True",
                  "hovertemplate": "RM=%{y}<extra></extra>",
                  "legendgroup": "",
                  "marker": {
                    "color": "#636efa"
                  },
                  "name": "",
                  "notched": false,
                  "offsetgroup": "",
                  "orientation": "v",
                  "showlegend": false,
                  "type": "box",
                  "x0": " ",
                  "xaxis": "x",
                  "y": [
                    6.575,
                    6.421,
                    7.185,
                    6.998,
                    7.147,
                    6.43,
                    6.012,
                    6.172,
                    5.631,
                    6.004,
                    6.377,
                    6.009,
                    5.889,
                    5.949,
                    6.096,
                    5.834,
                    5.935,
                    5.99,
                    5.456,
                    5.727,
                    5.57,
                    5.965,
                    6.142,
                    5.813,
                    5.924,
                    5.599,
                    5.813,
                    6.047,
                    6.495,
                    6.674,
                    5.713,
                    6.072,
                    5.95,
                    5.701,
                    6.096,
                    5.933,
                    5.841,
                    5.85,
                    5.966,
                    6.595,
                    7.024,
                    6.77,
                    6.169,
                    6.211,
                    6.069,
                    5.682,
                    5.786,
                    6.03,
                    5.399,
                    5.602,
                    5.963,
                    6.115,
                    6.511,
                    5.998,
                    5.888,
                    7.249,
                    6.383,
                    6.816,
                    6.145,
                    5.927,
                    5.741,
                    5.966,
                    6.456,
                    6.762,
                    7.104,
                    6.29,
                    5.787,
                    5.878,
                    5.594,
                    5.885,
                    6.417,
                    5.961,
                    6.065,
                    6.245,
                    6.273,
                    6.286,
                    6.279,
                    6.14,
                    6.232,
                    5.874,
                    6.727,
                    6.619,
                    6.302,
                    6.167,
                    6.389,
                    6.63,
                    6.015,
                    6.121,
                    7.007,
                    7.079,
                    6.417,
                    6.405,
                    6.442,
                    6.211,
                    6.249,
                    6.625,
                    6.163,
                    8.069,
                    7.82,
                    7.416,
                    6.727,
                    6.781,
                    6.405,
                    6.137,
                    6.167,
                    5.851,
                    5.836,
                    6.127,
                    6.474,
                    6.229,
                    6.195,
                    6.715,
                    5.913,
                    6.092,
                    6.254,
                    5.928,
                    6.176,
                    6.021,
                    5.872,
                    5.731,
                    5.87,
                    6.004,
                    5.961,
                    5.856,
                    5.879,
                    5.986,
                    5.613,
                    5.693,
                    6.431,
                    5.637,
                    6.458,
                    6.326,
                    6.372,
                    5.822,
                    5.757,
                    6.335,
                    5.942,
                    6.454,
                    5.857,
                    6.151,
                    6.174,
                    5.019,
                    5.403,
                    5.468,
                    4.903,
                    6.13,
                    5.628,
                    4.926,
                    5.186,
                    5.597,
                    6.122,
                    5.404,
                    5.012,
                    5.709,
                    6.129,
                    6.152,
                    5.272,
                    6.943,
                    6.066,
                    6.51,
                    6.25,
                    5.854,
                    6.101,
                    5.877,
                    6.319,
                    6.402,
                    5.875,
                    5.88,
                    5.572,
                    6.416,
                    5.859,
                    6.546,
                    6.02,
                    6.315,
                    6.86,
                    6.98,
                    7.765,
                    6.144,
                    7.155,
                    6.563,
                    5.604,
                    6.153,
                    6.782,
                    6.556,
                    7.185,
                    6.951,
                    6.739,
                    7.178,
                    6.8,
                    6.604,
                    7.287,
                    7.107,
                    7.274,
                    6.975,
                    7.135,
                    6.162,
                    7.61,
                    7.853,
                    5.891,
                    6.326,
                    5.783,
                    6.064,
                    5.344,
                    5.96,
                    5.404,
                    5.807,
                    6.375,
                    5.412,
                    6.182,
                    5.888,
                    6.642,
                    5.951,
                    6.373,
                    6.951,
                    6.164,
                    6.879,
                    6.618,
                    8.266,
                    8.04,
                    7.163,
                    7.686,
                    6.552,
                    5.981,
                    7.412,
                    8.337,
                    8.247,
                    6.726,
                    6.086,
                    6.631,
                    7.358,
                    6.481,
                    6.606,
                    6.897,
                    6.095,
                    6.358,
                    6.393,
                    5.593,
                    5.605,
                    6.108,
                    6.226,
                    6.433,
                    6.718,
                    6.487,
                    6.438,
                    6.957,
                    8.259,
                    6.108,
                    5.876,
                    7.454,
                    7.333,
                    6.842,
                    7.203,
                    7.52,
                    8.398,
                    7.327,
                    7.206,
                    5.56,
                    7.014,
                    7.47,
                    5.92,
                    5.856,
                    6.24,
                    6.538,
                    7.691,
                    6.758,
                    6.854,
                    7.267,
                    6.826,
                    6.482,
                    6.812,
                    7.82,
                    6.968,
                    7.645,
                    7.088,
                    6.453,
                    6.23,
                    6.209,
                    6.315,
                    6.565,
                    6.861,
                    7.148,
                    6.63,
                    6.127,
                    6.009,
                    6.678,
                    6.549,
                    5.79,
                    6.345,
                    7.041,
                    6.871,
                    6.59,
                    6.495,
                    6.982,
                    7.236,
                    6.616,
                    7.42,
                    6.849,
                    6.635,
                    5.972,
                    4.973,
                    6.122,
                    6.023,
                    6.266,
                    6.567,
                    5.705,
                    5.914,
                    5.782,
                    6.382,
                    6.113,
                    6.426,
                    6.376,
                    6.041,
                    5.708,
                    6.415,
                    6.431,
                    6.312,
                    6.083,
                    5.868,
                    6.333,
                    6.144,
                    5.706,
                    6.031,
                    6.316,
                    6.31,
                    6.037,
                    5.869,
                    5.895,
                    6.059,
                    5.985,
                    5.968,
                    7.241,
                    6.54,
                    6.696,
                    6.874,
                    6.014,
                    5.898,
                    6.516,
                    6.635,
                    6.939,
                    6.49,
                    6.579,
                    5.884,
                    6.728,
                    5.663,
                    5.936,
                    6.212,
                    6.395,
                    6.127,
                    6.112,
                    6.398,
                    6.251,
                    5.362,
                    5.803,
                    3.561,
                    4.963,
                    3.863,
                    4.906,
                    4.138,
                    7.313,
                    6.649,
                    6.794,
                    6.38,
                    6.223,
                    6.968,
                    6.545,
                    5.536,
                    5.52,
                    4.368,
                    5.277,
                    4.652,
                    5,
                    4.88,
                    5.39,
                    5.713,
                    6.051,
                    5.036,
                    6.193,
                    5.887,
                    6.471,
                    6.405,
                    5.747,
                    5.453,
                    5.852,
                    5.987,
                    6.343,
                    6.404,
                    5.349,
                    5.531,
                    5.683,
                    4.138,
                    5.608,
                    5.617,
                    6.852,
                    5.757,
                    6.657,
                    4.628,
                    5.155,
                    4.519,
                    6.434,
                    6.782,
                    5.304,
                    5.957,
                    6.824,
                    6.411,
                    6.006,
                    5.648,
                    6.103,
                    5.565,
                    5.896,
                    5.837,
                    6.202,
                    6.193,
                    6.38,
                    6.348,
                    6.833,
                    6.425,
                    6.436,
                    6.208,
                    6.629,
                    6.461,
                    6.152,
                    5.935,
                    5.627,
                    5.818,
                    6.406,
                    6.219,
                    6.485,
                    5.854,
                    6.459,
                    6.341,
                    6.251,
                    6.185,
                    6.417,
                    6.749,
                    6.655,
                    6.297,
                    7.393,
                    6.728,
                    6.525,
                    5.976,
                    5.936,
                    6.301,
                    6.081,
                    6.701,
                    6.376,
                    6.317,
                    6.513,
                    6.209,
                    5.759,
                    5.952,
                    6.003,
                    5.926,
                    5.713,
                    6.167,
                    6.229,
                    6.437,
                    6.98,
                    5.427,
                    6.162,
                    6.484,
                    5.304,
                    6.185,
                    6.229,
                    6.242,
                    6.75,
                    7.061,
                    5.762,
                    5.871,
                    6.312,
                    6.114,
                    5.905,
                    5.454,
                    5.414,
                    5.093,
                    5.983,
                    5.983,
                    5.707,
                    5.926,
                    5.67,
                    5.39,
                    5.794,
                    6.019,
                    5.569,
                    6.027,
                    6.593,
                    6.12,
                    6.976,
                    6.794,
                    6.03
                  ],
                  "y0": " ",
                  "yaxis": "y"
                }
              ],
              "layout": {
                "boxmode": "group",
                "legend": {
                  "tracegroupgap": 0
                },
                "margin": {
                  "t": 60
                },
                "template": {
                  "data": {
                    "bar": [
                      {
                        "error_x": {
                          "color": "#2a3f5f"
                        },
                        "error_y": {
                          "color": "#2a3f5f"
                        },
                        "marker": {
                          "line": {
                            "color": "#E5ECF6",
                            "width": 0.5
                          },
                          "pattern": {
                            "fillmode": "overlay",
                            "size": 10,
                            "solidity": 0.2
                          }
                        },
                        "type": "bar"
                      }
                    ],
                    "barpolar": [
                      {
                        "marker": {
                          "line": {
                            "color": "#E5ECF6",
                            "width": 0.5
                          },
                          "pattern": {
                            "fillmode": "overlay",
                            "size": 10,
                            "solidity": 0.2
                          }
                        },
                        "type": "barpolar"
                      }
                    ],
                    "carpet": [
                      {
                        "aaxis": {
                          "endlinecolor": "#2a3f5f",
                          "gridcolor": "white",
                          "linecolor": "white",
                          "minorgridcolor": "white",
                          "startlinecolor": "#2a3f5f"
                        },
                        "baxis": {
                          "endlinecolor": "#2a3f5f",
                          "gridcolor": "white",
                          "linecolor": "white",
                          "minorgridcolor": "white",
                          "startlinecolor": "#2a3f5f"
                        },
                        "type": "carpet"
                      }
                    ],
                    "choropleth": [
                      {
                        "colorbar": {
                          "outlinewidth": 0,
                          "ticks": ""
                        },
                        "type": "choropleth"
                      }
                    ],
                    "contour": [
                      {
                        "colorbar": {
                          "outlinewidth": 0,
                          "ticks": ""
                        },
                        "colorscale": [
                          [
                            0,
                            "#0d0887"
                          ],
                          [
                            0.1111111111111111,
                            "#46039f"
                          ],
                          [
                            0.2222222222222222,
                            "#7201a8"
                          ],
                          [
                            0.3333333333333333,
                            "#9c179e"
                          ],
                          [
                            0.4444444444444444,
                            "#bd3786"
                          ],
                          [
                            0.5555555555555556,
                            "#d8576b"
                          ],
                          [
                            0.6666666666666666,
                            "#ed7953"
                          ],
                          [
                            0.7777777777777778,
                            "#fb9f3a"
                          ],
                          [
                            0.8888888888888888,
                            "#fdca26"
                          ],
                          [
                            1,
                            "#f0f921"
                          ]
                        ],
                        "type": "contour"
                      }
                    ],
                    "contourcarpet": [
                      {
                        "colorbar": {
                          "outlinewidth": 0,
                          "ticks": ""
                        },
                        "type": "contourcarpet"
                      }
                    ],
                    "heatmap": [
                      {
                        "colorbar": {
                          "outlinewidth": 0,
                          "ticks": ""
                        },
                        "colorscale": [
                          [
                            0,
                            "#0d0887"
                          ],
                          [
                            0.1111111111111111,
                            "#46039f"
                          ],
                          [
                            0.2222222222222222,
                            "#7201a8"
                          ],
                          [
                            0.3333333333333333,
                            "#9c179e"
                          ],
                          [
                            0.4444444444444444,
                            "#bd3786"
                          ],
                          [
                            0.5555555555555556,
                            "#d8576b"
                          ],
                          [
                            0.6666666666666666,
                            "#ed7953"
                          ],
                          [
                            0.7777777777777778,
                            "#fb9f3a"
                          ],
                          [
                            0.8888888888888888,
                            "#fdca26"
                          ],
                          [
                            1,
                            "#f0f921"
                          ]
                        ],
                        "type": "heatmap"
                      }
                    ],
                    "heatmapgl": [
                      {
                        "colorbar": {
                          "outlinewidth": 0,
                          "ticks": ""
                        },
                        "colorscale": [
                          [
                            0,
                            "#0d0887"
                          ],
                          [
                            0.1111111111111111,
                            "#46039f"
                          ],
                          [
                            0.2222222222222222,
                            "#7201a8"
                          ],
                          [
                            0.3333333333333333,
                            "#9c179e"
                          ],
                          [
                            0.4444444444444444,
                            "#bd3786"
                          ],
                          [
                            0.5555555555555556,
                            "#d8576b"
                          ],
                          [
                            0.6666666666666666,
                            "#ed7953"
                          ],
                          [
                            0.7777777777777778,
                            "#fb9f3a"
                          ],
                          [
                            0.8888888888888888,
                            "#fdca26"
                          ],
                          [
                            1,
                            "#f0f921"
                          ]
                        ],
                        "type": "heatmapgl"
                      }
                    ],
                    "histogram": [
                      {
                        "marker": {
                          "pattern": {
                            "fillmode": "overlay",
                            "size": 10,
                            "solidity": 0.2
                          }
                        },
                        "type": "histogram"
                      }
                    ],
                    "histogram2d": [
                      {
                        "colorbar": {
                          "outlinewidth": 0,
                          "ticks": ""
                        },
                        "colorscale": [
                          [
                            0,
                            "#0d0887"
                          ],
                          [
                            0.1111111111111111,
                            "#46039f"
                          ],
                          [
                            0.2222222222222222,
                            "#7201a8"
                          ],
                          [
                            0.3333333333333333,
                            "#9c179e"
                          ],
                          [
                            0.4444444444444444,
                            "#bd3786"
                          ],
                          [
                            0.5555555555555556,
                            "#d8576b"
                          ],
                          [
                            0.6666666666666666,
                            "#ed7953"
                          ],
                          [
                            0.7777777777777778,
                            "#fb9f3a"
                          ],
                          [
                            0.8888888888888888,
                            "#fdca26"
                          ],
                          [
                            1,
                            "#f0f921"
                          ]
                        ],
                        "type": "histogram2d"
                      }
                    ],
                    "histogram2dcontour": [
                      {
                        "colorbar": {
                          "outlinewidth": 0,
                          "ticks": ""
                        },
                        "colorscale": [
                          [
                            0,
                            "#0d0887"
                          ],
                          [
                            0.1111111111111111,
                            "#46039f"
                          ],
                          [
                            0.2222222222222222,
                            "#7201a8"
                          ],
                          [
                            0.3333333333333333,
                            "#9c179e"
                          ],
                          [
                            0.4444444444444444,
                            "#bd3786"
                          ],
                          [
                            0.5555555555555556,
                            "#d8576b"
                          ],
                          [
                            0.6666666666666666,
                            "#ed7953"
                          ],
                          [
                            0.7777777777777778,
                            "#fb9f3a"
                          ],
                          [
                            0.8888888888888888,
                            "#fdca26"
                          ],
                          [
                            1,
                            "#f0f921"
                          ]
                        ],
                        "type": "histogram2dcontour"
                      }
                    ],
                    "mesh3d": [
                      {
                        "colorbar": {
                          "outlinewidth": 0,
                          "ticks": ""
                        },
                        "type": "mesh3d"
                      }
                    ],
                    "parcoords": [
                      {
                        "line": {
                          "colorbar": {
                            "outlinewidth": 0,
                            "ticks": ""
                          }
                        },
                        "type": "parcoords"
                      }
                    ],
                    "pie": [
                      {
                        "automargin": true,
                        "type": "pie"
                      }
                    ],
                    "scatter": [
                      {
                        "fillpattern": {
                          "fillmode": "overlay",
                          "size": 10,
                          "solidity": 0.2
                        },
                        "type": "scatter"
                      }
                    ],
                    "scatter3d": [
                      {
                        "line": {
                          "colorbar": {
                            "outlinewidth": 0,
                            "ticks": ""
                          }
                        },
                        "marker": {
                          "colorbar": {
                            "outlinewidth": 0,
                            "ticks": ""
                          }
                        },
                        "type": "scatter3d"
                      }
                    ],
                    "scattercarpet": [
                      {
                        "marker": {
                          "colorbar": {
                            "outlinewidth": 0,
                            "ticks": ""
                          }
                        },
                        "type": "scattercarpet"
                      }
                    ],
                    "scattergeo": [
                      {
                        "marker": {
                          "colorbar": {
                            "outlinewidth": 0,
                            "ticks": ""
                          }
                        },
                        "type": "scattergeo"
                      }
                    ],
                    "scattergl": [
                      {
                        "marker": {
                          "colorbar": {
                            "outlinewidth": 0,
                            "ticks": ""
                          }
                        },
                        "type": "scattergl"
                      }
                    ],
                    "scattermapbox": [
                      {
                        "marker": {
                          "colorbar": {
                            "outlinewidth": 0,
                            "ticks": ""
                          }
                        },
                        "type": "scattermapbox"
                      }
                    ],
                    "scatterpolar": [
                      {
                        "marker": {
                          "colorbar": {
                            "outlinewidth": 0,
                            "ticks": ""
                          }
                        },
                        "type": "scatterpolar"
                      }
                    ],
                    "scatterpolargl": [
                      {
                        "marker": {
                          "colorbar": {
                            "outlinewidth": 0,
                            "ticks": ""
                          }
                        },
                        "type": "scatterpolargl"
                      }
                    ],
                    "scatterternary": [
                      {
                        "marker": {
                          "colorbar": {
                            "outlinewidth": 0,
                            "ticks": ""
                          }
                        },
                        "type": "scatterternary"
                      }
                    ],
                    "surface": [
                      {
                        "colorbar": {
                          "outlinewidth": 0,
                          "ticks": ""
                        },
                        "colorscale": [
                          [
                            0,
                            "#0d0887"
                          ],
                          [
                            0.1111111111111111,
                            "#46039f"
                          ],
                          [
                            0.2222222222222222,
                            "#7201a8"
                          ],
                          [
                            0.3333333333333333,
                            "#9c179e"
                          ],
                          [
                            0.4444444444444444,
                            "#bd3786"
                          ],
                          [
                            0.5555555555555556,
                            "#d8576b"
                          ],
                          [
                            0.6666666666666666,
                            "#ed7953"
                          ],
                          [
                            0.7777777777777778,
                            "#fb9f3a"
                          ],
                          [
                            0.8888888888888888,
                            "#fdca26"
                          ],
                          [
                            1,
                            "#f0f921"
                          ]
                        ],
                        "type": "surface"
                      }
                    ],
                    "table": [
                      {
                        "cells": {
                          "fill": {
                            "color": "#EBF0F8"
                          },
                          "line": {
                            "color": "white"
                          }
                        },
                        "header": {
                          "fill": {
                            "color": "#C8D4E3"
                          },
                          "line": {
                            "color": "white"
                          }
                        },
                        "type": "table"
                      }
                    ]
                  },
                  "layout": {
                    "annotationdefaults": {
                      "arrowcolor": "#2a3f5f",
                      "arrowhead": 0,
                      "arrowwidth": 1
                    },
                    "autotypenumbers": "strict",
                    "coloraxis": {
                      "colorbar": {
                        "outlinewidth": 0,
                        "ticks": ""
                      }
                    },
                    "colorscale": {
                      "diverging": [
                        [
                          0,
                          "#8e0152"
                        ],
                        [
                          0.1,
                          "#c51b7d"
                        ],
                        [
                          0.2,
                          "#de77ae"
                        ],
                        [
                          0.3,
                          "#f1b6da"
                        ],
                        [
                          0.4,
                          "#fde0ef"
                        ],
                        [
                          0.5,
                          "#f7f7f7"
                        ],
                        [
                          0.6,
                          "#e6f5d0"
                        ],
                        [
                          0.7,
                          "#b8e186"
                        ],
                        [
                          0.8,
                          "#7fbc41"
                        ],
                        [
                          0.9,
                          "#4d9221"
                        ],
                        [
                          1,
                          "#276419"
                        ]
                      ],
                      "sequential": [
                        [
                          0,
                          "#0d0887"
                        ],
                        [
                          0.1111111111111111,
                          "#46039f"
                        ],
                        [
                          0.2222222222222222,
                          "#7201a8"
                        ],
                        [
                          0.3333333333333333,
                          "#9c179e"
                        ],
                        [
                          0.4444444444444444,
                          "#bd3786"
                        ],
                        [
                          0.5555555555555556,
                          "#d8576b"
                        ],
                        [
                          0.6666666666666666,
                          "#ed7953"
                        ],
                        [
                          0.7777777777777778,
                          "#fb9f3a"
                        ],
                        [
                          0.8888888888888888,
                          "#fdca26"
                        ],
                        [
                          1,
                          "#f0f921"
                        ]
                      ],
                      "sequentialminus": [
                        [
                          0,
                          "#0d0887"
                        ],
                        [
                          0.1111111111111111,
                          "#46039f"
                        ],
                        [
                          0.2222222222222222,
                          "#7201a8"
                        ],
                        [
                          0.3333333333333333,
                          "#9c179e"
                        ],
                        [
                          0.4444444444444444,
                          "#bd3786"
                        ],
                        [
                          0.5555555555555556,
                          "#d8576b"
                        ],
                        [
                          0.6666666666666666,
                          "#ed7953"
                        ],
                        [
                          0.7777777777777778,
                          "#fb9f3a"
                        ],
                        [
                          0.8888888888888888,
                          "#fdca26"
                        ],
                        [
                          1,
                          "#f0f921"
                        ]
                      ]
                    },
                    "colorway": [
                      "#636efa",
                      "#EF553B",
                      "#00cc96",
                      "#ab63fa",
                      "#FFA15A",
                      "#19d3f3",
                      "#FF6692",
                      "#B6E880",
                      "#FF97FF",
                      "#FECB52"
                    ],
                    "font": {
                      "color": "#2a3f5f"
                    },
                    "geo": {
                      "bgcolor": "white",
                      "lakecolor": "white",
                      "landcolor": "#E5ECF6",
                      "showlakes": true,
                      "showland": true,
                      "subunitcolor": "white"
                    },
                    "hoverlabel": {
                      "align": "left"
                    },
                    "hovermode": "closest",
                    "mapbox": {
                      "style": "light"
                    },
                    "paper_bgcolor": "white",
                    "plot_bgcolor": "#E5ECF6",
                    "polar": {
                      "angularaxis": {
                        "gridcolor": "white",
                        "linecolor": "white",
                        "ticks": ""
                      },
                      "bgcolor": "#E5ECF6",
                      "radialaxis": {
                        "gridcolor": "white",
                        "linecolor": "white",
                        "ticks": ""
                      }
                    },
                    "scene": {
                      "xaxis": {
                        "backgroundcolor": "#E5ECF6",
                        "gridcolor": "white",
                        "gridwidth": 2,
                        "linecolor": "white",
                        "showbackground": true,
                        "ticks": "",
                        "zerolinecolor": "white"
                      },
                      "yaxis": {
                        "backgroundcolor": "#E5ECF6",
                        "gridcolor": "white",
                        "gridwidth": 2,
                        "linecolor": "white",
                        "showbackground": true,
                        "ticks": "",
                        "zerolinecolor": "white"
                      },
                      "zaxis": {
                        "backgroundcolor": "#E5ECF6",
                        "gridcolor": "white",
                        "gridwidth": 2,
                        "linecolor": "white",
                        "showbackground": true,
                        "ticks": "",
                        "zerolinecolor": "white"
                      }
                    },
                    "shapedefaults": {
                      "line": {
                        "color": "#2a3f5f"
                      }
                    },
                    "ternary": {
                      "aaxis": {
                        "gridcolor": "white",
                        "linecolor": "white",
                        "ticks": ""
                      },
                      "baxis": {
                        "gridcolor": "white",
                        "linecolor": "white",
                        "ticks": ""
                      },
                      "bgcolor": "#E5ECF6",
                      "caxis": {
                        "gridcolor": "white",
                        "linecolor": "white",
                        "ticks": ""
                      }
                    },
                    "title": {
                      "x": 0.05
                    },
                    "xaxis": {
                      "automargin": true,
                      "gridcolor": "white",
                      "linecolor": "white",
                      "ticks": "",
                      "title": {
                        "standoff": 15
                      },
                      "zerolinecolor": "white",
                      "zerolinewidth": 2
                    },
                    "yaxis": {
                      "automargin": true,
                      "gridcolor": "white",
                      "linecolor": "white",
                      "ticks": "",
                      "title": {
                        "standoff": 15
                      },
                      "zerolinecolor": "white",
                      "zerolinewidth": 2
                    }
                  }
                },
                "xaxis": {
                  "anchor": "y",
                  "domain": [
                    0,
                    1
                  ]
                },
                "yaxis": {
                  "anchor": "x",
                  "domain": [
                    0,
                    1
                  ],
                  "title": {
                    "text": "RM"
                  }
                }
              }
            }
          },
          "metadata": {},
          "output_type": "display_data"
        }
      ],
      "source": [
        "boxplot = px.box(df, y=\"RM\")\n",
        "boxplot.show()"
      ]
    },
    {
      "cell_type": "code",
      "execution_count": 15,
      "metadata": {
        "colab": {
          "base_uri": "https://localhost:8080/",
          "height": 542
        },
        "id": "QNJ0er6fROyJ",
        "outputId": "7b769dcd-3757-4baa-990c-ad7ed1c0a290"
      },
      "outputs": [
        {
          "data": {
            "application/vnd.plotly.v1+json": {
              "config": {
                "plotlyServerURL": "https://plot.ly"
              },
              "data": [
                {
                  "alignmentgroup": "True",
                  "hovertemplate": "LSTAT=%{y}<extra></extra>",
                  "legendgroup": "",
                  "marker": {
                    "color": "#636efa"
                  },
                  "name": "",
                  "notched": false,
                  "offsetgroup": "",
                  "orientation": "v",
                  "showlegend": false,
                  "type": "box",
                  "x0": " ",
                  "xaxis": "x",
                  "y": [
                    4.98,
                    9.14,
                    4.03,
                    2.94,
                    5.33,
                    5.21,
                    12.43,
                    19.15,
                    29.93,
                    17.1,
                    20.45,
                    13.27,
                    15.71,
                    8.26,
                    10.26,
                    8.47,
                    6.58,
                    14.67,
                    11.69,
                    11.28,
                    21.02,
                    13.83,
                    18.72,
                    19.88,
                    16.3,
                    16.51,
                    14.81,
                    17.28,
                    12.8,
                    11.98,
                    22.6,
                    13.04,
                    27.71,
                    18.35,
                    20.34,
                    9.68,
                    11.41,
                    8.77,
                    10.13,
                    4.32,
                    1.98,
                    4.84,
                    5.81,
                    7.44,
                    9.55,
                    10.21,
                    14.15,
                    18.8,
                    30.81,
                    16.2,
                    13.45,
                    9.43,
                    5.28,
                    8.43,
                    14.8,
                    4.81,
                    5.77,
                    3.95,
                    6.86,
                    9.22,
                    13.15,
                    14.44,
                    6.73,
                    9.5,
                    8.05,
                    4.67,
                    10.24,
                    8.1,
                    13.09,
                    8.79,
                    6.72,
                    9.88,
                    5.52,
                    7.54,
                    6.78,
                    8.94,
                    11.97,
                    10.27,
                    12.34,
                    9.1,
                    5.29,
                    7.22,
                    6.72,
                    7.51,
                    9.62,
                    6.53,
                    12.86,
                    8.44,
                    5.5,
                    5.7,
                    8.81,
                    8.2,
                    8.16,
                    6.21,
                    10.59,
                    6.65,
                    11.34,
                    4.21,
                    3.57,
                    6.19,
                    9.42,
                    7.67,
                    10.63,
                    13.44,
                    12.33,
                    16.47,
                    18.66,
                    14.09,
                    12.27,
                    15.55,
                    13,
                    10.16,
                    16.21,
                    17.09,
                    10.45,
                    15.76,
                    12.04,
                    10.3,
                    15.37,
                    13.61,
                    14.37,
                    14.27,
                    17.93,
                    25.41,
                    17.58,
                    14.81,
                    27.26,
                    17.19,
                    15.39,
                    18.34,
                    12.6,
                    12.26,
                    11.12,
                    15.03,
                    17.31,
                    16.96,
                    16.9,
                    14.59,
                    21.32,
                    18.46,
                    24.16,
                    34.41,
                    26.82,
                    26.42,
                    29.29,
                    27.8,
                    16.65,
                    29.53,
                    28.32,
                    21.45,
                    14.1,
                    13.28,
                    12.12,
                    15.79,
                    15.12,
                    15.02,
                    16.14,
                    4.59,
                    6.43,
                    7.39,
                    5.5,
                    11.64,
                    9.81,
                    12.14,
                    11.1,
                    11.32,
                    14.43,
                    12.03,
                    14.69,
                    9.04,
                    9.64,
                    5.33,
                    10.11,
                    6.29,
                    6.92,
                    5.04,
                    7.56,
                    9.45,
                    4.82,
                    5.68,
                    13.98,
                    13.15,
                    6.68,
                    4.56,
                    5.39,
                    5.1,
                    4.69,
                    2.87,
                    5.03,
                    4.38,
                    4.08,
                    8.61,
                    6.62,
                    4.56,
                    4.45,
                    7.43,
                    3.11,
                    3.81,
                    10.87,
                    10.97,
                    18.06,
                    14.66,
                    23.09,
                    17.27,
                    23.98,
                    16.03,
                    9.38,
                    29.55,
                    9.47,
                    13.51,
                    9.69,
                    17.92,
                    10.5,
                    9.71,
                    21.46,
                    9.93,
                    7.6,
                    4.14,
                    3.13,
                    6.36,
                    3.92,
                    3.76,
                    11.65,
                    5.25,
                    2.47,
                    3.95,
                    8.05,
                    10.88,
                    9.54,
                    4.73,
                    6.36,
                    7.37,
                    11.38,
                    12.4,
                    11.22,
                    5.19,
                    12.5,
                    18.46,
                    9.16,
                    10.15,
                    9.52,
                    6.56,
                    5.9,
                    3.59,
                    3.53,
                    3.54,
                    6.57,
                    9.25,
                    3.11,
                    7.79,
                    6.9,
                    9.59,
                    7.26,
                    5.91,
                    11.25,
                    8.1,
                    10.45,
                    14.79,
                    3.16,
                    13.65,
                    13,
                    6.59,
                    7.73,
                    6.58,
                    3.53,
                    2.98,
                    6.05,
                    4.16,
                    7.19,
                    4.85,
                    3.76,
                    4.59,
                    3.01,
                    7.85,
                    8.23,
                    12.93,
                    7.14,
                    7.6,
                    9.51,
                    3.33,
                    3.56,
                    4.7,
                    8.58,
                    10.4,
                    6.27,
                    7.39,
                    15.84,
                    4.97,
                    4.74,
                    6.07,
                    9.5,
                    8.67,
                    4.86,
                    6.93,
                    8.93,
                    6.47,
                    7.53,
                    4.54,
                    9.97,
                    12.64,
                    5.98,
                    11.72,
                    7.9,
                    9.28,
                    11.5,
                    18.33,
                    15.94,
                    10.36,
                    12.73,
                    7.2,
                    6.87,
                    7.7,
                    11.74,
                    6.12,
                    5.08,
                    6.15,
                    12.79,
                    9.97,
                    7.34,
                    9.09,
                    12.43,
                    7.83,
                    5.68,
                    6.75,
                    8.01,
                    9.8,
                    10.56,
                    8.51,
                    9.74,
                    9.29,
                    5.49,
                    8.65,
                    7.18,
                    4.61,
                    10.53,
                    12.67,
                    6.36,
                    5.99,
                    5.89,
                    5.98,
                    5.49,
                    7.79,
                    4.5,
                    8.05,
                    5.57,
                    17.6,
                    13.27,
                    11.48,
                    12.67,
                    7.79,
                    14.19,
                    10.19,
                    14.64,
                    7.12,
                    14,
                    13.33,
                    34.77,
                    37.97,
                    13.44,
                    23.24,
                    21.24,
                    23.69,
                    21.78,
                    17.21,
                    21.08,
                    23.6,
                    24.56,
                    30.63,
                    30.81,
                    28.28,
                    31.99,
                    30.62,
                    20.85,
                    17.11,
                    18.76,
                    25.68,
                    15.17,
                    16.35,
                    17.12,
                    19.37,
                    19.92,
                    30.59,
                    29.97,
                    26.77,
                    20.32,
                    20.31,
                    19.77,
                    27.38,
                    22.98,
                    23.34,
                    12.13,
                    26.4,
                    19.78,
                    10.11,
                    21.22,
                    34.37,
                    20.08,
                    36.98,
                    29.05,
                    25.79,
                    26.64,
                    20.62,
                    22.74,
                    15.02,
                    15.7,
                    14.1,
                    23.29,
                    17.16,
                    24.39,
                    15.69,
                    14.52,
                    21.52,
                    24.08,
                    17.64,
                    19.69,
                    12.03,
                    16.22,
                    15.17,
                    23.27,
                    18.05,
                    26.45,
                    34.02,
                    22.88,
                    22.11,
                    19.52,
                    16.59,
                    18.85,
                    23.79,
                    23.98,
                    17.79,
                    16.44,
                    18.13,
                    19.31,
                    17.44,
                    17.73,
                    17.27,
                    16.74,
                    18.71,
                    18.13,
                    19.01,
                    16.94,
                    16.23,
                    14.7,
                    16.42,
                    14.65,
                    13.99,
                    10.29,
                    13.22,
                    14.13,
                    17.15,
                    21.32,
                    18.13,
                    14.76,
                    16.29,
                    12.87,
                    14.36,
                    11.66,
                    18.14,
                    24.1,
                    18.68,
                    24.91,
                    18.03,
                    13.11,
                    10.74,
                    7.74,
                    7.01,
                    10.42,
                    13.34,
                    10.58,
                    14.98,
                    11.45,
                    18.06,
                    23.97,
                    29.68,
                    18.07,
                    13.35,
                    12.01,
                    13.59,
                    17.6,
                    21.14,
                    14.1,
                    12.92,
                    15.1,
                    14.33,
                    9.67,
                    9.08,
                    5.64,
                    6.48,
                    7.88
                  ],
                  "y0": " ",
                  "yaxis": "y"
                }
              ],
              "layout": {
                "boxmode": "group",
                "legend": {
                  "tracegroupgap": 0
                },
                "margin": {
                  "t": 60
                },
                "template": {
                  "data": {
                    "bar": [
                      {
                        "error_x": {
                          "color": "#2a3f5f"
                        },
                        "error_y": {
                          "color": "#2a3f5f"
                        },
                        "marker": {
                          "line": {
                            "color": "#E5ECF6",
                            "width": 0.5
                          },
                          "pattern": {
                            "fillmode": "overlay",
                            "size": 10,
                            "solidity": 0.2
                          }
                        },
                        "type": "bar"
                      }
                    ],
                    "barpolar": [
                      {
                        "marker": {
                          "line": {
                            "color": "#E5ECF6",
                            "width": 0.5
                          },
                          "pattern": {
                            "fillmode": "overlay",
                            "size": 10,
                            "solidity": 0.2
                          }
                        },
                        "type": "barpolar"
                      }
                    ],
                    "carpet": [
                      {
                        "aaxis": {
                          "endlinecolor": "#2a3f5f",
                          "gridcolor": "white",
                          "linecolor": "white",
                          "minorgridcolor": "white",
                          "startlinecolor": "#2a3f5f"
                        },
                        "baxis": {
                          "endlinecolor": "#2a3f5f",
                          "gridcolor": "white",
                          "linecolor": "white",
                          "minorgridcolor": "white",
                          "startlinecolor": "#2a3f5f"
                        },
                        "type": "carpet"
                      }
                    ],
                    "choropleth": [
                      {
                        "colorbar": {
                          "outlinewidth": 0,
                          "ticks": ""
                        },
                        "type": "choropleth"
                      }
                    ],
                    "contour": [
                      {
                        "colorbar": {
                          "outlinewidth": 0,
                          "ticks": ""
                        },
                        "colorscale": [
                          [
                            0,
                            "#0d0887"
                          ],
                          [
                            0.1111111111111111,
                            "#46039f"
                          ],
                          [
                            0.2222222222222222,
                            "#7201a8"
                          ],
                          [
                            0.3333333333333333,
                            "#9c179e"
                          ],
                          [
                            0.4444444444444444,
                            "#bd3786"
                          ],
                          [
                            0.5555555555555556,
                            "#d8576b"
                          ],
                          [
                            0.6666666666666666,
                            "#ed7953"
                          ],
                          [
                            0.7777777777777778,
                            "#fb9f3a"
                          ],
                          [
                            0.8888888888888888,
                            "#fdca26"
                          ],
                          [
                            1,
                            "#f0f921"
                          ]
                        ],
                        "type": "contour"
                      }
                    ],
                    "contourcarpet": [
                      {
                        "colorbar": {
                          "outlinewidth": 0,
                          "ticks": ""
                        },
                        "type": "contourcarpet"
                      }
                    ],
                    "heatmap": [
                      {
                        "colorbar": {
                          "outlinewidth": 0,
                          "ticks": ""
                        },
                        "colorscale": [
                          [
                            0,
                            "#0d0887"
                          ],
                          [
                            0.1111111111111111,
                            "#46039f"
                          ],
                          [
                            0.2222222222222222,
                            "#7201a8"
                          ],
                          [
                            0.3333333333333333,
                            "#9c179e"
                          ],
                          [
                            0.4444444444444444,
                            "#bd3786"
                          ],
                          [
                            0.5555555555555556,
                            "#d8576b"
                          ],
                          [
                            0.6666666666666666,
                            "#ed7953"
                          ],
                          [
                            0.7777777777777778,
                            "#fb9f3a"
                          ],
                          [
                            0.8888888888888888,
                            "#fdca26"
                          ],
                          [
                            1,
                            "#f0f921"
                          ]
                        ],
                        "type": "heatmap"
                      }
                    ],
                    "heatmapgl": [
                      {
                        "colorbar": {
                          "outlinewidth": 0,
                          "ticks": ""
                        },
                        "colorscale": [
                          [
                            0,
                            "#0d0887"
                          ],
                          [
                            0.1111111111111111,
                            "#46039f"
                          ],
                          [
                            0.2222222222222222,
                            "#7201a8"
                          ],
                          [
                            0.3333333333333333,
                            "#9c179e"
                          ],
                          [
                            0.4444444444444444,
                            "#bd3786"
                          ],
                          [
                            0.5555555555555556,
                            "#d8576b"
                          ],
                          [
                            0.6666666666666666,
                            "#ed7953"
                          ],
                          [
                            0.7777777777777778,
                            "#fb9f3a"
                          ],
                          [
                            0.8888888888888888,
                            "#fdca26"
                          ],
                          [
                            1,
                            "#f0f921"
                          ]
                        ],
                        "type": "heatmapgl"
                      }
                    ],
                    "histogram": [
                      {
                        "marker": {
                          "pattern": {
                            "fillmode": "overlay",
                            "size": 10,
                            "solidity": 0.2
                          }
                        },
                        "type": "histogram"
                      }
                    ],
                    "histogram2d": [
                      {
                        "colorbar": {
                          "outlinewidth": 0,
                          "ticks": ""
                        },
                        "colorscale": [
                          [
                            0,
                            "#0d0887"
                          ],
                          [
                            0.1111111111111111,
                            "#46039f"
                          ],
                          [
                            0.2222222222222222,
                            "#7201a8"
                          ],
                          [
                            0.3333333333333333,
                            "#9c179e"
                          ],
                          [
                            0.4444444444444444,
                            "#bd3786"
                          ],
                          [
                            0.5555555555555556,
                            "#d8576b"
                          ],
                          [
                            0.6666666666666666,
                            "#ed7953"
                          ],
                          [
                            0.7777777777777778,
                            "#fb9f3a"
                          ],
                          [
                            0.8888888888888888,
                            "#fdca26"
                          ],
                          [
                            1,
                            "#f0f921"
                          ]
                        ],
                        "type": "histogram2d"
                      }
                    ],
                    "histogram2dcontour": [
                      {
                        "colorbar": {
                          "outlinewidth": 0,
                          "ticks": ""
                        },
                        "colorscale": [
                          [
                            0,
                            "#0d0887"
                          ],
                          [
                            0.1111111111111111,
                            "#46039f"
                          ],
                          [
                            0.2222222222222222,
                            "#7201a8"
                          ],
                          [
                            0.3333333333333333,
                            "#9c179e"
                          ],
                          [
                            0.4444444444444444,
                            "#bd3786"
                          ],
                          [
                            0.5555555555555556,
                            "#d8576b"
                          ],
                          [
                            0.6666666666666666,
                            "#ed7953"
                          ],
                          [
                            0.7777777777777778,
                            "#fb9f3a"
                          ],
                          [
                            0.8888888888888888,
                            "#fdca26"
                          ],
                          [
                            1,
                            "#f0f921"
                          ]
                        ],
                        "type": "histogram2dcontour"
                      }
                    ],
                    "mesh3d": [
                      {
                        "colorbar": {
                          "outlinewidth": 0,
                          "ticks": ""
                        },
                        "type": "mesh3d"
                      }
                    ],
                    "parcoords": [
                      {
                        "line": {
                          "colorbar": {
                            "outlinewidth": 0,
                            "ticks": ""
                          }
                        },
                        "type": "parcoords"
                      }
                    ],
                    "pie": [
                      {
                        "automargin": true,
                        "type": "pie"
                      }
                    ],
                    "scatter": [
                      {
                        "fillpattern": {
                          "fillmode": "overlay",
                          "size": 10,
                          "solidity": 0.2
                        },
                        "type": "scatter"
                      }
                    ],
                    "scatter3d": [
                      {
                        "line": {
                          "colorbar": {
                            "outlinewidth": 0,
                            "ticks": ""
                          }
                        },
                        "marker": {
                          "colorbar": {
                            "outlinewidth": 0,
                            "ticks": ""
                          }
                        },
                        "type": "scatter3d"
                      }
                    ],
                    "scattercarpet": [
                      {
                        "marker": {
                          "colorbar": {
                            "outlinewidth": 0,
                            "ticks": ""
                          }
                        },
                        "type": "scattercarpet"
                      }
                    ],
                    "scattergeo": [
                      {
                        "marker": {
                          "colorbar": {
                            "outlinewidth": 0,
                            "ticks": ""
                          }
                        },
                        "type": "scattergeo"
                      }
                    ],
                    "scattergl": [
                      {
                        "marker": {
                          "colorbar": {
                            "outlinewidth": 0,
                            "ticks": ""
                          }
                        },
                        "type": "scattergl"
                      }
                    ],
                    "scattermapbox": [
                      {
                        "marker": {
                          "colorbar": {
                            "outlinewidth": 0,
                            "ticks": ""
                          }
                        },
                        "type": "scattermapbox"
                      }
                    ],
                    "scatterpolar": [
                      {
                        "marker": {
                          "colorbar": {
                            "outlinewidth": 0,
                            "ticks": ""
                          }
                        },
                        "type": "scatterpolar"
                      }
                    ],
                    "scatterpolargl": [
                      {
                        "marker": {
                          "colorbar": {
                            "outlinewidth": 0,
                            "ticks": ""
                          }
                        },
                        "type": "scatterpolargl"
                      }
                    ],
                    "scatterternary": [
                      {
                        "marker": {
                          "colorbar": {
                            "outlinewidth": 0,
                            "ticks": ""
                          }
                        },
                        "type": "scatterternary"
                      }
                    ],
                    "surface": [
                      {
                        "colorbar": {
                          "outlinewidth": 0,
                          "ticks": ""
                        },
                        "colorscale": [
                          [
                            0,
                            "#0d0887"
                          ],
                          [
                            0.1111111111111111,
                            "#46039f"
                          ],
                          [
                            0.2222222222222222,
                            "#7201a8"
                          ],
                          [
                            0.3333333333333333,
                            "#9c179e"
                          ],
                          [
                            0.4444444444444444,
                            "#bd3786"
                          ],
                          [
                            0.5555555555555556,
                            "#d8576b"
                          ],
                          [
                            0.6666666666666666,
                            "#ed7953"
                          ],
                          [
                            0.7777777777777778,
                            "#fb9f3a"
                          ],
                          [
                            0.8888888888888888,
                            "#fdca26"
                          ],
                          [
                            1,
                            "#f0f921"
                          ]
                        ],
                        "type": "surface"
                      }
                    ],
                    "table": [
                      {
                        "cells": {
                          "fill": {
                            "color": "#EBF0F8"
                          },
                          "line": {
                            "color": "white"
                          }
                        },
                        "header": {
                          "fill": {
                            "color": "#C8D4E3"
                          },
                          "line": {
                            "color": "white"
                          }
                        },
                        "type": "table"
                      }
                    ]
                  },
                  "layout": {
                    "annotationdefaults": {
                      "arrowcolor": "#2a3f5f",
                      "arrowhead": 0,
                      "arrowwidth": 1
                    },
                    "autotypenumbers": "strict",
                    "coloraxis": {
                      "colorbar": {
                        "outlinewidth": 0,
                        "ticks": ""
                      }
                    },
                    "colorscale": {
                      "diverging": [
                        [
                          0,
                          "#8e0152"
                        ],
                        [
                          0.1,
                          "#c51b7d"
                        ],
                        [
                          0.2,
                          "#de77ae"
                        ],
                        [
                          0.3,
                          "#f1b6da"
                        ],
                        [
                          0.4,
                          "#fde0ef"
                        ],
                        [
                          0.5,
                          "#f7f7f7"
                        ],
                        [
                          0.6,
                          "#e6f5d0"
                        ],
                        [
                          0.7,
                          "#b8e186"
                        ],
                        [
                          0.8,
                          "#7fbc41"
                        ],
                        [
                          0.9,
                          "#4d9221"
                        ],
                        [
                          1,
                          "#276419"
                        ]
                      ],
                      "sequential": [
                        [
                          0,
                          "#0d0887"
                        ],
                        [
                          0.1111111111111111,
                          "#46039f"
                        ],
                        [
                          0.2222222222222222,
                          "#7201a8"
                        ],
                        [
                          0.3333333333333333,
                          "#9c179e"
                        ],
                        [
                          0.4444444444444444,
                          "#bd3786"
                        ],
                        [
                          0.5555555555555556,
                          "#d8576b"
                        ],
                        [
                          0.6666666666666666,
                          "#ed7953"
                        ],
                        [
                          0.7777777777777778,
                          "#fb9f3a"
                        ],
                        [
                          0.8888888888888888,
                          "#fdca26"
                        ],
                        [
                          1,
                          "#f0f921"
                        ]
                      ],
                      "sequentialminus": [
                        [
                          0,
                          "#0d0887"
                        ],
                        [
                          0.1111111111111111,
                          "#46039f"
                        ],
                        [
                          0.2222222222222222,
                          "#7201a8"
                        ],
                        [
                          0.3333333333333333,
                          "#9c179e"
                        ],
                        [
                          0.4444444444444444,
                          "#bd3786"
                        ],
                        [
                          0.5555555555555556,
                          "#d8576b"
                        ],
                        [
                          0.6666666666666666,
                          "#ed7953"
                        ],
                        [
                          0.7777777777777778,
                          "#fb9f3a"
                        ],
                        [
                          0.8888888888888888,
                          "#fdca26"
                        ],
                        [
                          1,
                          "#f0f921"
                        ]
                      ]
                    },
                    "colorway": [
                      "#636efa",
                      "#EF553B",
                      "#00cc96",
                      "#ab63fa",
                      "#FFA15A",
                      "#19d3f3",
                      "#FF6692",
                      "#B6E880",
                      "#FF97FF",
                      "#FECB52"
                    ],
                    "font": {
                      "color": "#2a3f5f"
                    },
                    "geo": {
                      "bgcolor": "white",
                      "lakecolor": "white",
                      "landcolor": "#E5ECF6",
                      "showlakes": true,
                      "showland": true,
                      "subunitcolor": "white"
                    },
                    "hoverlabel": {
                      "align": "left"
                    },
                    "hovermode": "closest",
                    "mapbox": {
                      "style": "light"
                    },
                    "paper_bgcolor": "white",
                    "plot_bgcolor": "#E5ECF6",
                    "polar": {
                      "angularaxis": {
                        "gridcolor": "white",
                        "linecolor": "white",
                        "ticks": ""
                      },
                      "bgcolor": "#E5ECF6",
                      "radialaxis": {
                        "gridcolor": "white",
                        "linecolor": "white",
                        "ticks": ""
                      }
                    },
                    "scene": {
                      "xaxis": {
                        "backgroundcolor": "#E5ECF6",
                        "gridcolor": "white",
                        "gridwidth": 2,
                        "linecolor": "white",
                        "showbackground": true,
                        "ticks": "",
                        "zerolinecolor": "white"
                      },
                      "yaxis": {
                        "backgroundcolor": "#E5ECF6",
                        "gridcolor": "white",
                        "gridwidth": 2,
                        "linecolor": "white",
                        "showbackground": true,
                        "ticks": "",
                        "zerolinecolor": "white"
                      },
                      "zaxis": {
                        "backgroundcolor": "#E5ECF6",
                        "gridcolor": "white",
                        "gridwidth": 2,
                        "linecolor": "white",
                        "showbackground": true,
                        "ticks": "",
                        "zerolinecolor": "white"
                      }
                    },
                    "shapedefaults": {
                      "line": {
                        "color": "#2a3f5f"
                      }
                    },
                    "ternary": {
                      "aaxis": {
                        "gridcolor": "white",
                        "linecolor": "white",
                        "ticks": ""
                      },
                      "baxis": {
                        "gridcolor": "white",
                        "linecolor": "white",
                        "ticks": ""
                      },
                      "bgcolor": "#E5ECF6",
                      "caxis": {
                        "gridcolor": "white",
                        "linecolor": "white",
                        "ticks": ""
                      }
                    },
                    "title": {
                      "x": 0.05
                    },
                    "xaxis": {
                      "automargin": true,
                      "gridcolor": "white",
                      "linecolor": "white",
                      "ticks": "",
                      "title": {
                        "standoff": 15
                      },
                      "zerolinecolor": "white",
                      "zerolinewidth": 2
                    },
                    "yaxis": {
                      "automargin": true,
                      "gridcolor": "white",
                      "linecolor": "white",
                      "ticks": "",
                      "title": {
                        "standoff": 15
                      },
                      "zerolinecolor": "white",
                      "zerolinewidth": 2
                    }
                  }
                },
                "xaxis": {
                  "anchor": "y",
                  "domain": [
                    0,
                    1
                  ]
                },
                "yaxis": {
                  "anchor": "x",
                  "domain": [
                    0,
                    1
                  ],
                  "title": {
                    "text": "LSTAT"
                  }
                }
              }
            }
          },
          "metadata": {},
          "output_type": "display_data"
        }
      ],
      "source": [
        "boxplot = px.box(df, y=\"LSTAT\")\n",
        "boxplot.show()"
      ]
    },
    {
      "cell_type": "code",
      "execution_count": 16,
      "metadata": {
        "colab": {
          "base_uri": "https://localhost:8080/",
          "height": 542
        },
        "id": "xQXSjXoSRqTg",
        "outputId": "d34bd5f0-74a2-4f53-da76-447002e08a6f"
      },
      "outputs": [
        {
          "data": {
            "application/vnd.plotly.v1+json": {
              "config": {
                "plotlyServerURL": "https://plot.ly"
              },
              "data": [
                {
                  "alignmentgroup": "True",
                  "hovertemplate": "PTRATIO=%{y}<extra></extra>",
                  "legendgroup": "",
                  "marker": {
                    "color": "#636efa"
                  },
                  "name": "",
                  "notched": false,
                  "offsetgroup": "",
                  "orientation": "v",
                  "showlegend": false,
                  "type": "box",
                  "x0": " ",
                  "xaxis": "x",
                  "y": [
                    15.3,
                    17.8,
                    17.8,
                    18.7,
                    18.7,
                    18.7,
                    15.2,
                    15.2,
                    15.2,
                    15.2,
                    15.2,
                    15.2,
                    15.2,
                    21,
                    21,
                    21,
                    21,
                    21,
                    21,
                    21,
                    21,
                    21,
                    21,
                    21,
                    21,
                    21,
                    21,
                    21,
                    21,
                    21,
                    21,
                    21,
                    21,
                    21,
                    21,
                    19.2,
                    19.2,
                    19.2,
                    19.2,
                    18.3,
                    18.3,
                    17.9,
                    17.9,
                    17.9,
                    17.9,
                    17.9,
                    17.9,
                    17.9,
                    17.9,
                    17.9,
                    16.8,
                    16.8,
                    16.8,
                    16.8,
                    21.1,
                    17.9,
                    17.3,
                    15.1,
                    19.7,
                    19.7,
                    19.7,
                    19.7,
                    19.7,
                    19.7,
                    18.6,
                    16.1,
                    16.1,
                    18.9,
                    18.9,
                    18.9,
                    19.2,
                    19.2,
                    19.2,
                    19.2,
                    18.7,
                    18.7,
                    18.7,
                    18.7,
                    18.7,
                    18.7,
                    19,
                    19,
                    19,
                    19,
                    18.5,
                    18.5,
                    18.5,
                    18.5,
                    17.8,
                    17.8,
                    17.8,
                    17.8,
                    18.2,
                    18.2,
                    18.2,
                    18,
                    18,
                    18,
                    18,
                    18,
                    20.9,
                    20.9,
                    20.9,
                    20.9,
                    20.9,
                    20.9,
                    20.9,
                    20.9,
                    20.9,
                    20.9,
                    20.9,
                    17.8,
                    17.8,
                    17.8,
                    17.8,
                    17.8,
                    17.8,
                    17.8,
                    17.8,
                    17.8,
                    19.1,
                    19.1,
                    19.1,
                    19.1,
                    19.1,
                    19.1,
                    19.1,
                    21.2,
                    21.2,
                    21.2,
                    21.2,
                    21.2,
                    21.2,
                    21.2,
                    21.2,
                    21.2,
                    21.2,
                    21.2,
                    21.2,
                    21.2,
                    21.2,
                    21.2,
                    14.7,
                    14.7,
                    14.7,
                    14.7,
                    14.7,
                    14.7,
                    14.7,
                    14.7,
                    14.7,
                    14.7,
                    14.7,
                    14.7,
                    14.7,
                    14.7,
                    14.7,
                    14.7,
                    14.7,
                    14.7,
                    14.7,
                    14.7,
                    14.7,
                    14.7,
                    14.7,
                    14.7,
                    14.7,
                    14.7,
                    16.6,
                    16.6,
                    16.6,
                    16.6,
                    16.6,
                    16.6,
                    16.6,
                    17.8,
                    17.8,
                    17.8,
                    17.8,
                    17.8,
                    17.8,
                    17.8,
                    15.2,
                    15.2,
                    15.2,
                    15.2,
                    15.2,
                    15.2,
                    15.6,
                    15.6,
                    12.6,
                    12.6,
                    12.6,
                    17,
                    17,
                    14.7,
                    14.7,
                    14.7,
                    18.6,
                    18.6,
                    18.6,
                    18.6,
                    18.6,
                    18.6,
                    18.6,
                    18.6,
                    18.6,
                    18.6,
                    18.6,
                    16.4,
                    16.4,
                    16.4,
                    16.4,
                    17.4,
                    17.4,
                    17.4,
                    17.4,
                    17.4,
                    17.4,
                    17.4,
                    17.4,
                    17.4,
                    17.4,
                    17.4,
                    17.4,
                    17.4,
                    17.4,
                    17.4,
                    17.4,
                    17.4,
                    16.6,
                    16.6,
                    16.6,
                    16.6,
                    16.6,
                    16.6,
                    19.1,
                    19.1,
                    19.1,
                    19.1,
                    19.1,
                    19.1,
                    19.1,
                    19.1,
                    19.1,
                    19.1,
                    16.4,
                    16.4,
                    15.9,
                    13,
                    13,
                    13,
                    13,
                    13,
                    13,
                    13,
                    13,
                    13,
                    13,
                    18.6,
                    18.6,
                    18.6,
                    18.6,
                    18.6,
                    17.6,
                    17.6,
                    17.6,
                    17.6,
                    17.6,
                    14.9,
                    14.9,
                    14.9,
                    14.9,
                    15.3,
                    15.3,
                    18.2,
                    16.6,
                    16.6,
                    16.6,
                    19.2,
                    19.2,
                    19.2,
                    16,
                    16,
                    16,
                    16,
                    16,
                    14.8,
                    14.8,
                    14.8,
                    16.1,
                    16.1,
                    16.1,
                    18.4,
                    18.4,
                    18.4,
                    18.4,
                    18.4,
                    18.4,
                    18.4,
                    18.4,
                    18.4,
                    18.4,
                    18.4,
                    18.4,
                    18.4,
                    18.4,
                    18.4,
                    18.4,
                    19.6,
                    19.6,
                    19.6,
                    19.6,
                    19.6,
                    19.6,
                    19.6,
                    19.6,
                    16.9,
                    16.9,
                    16.9,
                    16.9,
                    16.9,
                    20.2,
                    20.2,
                    20.2,
                    20.2,
                    20.2,
                    20.2,
                    20.2,
                    20.2,
                    15.5,
                    15.9,
                    17.6,
                    17.6,
                    18.8,
                    18.8,
                    17.9,
                    17,
                    19.7,
                    19.7,
                    18.3,
                    18.3,
                    17,
                    22,
                    22,
                    20.2,
                    20.2,
                    20.2,
                    20.2,
                    20.2,
                    20.2,
                    20.2,
                    20.2,
                    20.2,
                    20.2,
                    20.2,
                    20.2,
                    20.2,
                    20.2,
                    20.2,
                    20.2,
                    20.2,
                    20.2,
                    20.2,
                    20.2,
                    20.2,
                    20.2,
                    20.2,
                    20.2,
                    20.2,
                    20.2,
                    20.2,
                    20.2,
                    20.2,
                    20.2,
                    20.2,
                    20.2,
                    20.2,
                    20.2,
                    20.2,
                    20.2,
                    20.2,
                    20.2,
                    20.2,
                    20.2,
                    20.2,
                    20.2,
                    20.2,
                    20.2,
                    20.2,
                    20.2,
                    20.2,
                    20.2,
                    20.2,
                    20.2,
                    20.2,
                    20.2,
                    20.2,
                    20.2,
                    20.2,
                    20.2,
                    20.2,
                    20.2,
                    20.2,
                    20.2,
                    20.2,
                    20.2,
                    20.2,
                    20.2,
                    20.2,
                    20.2,
                    20.2,
                    20.2,
                    20.2,
                    20.2,
                    20.2,
                    20.2,
                    20.2,
                    20.2,
                    20.2,
                    20.2,
                    20.2,
                    20.2,
                    20.2,
                    20.2,
                    20.2,
                    20.2,
                    20.2,
                    20.2,
                    20.2,
                    20.2,
                    20.2,
                    20.2,
                    20.2,
                    20.2,
                    20.2,
                    20.2,
                    20.2,
                    20.2,
                    20.2,
                    20.2,
                    20.2,
                    20.2,
                    20.2,
                    20.2,
                    20.2,
                    20.2,
                    20.2,
                    20.2,
                    20.2,
                    20.2,
                    20.2,
                    20.2,
                    20.2,
                    20.2,
                    20.2,
                    20.2,
                    20.2,
                    20.2,
                    20.2,
                    20.2,
                    20.2,
                    20.2,
                    20.2,
                    20.2,
                    20.2,
                    20.2,
                    20.2,
                    20.2,
                    20.2,
                    20.2,
                    20.1,
                    20.1,
                    20.1,
                    20.1,
                    20.1,
                    19.2,
                    19.2,
                    19.2,
                    19.2,
                    19.2,
                    19.2,
                    19.2,
                    19.2,
                    21,
                    21,
                    21,
                    21,
                    21
                  ],
                  "y0": " ",
                  "yaxis": "y"
                }
              ],
              "layout": {
                "boxmode": "group",
                "legend": {
                  "tracegroupgap": 0
                },
                "margin": {
                  "t": 60
                },
                "template": {
                  "data": {
                    "bar": [
                      {
                        "error_x": {
                          "color": "#2a3f5f"
                        },
                        "error_y": {
                          "color": "#2a3f5f"
                        },
                        "marker": {
                          "line": {
                            "color": "#E5ECF6",
                            "width": 0.5
                          },
                          "pattern": {
                            "fillmode": "overlay",
                            "size": 10,
                            "solidity": 0.2
                          }
                        },
                        "type": "bar"
                      }
                    ],
                    "barpolar": [
                      {
                        "marker": {
                          "line": {
                            "color": "#E5ECF6",
                            "width": 0.5
                          },
                          "pattern": {
                            "fillmode": "overlay",
                            "size": 10,
                            "solidity": 0.2
                          }
                        },
                        "type": "barpolar"
                      }
                    ],
                    "carpet": [
                      {
                        "aaxis": {
                          "endlinecolor": "#2a3f5f",
                          "gridcolor": "white",
                          "linecolor": "white",
                          "minorgridcolor": "white",
                          "startlinecolor": "#2a3f5f"
                        },
                        "baxis": {
                          "endlinecolor": "#2a3f5f",
                          "gridcolor": "white",
                          "linecolor": "white",
                          "minorgridcolor": "white",
                          "startlinecolor": "#2a3f5f"
                        },
                        "type": "carpet"
                      }
                    ],
                    "choropleth": [
                      {
                        "colorbar": {
                          "outlinewidth": 0,
                          "ticks": ""
                        },
                        "type": "choropleth"
                      }
                    ],
                    "contour": [
                      {
                        "colorbar": {
                          "outlinewidth": 0,
                          "ticks": ""
                        },
                        "colorscale": [
                          [
                            0,
                            "#0d0887"
                          ],
                          [
                            0.1111111111111111,
                            "#46039f"
                          ],
                          [
                            0.2222222222222222,
                            "#7201a8"
                          ],
                          [
                            0.3333333333333333,
                            "#9c179e"
                          ],
                          [
                            0.4444444444444444,
                            "#bd3786"
                          ],
                          [
                            0.5555555555555556,
                            "#d8576b"
                          ],
                          [
                            0.6666666666666666,
                            "#ed7953"
                          ],
                          [
                            0.7777777777777778,
                            "#fb9f3a"
                          ],
                          [
                            0.8888888888888888,
                            "#fdca26"
                          ],
                          [
                            1,
                            "#f0f921"
                          ]
                        ],
                        "type": "contour"
                      }
                    ],
                    "contourcarpet": [
                      {
                        "colorbar": {
                          "outlinewidth": 0,
                          "ticks": ""
                        },
                        "type": "contourcarpet"
                      }
                    ],
                    "heatmap": [
                      {
                        "colorbar": {
                          "outlinewidth": 0,
                          "ticks": ""
                        },
                        "colorscale": [
                          [
                            0,
                            "#0d0887"
                          ],
                          [
                            0.1111111111111111,
                            "#46039f"
                          ],
                          [
                            0.2222222222222222,
                            "#7201a8"
                          ],
                          [
                            0.3333333333333333,
                            "#9c179e"
                          ],
                          [
                            0.4444444444444444,
                            "#bd3786"
                          ],
                          [
                            0.5555555555555556,
                            "#d8576b"
                          ],
                          [
                            0.6666666666666666,
                            "#ed7953"
                          ],
                          [
                            0.7777777777777778,
                            "#fb9f3a"
                          ],
                          [
                            0.8888888888888888,
                            "#fdca26"
                          ],
                          [
                            1,
                            "#f0f921"
                          ]
                        ],
                        "type": "heatmap"
                      }
                    ],
                    "heatmapgl": [
                      {
                        "colorbar": {
                          "outlinewidth": 0,
                          "ticks": ""
                        },
                        "colorscale": [
                          [
                            0,
                            "#0d0887"
                          ],
                          [
                            0.1111111111111111,
                            "#46039f"
                          ],
                          [
                            0.2222222222222222,
                            "#7201a8"
                          ],
                          [
                            0.3333333333333333,
                            "#9c179e"
                          ],
                          [
                            0.4444444444444444,
                            "#bd3786"
                          ],
                          [
                            0.5555555555555556,
                            "#d8576b"
                          ],
                          [
                            0.6666666666666666,
                            "#ed7953"
                          ],
                          [
                            0.7777777777777778,
                            "#fb9f3a"
                          ],
                          [
                            0.8888888888888888,
                            "#fdca26"
                          ],
                          [
                            1,
                            "#f0f921"
                          ]
                        ],
                        "type": "heatmapgl"
                      }
                    ],
                    "histogram": [
                      {
                        "marker": {
                          "pattern": {
                            "fillmode": "overlay",
                            "size": 10,
                            "solidity": 0.2
                          }
                        },
                        "type": "histogram"
                      }
                    ],
                    "histogram2d": [
                      {
                        "colorbar": {
                          "outlinewidth": 0,
                          "ticks": ""
                        },
                        "colorscale": [
                          [
                            0,
                            "#0d0887"
                          ],
                          [
                            0.1111111111111111,
                            "#46039f"
                          ],
                          [
                            0.2222222222222222,
                            "#7201a8"
                          ],
                          [
                            0.3333333333333333,
                            "#9c179e"
                          ],
                          [
                            0.4444444444444444,
                            "#bd3786"
                          ],
                          [
                            0.5555555555555556,
                            "#d8576b"
                          ],
                          [
                            0.6666666666666666,
                            "#ed7953"
                          ],
                          [
                            0.7777777777777778,
                            "#fb9f3a"
                          ],
                          [
                            0.8888888888888888,
                            "#fdca26"
                          ],
                          [
                            1,
                            "#f0f921"
                          ]
                        ],
                        "type": "histogram2d"
                      }
                    ],
                    "histogram2dcontour": [
                      {
                        "colorbar": {
                          "outlinewidth": 0,
                          "ticks": ""
                        },
                        "colorscale": [
                          [
                            0,
                            "#0d0887"
                          ],
                          [
                            0.1111111111111111,
                            "#46039f"
                          ],
                          [
                            0.2222222222222222,
                            "#7201a8"
                          ],
                          [
                            0.3333333333333333,
                            "#9c179e"
                          ],
                          [
                            0.4444444444444444,
                            "#bd3786"
                          ],
                          [
                            0.5555555555555556,
                            "#d8576b"
                          ],
                          [
                            0.6666666666666666,
                            "#ed7953"
                          ],
                          [
                            0.7777777777777778,
                            "#fb9f3a"
                          ],
                          [
                            0.8888888888888888,
                            "#fdca26"
                          ],
                          [
                            1,
                            "#f0f921"
                          ]
                        ],
                        "type": "histogram2dcontour"
                      }
                    ],
                    "mesh3d": [
                      {
                        "colorbar": {
                          "outlinewidth": 0,
                          "ticks": ""
                        },
                        "type": "mesh3d"
                      }
                    ],
                    "parcoords": [
                      {
                        "line": {
                          "colorbar": {
                            "outlinewidth": 0,
                            "ticks": ""
                          }
                        },
                        "type": "parcoords"
                      }
                    ],
                    "pie": [
                      {
                        "automargin": true,
                        "type": "pie"
                      }
                    ],
                    "scatter": [
                      {
                        "fillpattern": {
                          "fillmode": "overlay",
                          "size": 10,
                          "solidity": 0.2
                        },
                        "type": "scatter"
                      }
                    ],
                    "scatter3d": [
                      {
                        "line": {
                          "colorbar": {
                            "outlinewidth": 0,
                            "ticks": ""
                          }
                        },
                        "marker": {
                          "colorbar": {
                            "outlinewidth": 0,
                            "ticks": ""
                          }
                        },
                        "type": "scatter3d"
                      }
                    ],
                    "scattercarpet": [
                      {
                        "marker": {
                          "colorbar": {
                            "outlinewidth": 0,
                            "ticks": ""
                          }
                        },
                        "type": "scattercarpet"
                      }
                    ],
                    "scattergeo": [
                      {
                        "marker": {
                          "colorbar": {
                            "outlinewidth": 0,
                            "ticks": ""
                          }
                        },
                        "type": "scattergeo"
                      }
                    ],
                    "scattergl": [
                      {
                        "marker": {
                          "colorbar": {
                            "outlinewidth": 0,
                            "ticks": ""
                          }
                        },
                        "type": "scattergl"
                      }
                    ],
                    "scattermapbox": [
                      {
                        "marker": {
                          "colorbar": {
                            "outlinewidth": 0,
                            "ticks": ""
                          }
                        },
                        "type": "scattermapbox"
                      }
                    ],
                    "scatterpolar": [
                      {
                        "marker": {
                          "colorbar": {
                            "outlinewidth": 0,
                            "ticks": ""
                          }
                        },
                        "type": "scatterpolar"
                      }
                    ],
                    "scatterpolargl": [
                      {
                        "marker": {
                          "colorbar": {
                            "outlinewidth": 0,
                            "ticks": ""
                          }
                        },
                        "type": "scatterpolargl"
                      }
                    ],
                    "scatterternary": [
                      {
                        "marker": {
                          "colorbar": {
                            "outlinewidth": 0,
                            "ticks": ""
                          }
                        },
                        "type": "scatterternary"
                      }
                    ],
                    "surface": [
                      {
                        "colorbar": {
                          "outlinewidth": 0,
                          "ticks": ""
                        },
                        "colorscale": [
                          [
                            0,
                            "#0d0887"
                          ],
                          [
                            0.1111111111111111,
                            "#46039f"
                          ],
                          [
                            0.2222222222222222,
                            "#7201a8"
                          ],
                          [
                            0.3333333333333333,
                            "#9c179e"
                          ],
                          [
                            0.4444444444444444,
                            "#bd3786"
                          ],
                          [
                            0.5555555555555556,
                            "#d8576b"
                          ],
                          [
                            0.6666666666666666,
                            "#ed7953"
                          ],
                          [
                            0.7777777777777778,
                            "#fb9f3a"
                          ],
                          [
                            0.8888888888888888,
                            "#fdca26"
                          ],
                          [
                            1,
                            "#f0f921"
                          ]
                        ],
                        "type": "surface"
                      }
                    ],
                    "table": [
                      {
                        "cells": {
                          "fill": {
                            "color": "#EBF0F8"
                          },
                          "line": {
                            "color": "white"
                          }
                        },
                        "header": {
                          "fill": {
                            "color": "#C8D4E3"
                          },
                          "line": {
                            "color": "white"
                          }
                        },
                        "type": "table"
                      }
                    ]
                  },
                  "layout": {
                    "annotationdefaults": {
                      "arrowcolor": "#2a3f5f",
                      "arrowhead": 0,
                      "arrowwidth": 1
                    },
                    "autotypenumbers": "strict",
                    "coloraxis": {
                      "colorbar": {
                        "outlinewidth": 0,
                        "ticks": ""
                      }
                    },
                    "colorscale": {
                      "diverging": [
                        [
                          0,
                          "#8e0152"
                        ],
                        [
                          0.1,
                          "#c51b7d"
                        ],
                        [
                          0.2,
                          "#de77ae"
                        ],
                        [
                          0.3,
                          "#f1b6da"
                        ],
                        [
                          0.4,
                          "#fde0ef"
                        ],
                        [
                          0.5,
                          "#f7f7f7"
                        ],
                        [
                          0.6,
                          "#e6f5d0"
                        ],
                        [
                          0.7,
                          "#b8e186"
                        ],
                        [
                          0.8,
                          "#7fbc41"
                        ],
                        [
                          0.9,
                          "#4d9221"
                        ],
                        [
                          1,
                          "#276419"
                        ]
                      ],
                      "sequential": [
                        [
                          0,
                          "#0d0887"
                        ],
                        [
                          0.1111111111111111,
                          "#46039f"
                        ],
                        [
                          0.2222222222222222,
                          "#7201a8"
                        ],
                        [
                          0.3333333333333333,
                          "#9c179e"
                        ],
                        [
                          0.4444444444444444,
                          "#bd3786"
                        ],
                        [
                          0.5555555555555556,
                          "#d8576b"
                        ],
                        [
                          0.6666666666666666,
                          "#ed7953"
                        ],
                        [
                          0.7777777777777778,
                          "#fb9f3a"
                        ],
                        [
                          0.8888888888888888,
                          "#fdca26"
                        ],
                        [
                          1,
                          "#f0f921"
                        ]
                      ],
                      "sequentialminus": [
                        [
                          0,
                          "#0d0887"
                        ],
                        [
                          0.1111111111111111,
                          "#46039f"
                        ],
                        [
                          0.2222222222222222,
                          "#7201a8"
                        ],
                        [
                          0.3333333333333333,
                          "#9c179e"
                        ],
                        [
                          0.4444444444444444,
                          "#bd3786"
                        ],
                        [
                          0.5555555555555556,
                          "#d8576b"
                        ],
                        [
                          0.6666666666666666,
                          "#ed7953"
                        ],
                        [
                          0.7777777777777778,
                          "#fb9f3a"
                        ],
                        [
                          0.8888888888888888,
                          "#fdca26"
                        ],
                        [
                          1,
                          "#f0f921"
                        ]
                      ]
                    },
                    "colorway": [
                      "#636efa",
                      "#EF553B",
                      "#00cc96",
                      "#ab63fa",
                      "#FFA15A",
                      "#19d3f3",
                      "#FF6692",
                      "#B6E880",
                      "#FF97FF",
                      "#FECB52"
                    ],
                    "font": {
                      "color": "#2a3f5f"
                    },
                    "geo": {
                      "bgcolor": "white",
                      "lakecolor": "white",
                      "landcolor": "#E5ECF6",
                      "showlakes": true,
                      "showland": true,
                      "subunitcolor": "white"
                    },
                    "hoverlabel": {
                      "align": "left"
                    },
                    "hovermode": "closest",
                    "mapbox": {
                      "style": "light"
                    },
                    "paper_bgcolor": "white",
                    "plot_bgcolor": "#E5ECF6",
                    "polar": {
                      "angularaxis": {
                        "gridcolor": "white",
                        "linecolor": "white",
                        "ticks": ""
                      },
                      "bgcolor": "#E5ECF6",
                      "radialaxis": {
                        "gridcolor": "white",
                        "linecolor": "white",
                        "ticks": ""
                      }
                    },
                    "scene": {
                      "xaxis": {
                        "backgroundcolor": "#E5ECF6",
                        "gridcolor": "white",
                        "gridwidth": 2,
                        "linecolor": "white",
                        "showbackground": true,
                        "ticks": "",
                        "zerolinecolor": "white"
                      },
                      "yaxis": {
                        "backgroundcolor": "#E5ECF6",
                        "gridcolor": "white",
                        "gridwidth": 2,
                        "linecolor": "white",
                        "showbackground": true,
                        "ticks": "",
                        "zerolinecolor": "white"
                      },
                      "zaxis": {
                        "backgroundcolor": "#E5ECF6",
                        "gridcolor": "white",
                        "gridwidth": 2,
                        "linecolor": "white",
                        "showbackground": true,
                        "ticks": "",
                        "zerolinecolor": "white"
                      }
                    },
                    "shapedefaults": {
                      "line": {
                        "color": "#2a3f5f"
                      }
                    },
                    "ternary": {
                      "aaxis": {
                        "gridcolor": "white",
                        "linecolor": "white",
                        "ticks": ""
                      },
                      "baxis": {
                        "gridcolor": "white",
                        "linecolor": "white",
                        "ticks": ""
                      },
                      "bgcolor": "#E5ECF6",
                      "caxis": {
                        "gridcolor": "white",
                        "linecolor": "white",
                        "ticks": ""
                      }
                    },
                    "title": {
                      "x": 0.05
                    },
                    "xaxis": {
                      "automargin": true,
                      "gridcolor": "white",
                      "linecolor": "white",
                      "ticks": "",
                      "title": {
                        "standoff": 15
                      },
                      "zerolinecolor": "white",
                      "zerolinewidth": 2
                    },
                    "yaxis": {
                      "automargin": true,
                      "gridcolor": "white",
                      "linecolor": "white",
                      "ticks": "",
                      "title": {
                        "standoff": 15
                      },
                      "zerolinecolor": "white",
                      "zerolinewidth": 2
                    }
                  }
                },
                "xaxis": {
                  "anchor": "y",
                  "domain": [
                    0,
                    1
                  ]
                },
                "yaxis": {
                  "anchor": "x",
                  "domain": [
                    0,
                    1
                  ],
                  "title": {
                    "text": "PTRATIO"
                  }
                }
              }
            }
          },
          "metadata": {},
          "output_type": "display_data"
        }
      ],
      "source": [
        "boxplot = px.box(df, y=\"PTRATIO\")\n",
        "boxplot.show()"
      ]
    },
    {
      "cell_type": "code",
      "execution_count": 17,
      "metadata": {
        "colab": {
          "base_uri": "https://localhost:8080/",
          "height": 542
        },
        "id": "B9amK0_pR1Je",
        "outputId": "eef8e988-d1dd-498c-f70f-6eaa41d5a112"
      },
      "outputs": [
        {
          "data": {
            "application/vnd.plotly.v1+json": {
              "config": {
                "plotlyServerURL": "https://plot.ly"
              },
              "data": [
                {
                  "alignmentgroup": "True",
                  "hovertemplate": "MEDV=%{y}<extra></extra>",
                  "legendgroup": "",
                  "marker": {
                    "color": "#636efa"
                  },
                  "name": "",
                  "notched": false,
                  "offsetgroup": "",
                  "orientation": "v",
                  "showlegend": false,
                  "type": "box",
                  "x0": " ",
                  "xaxis": "x",
                  "y": [
                    504000,
                    453600,
                    728700,
                    701400,
                    760200,
                    602700,
                    480900,
                    569100,
                    346500,
                    396900,
                    315000,
                    396900,
                    455700,
                    428400,
                    382200,
                    417900,
                    485100,
                    367500,
                    424200,
                    382200,
                    285600,
                    411600,
                    319200,
                    304500,
                    327600,
                    291900,
                    348600,
                    310800,
                    386400,
                    441000,
                    266700,
                    304500,
                    277200,
                    275100,
                    283500,
                    396900,
                    420000,
                    441000,
                    518700,
                    646800,
                    732900,
                    558600,
                    531300,
                    518700,
                    445200,
                    405300,
                    420000,
                    348600,
                    302400,
                    407400,
                    413700,
                    430500,
                    525000,
                    491400,
                    396900,
                    743400,
                    518700,
                    663600,
                    489300,
                    411600,
                    392700,
                    336000,
                    466200,
                    525000,
                    693000,
                    493500,
                    407400,
                    462000,
                    365400,
                    438900,
                    508200,
                    455700,
                    478800,
                    491400,
                    506100,
                    449400,
                    420000,
                    436800,
                    445200,
                    426300,
                    588000,
                    501900,
                    520800,
                    480900,
                    501900,
                    558600,
                    472500,
                    466200,
                    495600,
                    602700,
                    474600,
                    462000,
                    480900,
                    525000,
                    432600,
                    596400,
                    449400,
                    812700,
                    919800,
                    697200,
                    577500,
                    556500,
                    390600,
                    405300,
                    422100,
                    409500,
                    409500,
                    428400,
                    415800,
                    407400,
                    455700,
                    478800,
                    394800,
                    392700,
                    388500,
                    384300,
                    445200,
                    403200,
                    428400,
                    405300,
                    462000,
                    426300,
                    430500,
                    363300,
                    394800,
                    449400,
                    329700,
                    340200,
                    378000,
                    300300,
                    403200,
                    411600,
                    483000,
                    386400,
                    327600,
                    380100,
                    365400,
                    359100,
                    279300,
                    373800,
                    294000,
                    302400,
                    281400,
                    327600,
                    247800,
                    289800,
                    327600,
                    306600,
                    373800,
                    323400,
                    451500,
                    411600,
                    321300,
                    407400,
                    357000,
                    327600,
                    275100,
                    867300,
                    510300,
                    489300,
                    567000,
                    476700,
                    525000,
                    499800,
                    499800,
                    468300,
                    365400,
                    401100,
                    485100,
                    495600,
                    474600,
                    617400,
                    487200,
                    516600,
                    627900,
                    781200,
                    835800,
                    760200,
                    795900,
                    682500,
                    554400,
                    621600,
                    672000,
                    625800,
                    732900,
                    777000,
                    640500,
                    764400,
                    653100,
                    611100,
                    699300,
                    636300,
                    726600,
                    732900,
                    690900,
                    506100,
                    888300,
                    1018500,
                    474600,
                    512400,
                    472500,
                    512400,
                    420000,
                    455700,
                    405300,
                    470400,
                    590100,
                    497700,
                    525000,
                    489300,
                    602700,
                    451500,
                    483000,
                    560700,
                    455700,
                    577500,
                    632100,
                    940800,
                    789600,
                    663600,
                    980700,
                    661500,
                    510300,
                    665700,
                    875700,
                    1014300,
                    609000,
                    504000,
                    527100,
                    661500,
                    497700,
                    489300,
                    462000,
                    422100,
                    466200,
                    497700,
                    369600,
                    388500,
                    510300,
                    430500,
                    514500,
                    550200,
                    512400,
                    520800,
                    621600,
                    898800,
                    459900,
                    438900,
                    924000,
                    756000,
                    632100,
                    709800,
                    905100,
                    1024800,
                    651000,
                    766500,
                    478800,
                    644700,
                    913500,
                    434700,
                    443100,
                    529200,
                    512400,
                    739200,
                    680400,
                    672000,
                    697200,
                    695100,
                    611100,
                    737100,
                    953400,
                    743400,
                    966000,
                    676200,
                    462000,
                    422100,
                    487200,
                    468300,
                    520800,
                    598500,
                    783300,
                    585900,
                    501900,
                    455700,
                    600600,
                    569100,
                    426300,
                    472500,
                    609000,
                    520800,
                    462000,
                    554400,
                    695100,
                    758100,
                    596400,
                    701400,
                    592200,
                    478800,
                    426300,
                    338100,
                    464100,
                    407400,
                    453600,
                    499800,
                    340200,
                    373800,
                    415800,
                    485100,
                    441000,
                    499800,
                    485100,
                    428400,
                    388500,
                    525000,
                    516600,
                    483000,
                    466200,
                    405300,
                    474600,
                    415800,
                    359100,
                    407400,
                    466200,
                    434700,
                    443100,
                    409500,
                    388500,
                    432600,
                    399000,
                    392700,
                    686700,
                    346500,
                    501900,
                    655200,
                    367500,
                    361200,
                    485100,
                    514500,
                    558600,
                    480900,
                    506100,
                    390600,
                    632100,
                    382200,
                    432600,
                    373800,
                    455700,
                    476700,
                    474600,
                    525000,
                    417900,
                    436800,
                    352800,
                    577500,
                    459900,
                    485100,
                    289800,
                    289800,
                    315000,
                    291900,
                    279300,
                    275100,
                    214200,
                    218400,
                    228900,
                    237300,
                    258300,
                    184800,
                    151200,
                    220500,
                    155400,
                    214200,
                    241500,
                    317100,
                    487200,
                    203700,
                    289800,
                    266700,
                    275100,
                    262500,
                    178500,
                    105000,
                    132300,
                    117600,
                    151200,
                    254100,
                    174300,
                    178500,
                    105000,
                    249900,
                    585900,
                    361200,
                    577500,
                    315000,
                    361200,
                    375900,
                    342300,
                    147000,
                    151200,
                    157500,
                    218400,
                    184800,
                    176400,
                    350700,
                    298200,
                    436800,
                    281400,
                    245700,
                    174300,
                    214200,
                    228900,
                    231000,
                    199500,
                    304500,
                    296100,
                    338100,
                    300300,
                    245700,
                    281400,
                    201600,
                    182700,
                    176400,
                    268800,
                    220500,
                    359100,
                    386400,
                    323400,
                    226800,
                    247800,
                    312900,
                    264600,
                    296100,
                    273000,
                    281400,
                    319200,
                    338100,
                    373800,
                    312900,
                    296100,
                    266700,
                    283500,
                    312900,
                    420000,
                    344400,
                    371700,
                    409500,
                    424200,
                    449400,
                    417900,
                    399000,
                    401100,
                    401100,
                    422100,
                    417900,
                    411600,
                    487200,
                    625800,
                    289800,
                    279300,
                    350700,
                    252000,
                    306600,
                    449400,
                    483000,
                    497700,
                    525000,
                    457800,
                    432600,
                    445200,
                    401100,
                    432600,
                    319200,
                    147000,
                    170100,
                    285600,
                    422100,
                    457800,
                    514500,
                    485100,
                    413700,
                    384300,
                    445200,
                    367500,
                    352800,
                    470400,
                    432600,
                    501900,
                    462000,
                    249900
                  ],
                  "y0": " ",
                  "yaxis": "y"
                }
              ],
              "layout": {
                "boxmode": "group",
                "legend": {
                  "tracegroupgap": 0
                },
                "margin": {
                  "t": 60
                },
                "template": {
                  "data": {
                    "bar": [
                      {
                        "error_x": {
                          "color": "#2a3f5f"
                        },
                        "error_y": {
                          "color": "#2a3f5f"
                        },
                        "marker": {
                          "line": {
                            "color": "#E5ECF6",
                            "width": 0.5
                          },
                          "pattern": {
                            "fillmode": "overlay",
                            "size": 10,
                            "solidity": 0.2
                          }
                        },
                        "type": "bar"
                      }
                    ],
                    "barpolar": [
                      {
                        "marker": {
                          "line": {
                            "color": "#E5ECF6",
                            "width": 0.5
                          },
                          "pattern": {
                            "fillmode": "overlay",
                            "size": 10,
                            "solidity": 0.2
                          }
                        },
                        "type": "barpolar"
                      }
                    ],
                    "carpet": [
                      {
                        "aaxis": {
                          "endlinecolor": "#2a3f5f",
                          "gridcolor": "white",
                          "linecolor": "white",
                          "minorgridcolor": "white",
                          "startlinecolor": "#2a3f5f"
                        },
                        "baxis": {
                          "endlinecolor": "#2a3f5f",
                          "gridcolor": "white",
                          "linecolor": "white",
                          "minorgridcolor": "white",
                          "startlinecolor": "#2a3f5f"
                        },
                        "type": "carpet"
                      }
                    ],
                    "choropleth": [
                      {
                        "colorbar": {
                          "outlinewidth": 0,
                          "ticks": ""
                        },
                        "type": "choropleth"
                      }
                    ],
                    "contour": [
                      {
                        "colorbar": {
                          "outlinewidth": 0,
                          "ticks": ""
                        },
                        "colorscale": [
                          [
                            0,
                            "#0d0887"
                          ],
                          [
                            0.1111111111111111,
                            "#46039f"
                          ],
                          [
                            0.2222222222222222,
                            "#7201a8"
                          ],
                          [
                            0.3333333333333333,
                            "#9c179e"
                          ],
                          [
                            0.4444444444444444,
                            "#bd3786"
                          ],
                          [
                            0.5555555555555556,
                            "#d8576b"
                          ],
                          [
                            0.6666666666666666,
                            "#ed7953"
                          ],
                          [
                            0.7777777777777778,
                            "#fb9f3a"
                          ],
                          [
                            0.8888888888888888,
                            "#fdca26"
                          ],
                          [
                            1,
                            "#f0f921"
                          ]
                        ],
                        "type": "contour"
                      }
                    ],
                    "contourcarpet": [
                      {
                        "colorbar": {
                          "outlinewidth": 0,
                          "ticks": ""
                        },
                        "type": "contourcarpet"
                      }
                    ],
                    "heatmap": [
                      {
                        "colorbar": {
                          "outlinewidth": 0,
                          "ticks": ""
                        },
                        "colorscale": [
                          [
                            0,
                            "#0d0887"
                          ],
                          [
                            0.1111111111111111,
                            "#46039f"
                          ],
                          [
                            0.2222222222222222,
                            "#7201a8"
                          ],
                          [
                            0.3333333333333333,
                            "#9c179e"
                          ],
                          [
                            0.4444444444444444,
                            "#bd3786"
                          ],
                          [
                            0.5555555555555556,
                            "#d8576b"
                          ],
                          [
                            0.6666666666666666,
                            "#ed7953"
                          ],
                          [
                            0.7777777777777778,
                            "#fb9f3a"
                          ],
                          [
                            0.8888888888888888,
                            "#fdca26"
                          ],
                          [
                            1,
                            "#f0f921"
                          ]
                        ],
                        "type": "heatmap"
                      }
                    ],
                    "heatmapgl": [
                      {
                        "colorbar": {
                          "outlinewidth": 0,
                          "ticks": ""
                        },
                        "colorscale": [
                          [
                            0,
                            "#0d0887"
                          ],
                          [
                            0.1111111111111111,
                            "#46039f"
                          ],
                          [
                            0.2222222222222222,
                            "#7201a8"
                          ],
                          [
                            0.3333333333333333,
                            "#9c179e"
                          ],
                          [
                            0.4444444444444444,
                            "#bd3786"
                          ],
                          [
                            0.5555555555555556,
                            "#d8576b"
                          ],
                          [
                            0.6666666666666666,
                            "#ed7953"
                          ],
                          [
                            0.7777777777777778,
                            "#fb9f3a"
                          ],
                          [
                            0.8888888888888888,
                            "#fdca26"
                          ],
                          [
                            1,
                            "#f0f921"
                          ]
                        ],
                        "type": "heatmapgl"
                      }
                    ],
                    "histogram": [
                      {
                        "marker": {
                          "pattern": {
                            "fillmode": "overlay",
                            "size": 10,
                            "solidity": 0.2
                          }
                        },
                        "type": "histogram"
                      }
                    ],
                    "histogram2d": [
                      {
                        "colorbar": {
                          "outlinewidth": 0,
                          "ticks": ""
                        },
                        "colorscale": [
                          [
                            0,
                            "#0d0887"
                          ],
                          [
                            0.1111111111111111,
                            "#46039f"
                          ],
                          [
                            0.2222222222222222,
                            "#7201a8"
                          ],
                          [
                            0.3333333333333333,
                            "#9c179e"
                          ],
                          [
                            0.4444444444444444,
                            "#bd3786"
                          ],
                          [
                            0.5555555555555556,
                            "#d8576b"
                          ],
                          [
                            0.6666666666666666,
                            "#ed7953"
                          ],
                          [
                            0.7777777777777778,
                            "#fb9f3a"
                          ],
                          [
                            0.8888888888888888,
                            "#fdca26"
                          ],
                          [
                            1,
                            "#f0f921"
                          ]
                        ],
                        "type": "histogram2d"
                      }
                    ],
                    "histogram2dcontour": [
                      {
                        "colorbar": {
                          "outlinewidth": 0,
                          "ticks": ""
                        },
                        "colorscale": [
                          [
                            0,
                            "#0d0887"
                          ],
                          [
                            0.1111111111111111,
                            "#46039f"
                          ],
                          [
                            0.2222222222222222,
                            "#7201a8"
                          ],
                          [
                            0.3333333333333333,
                            "#9c179e"
                          ],
                          [
                            0.4444444444444444,
                            "#bd3786"
                          ],
                          [
                            0.5555555555555556,
                            "#d8576b"
                          ],
                          [
                            0.6666666666666666,
                            "#ed7953"
                          ],
                          [
                            0.7777777777777778,
                            "#fb9f3a"
                          ],
                          [
                            0.8888888888888888,
                            "#fdca26"
                          ],
                          [
                            1,
                            "#f0f921"
                          ]
                        ],
                        "type": "histogram2dcontour"
                      }
                    ],
                    "mesh3d": [
                      {
                        "colorbar": {
                          "outlinewidth": 0,
                          "ticks": ""
                        },
                        "type": "mesh3d"
                      }
                    ],
                    "parcoords": [
                      {
                        "line": {
                          "colorbar": {
                            "outlinewidth": 0,
                            "ticks": ""
                          }
                        },
                        "type": "parcoords"
                      }
                    ],
                    "pie": [
                      {
                        "automargin": true,
                        "type": "pie"
                      }
                    ],
                    "scatter": [
                      {
                        "fillpattern": {
                          "fillmode": "overlay",
                          "size": 10,
                          "solidity": 0.2
                        },
                        "type": "scatter"
                      }
                    ],
                    "scatter3d": [
                      {
                        "line": {
                          "colorbar": {
                            "outlinewidth": 0,
                            "ticks": ""
                          }
                        },
                        "marker": {
                          "colorbar": {
                            "outlinewidth": 0,
                            "ticks": ""
                          }
                        },
                        "type": "scatter3d"
                      }
                    ],
                    "scattercarpet": [
                      {
                        "marker": {
                          "colorbar": {
                            "outlinewidth": 0,
                            "ticks": ""
                          }
                        },
                        "type": "scattercarpet"
                      }
                    ],
                    "scattergeo": [
                      {
                        "marker": {
                          "colorbar": {
                            "outlinewidth": 0,
                            "ticks": ""
                          }
                        },
                        "type": "scattergeo"
                      }
                    ],
                    "scattergl": [
                      {
                        "marker": {
                          "colorbar": {
                            "outlinewidth": 0,
                            "ticks": ""
                          }
                        },
                        "type": "scattergl"
                      }
                    ],
                    "scattermapbox": [
                      {
                        "marker": {
                          "colorbar": {
                            "outlinewidth": 0,
                            "ticks": ""
                          }
                        },
                        "type": "scattermapbox"
                      }
                    ],
                    "scatterpolar": [
                      {
                        "marker": {
                          "colorbar": {
                            "outlinewidth": 0,
                            "ticks": ""
                          }
                        },
                        "type": "scatterpolar"
                      }
                    ],
                    "scatterpolargl": [
                      {
                        "marker": {
                          "colorbar": {
                            "outlinewidth": 0,
                            "ticks": ""
                          }
                        },
                        "type": "scatterpolargl"
                      }
                    ],
                    "scatterternary": [
                      {
                        "marker": {
                          "colorbar": {
                            "outlinewidth": 0,
                            "ticks": ""
                          }
                        },
                        "type": "scatterternary"
                      }
                    ],
                    "surface": [
                      {
                        "colorbar": {
                          "outlinewidth": 0,
                          "ticks": ""
                        },
                        "colorscale": [
                          [
                            0,
                            "#0d0887"
                          ],
                          [
                            0.1111111111111111,
                            "#46039f"
                          ],
                          [
                            0.2222222222222222,
                            "#7201a8"
                          ],
                          [
                            0.3333333333333333,
                            "#9c179e"
                          ],
                          [
                            0.4444444444444444,
                            "#bd3786"
                          ],
                          [
                            0.5555555555555556,
                            "#d8576b"
                          ],
                          [
                            0.6666666666666666,
                            "#ed7953"
                          ],
                          [
                            0.7777777777777778,
                            "#fb9f3a"
                          ],
                          [
                            0.8888888888888888,
                            "#fdca26"
                          ],
                          [
                            1,
                            "#f0f921"
                          ]
                        ],
                        "type": "surface"
                      }
                    ],
                    "table": [
                      {
                        "cells": {
                          "fill": {
                            "color": "#EBF0F8"
                          },
                          "line": {
                            "color": "white"
                          }
                        },
                        "header": {
                          "fill": {
                            "color": "#C8D4E3"
                          },
                          "line": {
                            "color": "white"
                          }
                        },
                        "type": "table"
                      }
                    ]
                  },
                  "layout": {
                    "annotationdefaults": {
                      "arrowcolor": "#2a3f5f",
                      "arrowhead": 0,
                      "arrowwidth": 1
                    },
                    "autotypenumbers": "strict",
                    "coloraxis": {
                      "colorbar": {
                        "outlinewidth": 0,
                        "ticks": ""
                      }
                    },
                    "colorscale": {
                      "diverging": [
                        [
                          0,
                          "#8e0152"
                        ],
                        [
                          0.1,
                          "#c51b7d"
                        ],
                        [
                          0.2,
                          "#de77ae"
                        ],
                        [
                          0.3,
                          "#f1b6da"
                        ],
                        [
                          0.4,
                          "#fde0ef"
                        ],
                        [
                          0.5,
                          "#f7f7f7"
                        ],
                        [
                          0.6,
                          "#e6f5d0"
                        ],
                        [
                          0.7,
                          "#b8e186"
                        ],
                        [
                          0.8,
                          "#7fbc41"
                        ],
                        [
                          0.9,
                          "#4d9221"
                        ],
                        [
                          1,
                          "#276419"
                        ]
                      ],
                      "sequential": [
                        [
                          0,
                          "#0d0887"
                        ],
                        [
                          0.1111111111111111,
                          "#46039f"
                        ],
                        [
                          0.2222222222222222,
                          "#7201a8"
                        ],
                        [
                          0.3333333333333333,
                          "#9c179e"
                        ],
                        [
                          0.4444444444444444,
                          "#bd3786"
                        ],
                        [
                          0.5555555555555556,
                          "#d8576b"
                        ],
                        [
                          0.6666666666666666,
                          "#ed7953"
                        ],
                        [
                          0.7777777777777778,
                          "#fb9f3a"
                        ],
                        [
                          0.8888888888888888,
                          "#fdca26"
                        ],
                        [
                          1,
                          "#f0f921"
                        ]
                      ],
                      "sequentialminus": [
                        [
                          0,
                          "#0d0887"
                        ],
                        [
                          0.1111111111111111,
                          "#46039f"
                        ],
                        [
                          0.2222222222222222,
                          "#7201a8"
                        ],
                        [
                          0.3333333333333333,
                          "#9c179e"
                        ],
                        [
                          0.4444444444444444,
                          "#bd3786"
                        ],
                        [
                          0.5555555555555556,
                          "#d8576b"
                        ],
                        [
                          0.6666666666666666,
                          "#ed7953"
                        ],
                        [
                          0.7777777777777778,
                          "#fb9f3a"
                        ],
                        [
                          0.8888888888888888,
                          "#fdca26"
                        ],
                        [
                          1,
                          "#f0f921"
                        ]
                      ]
                    },
                    "colorway": [
                      "#636efa",
                      "#EF553B",
                      "#00cc96",
                      "#ab63fa",
                      "#FFA15A",
                      "#19d3f3",
                      "#FF6692",
                      "#B6E880",
                      "#FF97FF",
                      "#FECB52"
                    ],
                    "font": {
                      "color": "#2a3f5f"
                    },
                    "geo": {
                      "bgcolor": "white",
                      "lakecolor": "white",
                      "landcolor": "#E5ECF6",
                      "showlakes": true,
                      "showland": true,
                      "subunitcolor": "white"
                    },
                    "hoverlabel": {
                      "align": "left"
                    },
                    "hovermode": "closest",
                    "mapbox": {
                      "style": "light"
                    },
                    "paper_bgcolor": "white",
                    "plot_bgcolor": "#E5ECF6",
                    "polar": {
                      "angularaxis": {
                        "gridcolor": "white",
                        "linecolor": "white",
                        "ticks": ""
                      },
                      "bgcolor": "#E5ECF6",
                      "radialaxis": {
                        "gridcolor": "white",
                        "linecolor": "white",
                        "ticks": ""
                      }
                    },
                    "scene": {
                      "xaxis": {
                        "backgroundcolor": "#E5ECF6",
                        "gridcolor": "white",
                        "gridwidth": 2,
                        "linecolor": "white",
                        "showbackground": true,
                        "ticks": "",
                        "zerolinecolor": "white"
                      },
                      "yaxis": {
                        "backgroundcolor": "#E5ECF6",
                        "gridcolor": "white",
                        "gridwidth": 2,
                        "linecolor": "white",
                        "showbackground": true,
                        "ticks": "",
                        "zerolinecolor": "white"
                      },
                      "zaxis": {
                        "backgroundcolor": "#E5ECF6",
                        "gridcolor": "white",
                        "gridwidth": 2,
                        "linecolor": "white",
                        "showbackground": true,
                        "ticks": "",
                        "zerolinecolor": "white"
                      }
                    },
                    "shapedefaults": {
                      "line": {
                        "color": "#2a3f5f"
                      }
                    },
                    "ternary": {
                      "aaxis": {
                        "gridcolor": "white",
                        "linecolor": "white",
                        "ticks": ""
                      },
                      "baxis": {
                        "gridcolor": "white",
                        "linecolor": "white",
                        "ticks": ""
                      },
                      "bgcolor": "#E5ECF6",
                      "caxis": {
                        "gridcolor": "white",
                        "linecolor": "white",
                        "ticks": ""
                      }
                    },
                    "title": {
                      "x": 0.05
                    },
                    "xaxis": {
                      "automargin": true,
                      "gridcolor": "white",
                      "linecolor": "white",
                      "ticks": "",
                      "title": {
                        "standoff": 15
                      },
                      "zerolinecolor": "white",
                      "zerolinewidth": 2
                    },
                    "yaxis": {
                      "automargin": true,
                      "gridcolor": "white",
                      "linecolor": "white",
                      "ticks": "",
                      "title": {
                        "standoff": 15
                      },
                      "zerolinecolor": "white",
                      "zerolinewidth": 2
                    }
                  }
                },
                "xaxis": {
                  "anchor": "y",
                  "domain": [
                    0,
                    1
                  ]
                },
                "yaxis": {
                  "anchor": "x",
                  "domain": [
                    0,
                    1
                  ],
                  "title": {
                    "text": "MEDV"
                  }
                }
              }
            }
          },
          "metadata": {},
          "output_type": "display_data"
        }
      ],
      "source": [
        "boxplot = px.box(df, y=\"MEDV\")\n",
        "boxplot.show()"
      ]
    },
    {
      "cell_type": "markdown",
      "metadata": {
        "id": "1_UXHtabUPkP"
      },
      "source": [
        "## **CORRELAÇÃO LINEAR**"
      ]
    },
    {
      "cell_type": "code",
      "execution_count": 18,
      "metadata": {
        "id": "KndAusGtsT7N"
      },
      "outputs": [
        {
          "data": {
            "text/html": [
              "<div>\n",
              "<style scoped>\n",
              "    .dataframe tbody tr th:only-of-type {\n",
              "        vertical-align: middle;\n",
              "    }\n",
              "\n",
              "    .dataframe tbody tr th {\n",
              "        vertical-align: top;\n",
              "    }\n",
              "\n",
              "    .dataframe thead th {\n",
              "        text-align: right;\n",
              "    }\n",
              "</style>\n",
              "<table border=\"1\" class=\"dataframe\">\n",
              "  <thead>\n",
              "    <tr style=\"text-align: right;\">\n",
              "      <th></th>\n",
              "      <th>RM</th>\n",
              "      <th>LSTAT</th>\n",
              "      <th>PTRATIO</th>\n",
              "      <th>MEDV</th>\n",
              "    </tr>\n",
              "  </thead>\n",
              "  <tbody>\n",
              "    <tr>\n",
              "      <th>0</th>\n",
              "      <td>6.575</td>\n",
              "      <td>4.98</td>\n",
              "      <td>15.3</td>\n",
              "      <td>504000.0</td>\n",
              "    </tr>\n",
              "    <tr>\n",
              "      <th>1</th>\n",
              "      <td>6.421</td>\n",
              "      <td>9.14</td>\n",
              "      <td>17.8</td>\n",
              "      <td>453600.0</td>\n",
              "    </tr>\n",
              "  </tbody>\n",
              "</table>\n",
              "</div>"
            ],
            "text/plain": [
              "      RM  LSTAT  PTRATIO      MEDV\n",
              "0  6.575   4.98     15.3  504000.0\n",
              "1  6.421   9.14     17.8  453600.0"
            ]
          },
          "execution_count": 18,
          "metadata": {},
          "output_type": "execute_result"
        }
      ],
      "source": [
        "df.head(2)"
      ]
    },
    {
      "cell_type": "markdown",
      "metadata": {
        "id": "QDtXzr4JsYGS"
      },
      "source": [
        "**Atributos previsores**\n",
        "\n",
        "RM: é o número médio de cômodos entre os imóveis no bairro.\n",
        "\n",
        "LSTAT: é a porcentagem de proprietários no bairro considerados de \"classe baixa\" (proletariado).\n",
        "\n",
        "PTRATIO: é a razão entre estudantes e professores nas escolas de ensino fundamental e médio no bairro.\n",
        "\n",
        "**Variável alvo**\n",
        "\n",
        "MEDV: valor médio das casas"
      ]
    },
    {
      "cell_type": "code",
      "execution_count": 19,
      "metadata": {
        "id": "lIg7QtoMUNo5"
      },
      "outputs": [],
      "source": [
        "import matplotlib.pyplot as plt"
      ]
    },
    {
      "cell_type": "code",
      "execution_count": 20,
      "metadata": {
        "id": "xdvIffKTUZ49"
      },
      "outputs": [
        {
          "data": {
            "image/png": "[encoded data removed]",
            "text/plain": [
              "<Figure size 640x480 with 1 Axes>"
            ]
          },
          "metadata": {},
          "output_type": "display_data"
        }
      ],
      "source": [
        "plt.scatter(df.RM, df.MEDV)\n",
        "plt.title('Correlação Linear')\n",
        "plt.xlabel('Quantidade Média de Cômodos')\n",
        "plt.ylabel('Valor Médio')\n",
        "plt.grid(False)"
      ]
    },
    {
      "cell_type": "code",
      "execution_count": 21,
      "metadata": {
        "id": "g8j-uHDFU-QF"
      },
      "outputs": [
        {
          "data": {
            "image/png": "[encoded data removed]",
            "text/plain": [
              "<Figure size 640x480 with 1 Axes>"
            ]
          },
          "metadata": {},
          "output_type": "display_data"
        }
      ],
      "source": [
        "plt.scatter(df.LSTAT, df.MEDV)\n",
        "plt.title('Correlação Linear')\n",
        "plt.xlabel('Quantidade Classe Baixa (%)')\n",
        "plt.ylabel('Valor Médio')\n",
        "plt.grid(True)\n"
      ]
    },
    {
      "cell_type": "code",
      "execution_count": 22,
      "metadata": {
        "id": "Onmpw86_Vqct"
      },
      "outputs": [
        {
          "data": {
            "image/png": "[encoded data removed]",
            "text/plain": [
              "<Figure size 640x480 with 1 Axes>"
            ]
          },
          "metadata": {},
          "output_type": "display_data"
        }
      ],
      "source": [
        "plt.scatter(df.PTRATIO, df.MEDV)\n",
        "plt.title('Correlação Linear')\n",
        "plt.xlabel('Estudantes/Professores')\n",
        "plt.ylabel('Valor Médio')\n",
        "plt.grid(False)"
      ]
    },
    {
      "cell_type": "code",
      "execution_count": 23,
      "metadata": {
        "id": "ZW3RE6_uDzE2"
      },
      "outputs": [
        {
          "ename": "KeyboardInterrupt",
          "evalue": "",
          "output_type": "error",
          "traceback": [
            "\u001b[1;31m---------------------------------------------------------------------------\u001b[0m",
            "\u001b[1;31mKeyboardInterrupt\u001b[0m                         Traceback (most recent call last)",
            "\u001b[1;32mc:\\Users\\ALV\\Documents\\estudos Programação\\Machine-Learning-com-Python\\Seção 5\\regressao.ipynb Célula 29\u001b[0m line \u001b[0;36m1\n\u001b[1;32m----> <a href='vscode-notebook-cell:/c%3A/Users/ALV/Documents/estudos%20Programa%C3%A7%C3%A3o/Machine-Learning-com-Python/Se%C3%A7%C3%A3o%205/regressao.ipynb#X40sZmlsZQ%3D%3D?line=0'>1</a>\u001b[0m \u001b[39mimport\u001b[39;00m \u001b[39mseaborn\u001b[39;00m \u001b[39mas\u001b[39;00m \u001b[39msns\u001b[39;00m\n",
            "File \u001b[1;32mc:\\Users\\ALV\\anaconda3\\Lib\\site-packages\\seaborn\\__init__.py:5\u001b[0m\n\u001b[0;32m      3\u001b[0m \u001b[39mfrom\u001b[39;00m \u001b[39m.\u001b[39;00m\u001b[39mutils\u001b[39;00m \u001b[39mimport\u001b[39;00m \u001b[39m*\u001b[39m  \u001b[39m# noqa: F401,F403\u001b[39;00m\n\u001b[0;32m      4\u001b[0m \u001b[39mfrom\u001b[39;00m \u001b[39m.\u001b[39;00m\u001b[39mpalettes\u001b[39;00m \u001b[39mimport\u001b[39;00m \u001b[39m*\u001b[39m  \u001b[39m# noqa: F401,F403\u001b[39;00m\n\u001b[1;32m----> 5\u001b[0m \u001b[39mfrom\u001b[39;00m \u001b[39m.\u001b[39;00m\u001b[39mrelational\u001b[39;00m \u001b[39mimport\u001b[39;00m \u001b[39m*\u001b[39m  \u001b[39m# noqa: F401,F403\u001b[39;00m\n\u001b[0;32m      6\u001b[0m \u001b[39mfrom\u001b[39;00m \u001b[39m.\u001b[39;00m\u001b[39mregression\u001b[39;00m \u001b[39mimport\u001b[39;00m \u001b[39m*\u001b[39m  \u001b[39m# noqa: F401,F403\u001b[39;00m\n\u001b[0;32m      7\u001b[0m \u001b[39mfrom\u001b[39;00m \u001b[39m.\u001b[39;00m\u001b[39mcategorical\u001b[39;00m \u001b[39mimport\u001b[39;00m \u001b[39m*\u001b[39m  \u001b[39m# noqa: F401,F403\u001b[39;00m\n",
            "File \u001b[1;32mc:\\Users\\ALV\\anaconda3\\Lib\\site-packages\\seaborn\\relational.py:17\u001b[0m\n\u001b[0;32m      8\u001b[0m \u001b[39mfrom\u001b[39;00m \u001b[39m.\u001b[39;00m\u001b[39m_oldcore\u001b[39;00m \u001b[39mimport\u001b[39;00m (\n\u001b[0;32m      9\u001b[0m     VectorPlotter,\n\u001b[0;32m     10\u001b[0m )\n\u001b[0;32m     11\u001b[0m \u001b[39mfrom\u001b[39;00m \u001b[39m.\u001b[39;00m\u001b[39mutils\u001b[39;00m \u001b[39mimport\u001b[39;00m (\n\u001b[0;32m     12\u001b[0m     locator_to_legend_entries,\n\u001b[0;32m     13\u001b[0m     adjust_legend_subtitles,\n\u001b[0;32m     14\u001b[0m     _default_color,\n\u001b[0;32m     15\u001b[0m     _deprecate_ci,\n\u001b[0;32m     16\u001b[0m )\n\u001b[1;32m---> 17\u001b[0m \u001b[39mfrom\u001b[39;00m \u001b[39m.\u001b[39;00m\u001b[39m_statistics\u001b[39;00m \u001b[39mimport\u001b[39;00m EstimateAggregator\n\u001b[0;32m     18\u001b[0m \u001b[39mfrom\u001b[39;00m \u001b[39m.\u001b[39;00m\u001b[39maxisgrid\u001b[39;00m \u001b[39mimport\u001b[39;00m FacetGrid, _facet_docs\n\u001b[0;32m     19\u001b[0m \u001b[39mfrom\u001b[39;00m \u001b[39m.\u001b[39;00m\u001b[39m_docstrings\u001b[39;00m \u001b[39mimport\u001b[39;00m DocstringComponents, _core_docs\n",
            "File \u001b[1;32mc:\\Users\\ALV\\anaconda3\\Lib\\site-packages\\seaborn\\_statistics.py:31\u001b[0m\n\u001b[0;32m     29\u001b[0m \u001b[39mimport\u001b[39;00m \u001b[39mpandas\u001b[39;00m \u001b[39mas\u001b[39;00m \u001b[39mpd\u001b[39;00m\n\u001b[0;32m     30\u001b[0m \u001b[39mtry\u001b[39;00m:\n\u001b[1;32m---> 31\u001b[0m     \u001b[39mfrom\u001b[39;00m \u001b[39mscipy\u001b[39;00m\u001b[39m.\u001b[39;00m\u001b[39mstats\u001b[39;00m \u001b[39mimport\u001b[39;00m gaussian_kde\n\u001b[0;32m     32\u001b[0m     _no_scipy \u001b[39m=\u001b[39m \u001b[39mFalse\u001b[39;00m\n\u001b[0;32m     33\u001b[0m \u001b[39mexcept\u001b[39;00m \u001b[39mImportError\u001b[39;00m:\n",
            "File \u001b[1;32mc:\\Users\\ALV\\anaconda3\\Lib\\site-packages\\scipy\\stats\\__init__.py:507\u001b[0m\n\u001b[0;32m    504\u001b[0m \u001b[39mfrom\u001b[39;00m \u001b[39m.\u001b[39;00m\u001b[39m_covariance\u001b[39;00m \u001b[39mimport\u001b[39;00m Covariance\n\u001b[0;32m    506\u001b[0m \u001b[39m# Deprecated namespaces, to be removed in v2.0.0\u001b[39;00m\n\u001b[1;32m--> 507\u001b[0m \u001b[39mfrom\u001b[39;00m \u001b[39m.\u001b[39;00m \u001b[39mimport\u001b[39;00m (\n\u001b[0;32m    508\u001b[0m     biasedurn, kde, morestats, mstats_basic, mstats_extras, mvn, statlib, stats\n\u001b[0;32m    509\u001b[0m )\n\u001b[0;32m    511\u001b[0m __all__ \u001b[39m=\u001b[39m [s \u001b[39mfor\u001b[39;00m s \u001b[39min\u001b[39;00m \u001b[39mdir\u001b[39m() \u001b[39mif\u001b[39;00m \u001b[39mnot\u001b[39;00m s\u001b[39m.\u001b[39mstartswith(\u001b[39m\"\u001b[39m\u001b[39m_\u001b[39m\u001b[39m\"\u001b[39m)]  \u001b[39m# Remove dunders.\u001b[39;00m\n\u001b[0;32m    513\u001b[0m \u001b[39mfrom\u001b[39;00m \u001b[39mscipy\u001b[39;00m\u001b[39m.\u001b[39;00m\u001b[39m_lib\u001b[39;00m\u001b[39m.\u001b[39;00m\u001b[39m_testutils\u001b[39;00m \u001b[39mimport\u001b[39;00m PytestTester\n",
            "File \u001b[1;32m<frozen importlib._bootstrap>:1178\u001b[0m, in \u001b[0;36m_find_and_load\u001b[1;34m(name, import_)\u001b[0m\n",
            "File \u001b[1;32m<frozen importlib._bootstrap>:1149\u001b[0m, in \u001b[0;36m_find_and_load_unlocked\u001b[1;34m(name, import_)\u001b[0m\n",
            "File \u001b[1;32m<frozen importlib._bootstrap>:690\u001b[0m, in \u001b[0;36m_load_unlocked\u001b[1;34m(spec)\u001b[0m\n",
            "File \u001b[1;32m<frozen importlib._bootstrap_external>:936\u001b[0m, in \u001b[0;36mexec_module\u001b[1;34m(self, module)\u001b[0m\n",
            "File \u001b[1;32m<frozen importlib._bootstrap_external>:1032\u001b[0m, in \u001b[0;36mget_code\u001b[1;34m(self, fullname)\u001b[0m\n",
            "File \u001b[1;32m<frozen importlib._bootstrap_external>:1130\u001b[0m, in \u001b[0;36mget_data\u001b[1;34m(self, path)\u001b[0m\n",
            "\u001b[1;31mKeyboardInterrupt\u001b[0m: "
          ]
        }
      ],
      "source": [
        "import seaborn as sns"
      ]
    },
    {
      "cell_type": "code",
      "execution_count": null,
      "metadata": {
        "id": "3K5Ee3sED1YO"
      },
      "outputs": [],
      "source": [
        "sns.pairplot(df);"
      ]
    },
    {
      "cell_type": "markdown",
      "metadata": {
        "id": "_dOyeKE2AesY"
      },
      "source": [
        "### Análise da Normalidade"
      ]
    },
    {
      "cell_type": "markdown",
      "metadata": {
        "id": "U4MnqZjNG_29"
      },
      "source": [
        "Gráfico QQ-Plot"
      ]
    },
    {
      "cell_type": "code",
      "execution_count": null,
      "metadata": {
        "id": "o3lb2FS7A9MU"
      },
      "outputs": [],
      "source": [
        "import scipy.stats as stats"
      ]
    },
    {
      "cell_type": "code",
      "execution_count": null,
      "metadata": {
        "id": "LD3otdF6G8D1"
      },
      "outputs": [],
      "source": [
        "stats.probplot(df['MEDV'], dist=\"norm\", plot=plt)\n",
        "plt.title(\"Normal Q-Q plot\")\n",
        "plt.show()"
      ]
    },
    {
      "cell_type": "code",
      "execution_count": null,
      "metadata": {
        "id": "lDLCKa3ZSq1b"
      },
      "outputs": [],
      "source": [
        "import plotly.express as px"
      ]
    },
    {
      "cell_type": "code",
      "execution_count": null,
      "metadata": {
        "id": "JxIib1HfSJxN"
      },
      "outputs": [],
      "source": [
        "hist =  px.histogram (df,  x = \"MEDV\", nbins=60) \n",
        "hist.update_layout(width=800,height=500,title_text='Média dos valores') \n",
        "hist.show()"
      ]
    },
    {
      "cell_type": "code",
      "execution_count": null,
      "metadata": {
        "id": "-WaQDC6xHOzU"
      },
      "outputs": [],
      "source": [
        "stats.probplot(df['RM'], dist=\"norm\", plot=plt)\n",
        "plt.title(\"Normal Q-Q plot\")\n",
        "plt.show()"
      ]
    },
    {
      "cell_type": "code",
      "execution_count": null,
      "metadata": {
        "id": "DAr20mqI2FlH"
      },
      "outputs": [],
      "source": [
        "hist =  px.histogram (df,  x = \"RM\", nbins=40) \n",
        "hist.update_layout(width=800,height=500,title_text='Quantidade de cômodos') \n",
        "hist.show()"
      ]
    },
    {
      "cell_type": "code",
      "execution_count": null,
      "metadata": {
        "id": "C-ZHKF9O0vgj"
      },
      "outputs": [],
      "source": [
        "stats.probplot(df['LSTAT'], dist=\"norm\", plot=plt)\n",
        "plt.title(\"Normal Q-Q plot\")\n",
        "plt.show()"
      ]
    },
    {
      "cell_type": "code",
      "execution_count": null,
      "metadata": {
        "id": "t_DuX1wV2XTX"
      },
      "outputs": [],
      "source": [
        "hist =  px.histogram (df,  x = \"LSTAT\", nbins=60) \n",
        "hist.update_layout(width=800,height=500,title_text='Quantidade de Classe Baixa (%)') \n",
        "hist.show()"
      ]
    },
    {
      "cell_type": "code",
      "execution_count": null,
      "metadata": {
        "id": "JJdjZnSj07ih"
      },
      "outputs": [],
      "source": [
        "stats.probplot(df['PTRATIO'], dist=\"norm\", plot=plt)\n",
        "plt.title(\"Normal Q-Q plot\")\n",
        "plt.show()"
      ]
    },
    {
      "cell_type": "code",
      "execution_count": null,
      "metadata": {
        "id": "WfcMWw032ojE"
      },
      "outputs": [],
      "source": [
        "hist =  px.histogram (df,  x = \"PTRATIO\", nbins=60) \n",
        "hist.update_layout(width=800,height=500,title_text='Relação Estudantes/Professores') \n",
        "hist.show()"
      ]
    },
    {
      "cell_type": "markdown",
      "metadata": {
        "id": "b38jbpVpBSrN"
      },
      "source": [
        "Teste Shapiro-Wilk"
      ]
    },
    {
      "cell_type": "markdown",
      "metadata": {
        "id": "UBCGqxZiCKzR"
      },
      "source": [
        "Ho = distribuição normal : p > 0.05\n",
        "\n",
        "Ha = distribuição != normal : p <= 0.05"
      ]
    },
    {
      "cell_type": "code",
      "execution_count": null,
      "metadata": {
        "id": "5wcDiCVBL5Ax"
      },
      "outputs": [],
      "source": [
        "stats.shapiro(df.MEDV)"
      ]
    },
    {
      "cell_type": "code",
      "execution_count": null,
      "metadata": {
        "id": "wxg4KYhAAqIP"
      },
      "outputs": [],
      "source": [
        "estatistica, p = stats.shapiro(df.MEDV)\n",
        "print('Estatística do teste: {}'.format(estatistica))\n",
        "print('p-valor: {}'.format(p))"
      ]
    },
    {
      "cell_type": "code",
      "execution_count": null,
      "metadata": {
        "id": "2CtpuM8PFyio"
      },
      "outputs": [],
      "source": [
        "estatistica, p = stats.shapiro(df.RM)\n",
        "print('Estatística do teste: {}'.format(estatistica))\n",
        "print('p-valor: {}'.format(p))"
      ]
    },
    {
      "cell_type": "code",
      "execution_count": null,
      "metadata": {
        "id": "0-fjsQBK3id7"
      },
      "outputs": [],
      "source": [
        "estatistica, p = stats.shapiro(df.LSTAT)\n",
        "print('Estatística do teste: {}'.format(estatistica))\n",
        "print('p-valor: {}'.format(p))"
      ]
    },
    {
      "cell_type": "code",
      "execution_count": null,
      "metadata": {
        "id": "Qmbgy-Ie3id8"
      },
      "outputs": [],
      "source": [
        "estatistica, p = stats.shapiro(df.PTRATIO)\n",
        "print('Estatística do teste: {}'.format(estatistica))\n",
        "print('p-valor: {}'.format(p))"
      ]
    },
    {
      "cell_type": "markdown",
      "metadata": {
        "id": "V6bxiYpYJmKS"
      },
      "source": [
        "Teste Lilliefors (Kolmogorov_Sminorv)"
      ]
    },
    {
      "cell_type": "markdown",
      "metadata": {
        "id": "qmzqzC03JvHk"
      },
      "source": [
        "Ho = distribuição normal : p > 0.05\n",
        "\n",
        "Ha = distribuição != normal : p <= 0.05"
      ]
    },
    {
      "cell_type": "code",
      "execution_count": null,
      "metadata": {
        "id": "-FABb4nSJlXf"
      },
      "outputs": [],
      "source": [
        "import statsmodels\n",
        "from statsmodels.stats.diagnostic import lilliefors"
      ]
    },
    {
      "cell_type": "code",
      "execution_count": null,
      "metadata": {
        "id": "YAxevGrNJuT5"
      },
      "outputs": [],
      "source": [
        "estatistica, p = statsmodels.stats.diagnostic.lilliefors(df.MEDV, dist = 'norm')\n",
        "print('Estatística de teste: {}'.format(estatistica))\n",
        "print('p-valor: {}'.format(p))"
      ]
    },
    {
      "cell_type": "code",
      "execution_count": null,
      "metadata": {
        "id": "B1MzwpxfMZHm"
      },
      "outputs": [],
      "source": [
        "estatistica, p = statsmodels.stats.diagnostic.lilliefors(df.RM, dist = 'norm')\n",
        "print('Estatística de teste: {}'.format(estatistica))\n",
        "print('p-valor: {}'.format(p))"
      ]
    },
    {
      "cell_type": "markdown",
      "metadata": {
        "id": "uq5tgQBfnKEW"
      },
      "source": [
        "### Correlação Linear"
      ]
    },
    {
      "cell_type": "markdown",
      "metadata": {
        "id": "AINeGYMRQPdW"
      },
      "source": [
        "Pearson (distribuição normal)\n",
        "\n",
        "Spearman (distribuição não normal)\n",
        "\n",
        "Kendall (distribuição não normal com quantidade pequena de amostras)"
      ]
    },
    {
      "cell_type": "markdown",
      "metadata": {
        "id": "zqLl2LgkQbs3"
      },
      "source": [
        "Ho = não há corrrelação linear: p > 0,05\n",
        "\n",
        "Ha = existe correlação linear: p <= 0,05"
      ]
    },
    {
      "cell_type": "code",
      "execution_count": null,
      "metadata": {
        "id": "c0Qs5Jf2UR_1"
      },
      "outputs": [],
      "source": [
        "# Pearson\n",
        "#coef,p = stats.pearsonr(df.MEDV, df.RM)\n",
        "#print('Coeficiente de correlação: {}'.format(coef))\n",
        "#print('p-valor: {}'.format(p))"
      ]
    },
    {
      "cell_type": "code",
      "execution_count": null,
      "metadata": {
        "id": "K1dnDGnDVMQU"
      },
      "outputs": [],
      "source": [
        "# Spearman\n",
        "coef,p = stats.spearmanr(df.MEDV, df.PTRATIO)\n",
        "print('Coeficiente de correlação: {}'.format(coef))\n",
        "print('p-valor: {}'.format(p))"
      ]
    },
    {
      "cell_type": "code",
      "execution_count": null,
      "metadata": {
        "id": "rx0tZdc3VWBC"
      },
      "outputs": [],
      "source": [
        "# Kendall\n",
        "#coef,p = stats.kendalltau(df.MEDV,df.RM)\n",
        "#print('Coeficiente de correlação: {}'.format(coef))\n",
        "#print('p-valor: {}'.format(p))"
      ]
    },
    {
      "cell_type": "code",
      "execution_count": null,
      "metadata": {
        "id": "w6Wcby_cRHHg"
      },
      "outputs": [],
      "source": [
        "correlacoes = df.corr(method='spearman')\n",
        "correlacoes"
      ]
    },
    {
      "cell_type": "code",
      "execution_count": null,
      "metadata": {
        "id": "eaiZhH-XRisc"
      },
      "outputs": [],
      "source": [
        "plt.figure()\n",
        "sns.heatmap(correlacoes, annot=True);"
      ]
    },
    {
      "cell_type": "markdown",
      "metadata": {
        "id": "S3Hp7kQK9KaY"
      },
      "source": [
        "## **REGRESSÃO LINEAR SIMPLES**"
      ]
    },
    {
      "cell_type": "markdown",
      "metadata": {
        "id": "x7ruW5bkQhrR"
      },
      "source": [
        "https://scikit-learn.org/stable/modules/generated/sklearn.linear_model.LinearRegression.html "
      ]
    },
    {
      "cell_type": "markdown",
      "metadata": {
        "id": "Btt5b0gt0tAz"
      },
      "source": [
        "### Valor médio (MEDV) em função do número de cômodos (RM)"
      ]
    },
    {
      "cell_type": "code",
      "execution_count": null,
      "metadata": {
        "id": "uTt4DY04DavB"
      },
      "outputs": [],
      "source": [
        "df.head(2)"
      ]
    },
    {
      "cell_type": "code",
      "execution_count": null,
      "metadata": {
        "id": "r-ghCIWu0PM0"
      },
      "outputs": [],
      "source": [
        "x1 = df.iloc[:,0:1].values\n",
        "x1"
      ]
    },
    {
      "cell_type": "code",
      "execution_count": null,
      "metadata": {
        "id": "7S0eXs3R0dZe"
      },
      "outputs": [],
      "source": [
        "y = df.iloc[:, 3].values\n",
        "y"
      ]
    },
    {
      "cell_type": "code",
      "execution_count": null,
      "metadata": {
        "id": "xH25j9ap18Xu"
      },
      "outputs": [],
      "source": [
        "from sklearn.model_selection import train_test_split\n",
        "x_treino, x_teste, y_treino, y_teste = train_test_split(x1, y, test_size = 0.3, random_state = 10)"
      ]
    },
    {
      "cell_type": "code",
      "execution_count": null,
      "metadata": {
        "id": "Bsws9Z2P2Nug"
      },
      "outputs": [],
      "source": [
        "x_treino.shape, y_treino.shape"
      ]
    },
    {
      "cell_type": "code",
      "execution_count": null,
      "metadata": {
        "id": "bMjUYmZu2VEj"
      },
      "outputs": [],
      "source": [
        "x_teste.shape, y_teste.shape"
      ]
    },
    {
      "cell_type": "code",
      "execution_count": null,
      "metadata": {
        "id": "vEBGIvlQa41o"
      },
      "outputs": [],
      "source": [
        "from sklearn.linear_model import LinearRegression"
      ]
    },
    {
      "cell_type": "code",
      "execution_count": null,
      "metadata": {
        "id": "A-iqvnKk2bnf"
      },
      "outputs": [],
      "source": [
        "reg_linear1 = LinearRegression()\n",
        "reg_linear1.fit(x_treino, y_treino)"
      ]
    },
    {
      "cell_type": "code",
      "execution_count": null,
      "metadata": {
        "id": "2bX8QM8S2ntL"
      },
      "outputs": [],
      "source": [
        "# Intercepto (coeficiente linear)\n",
        "reg_linear1.intercept_"
      ]
    },
    {
      "cell_type": "code",
      "execution_count": null,
      "metadata": {
        "id": "ZRr5GJ8l2sQs"
      },
      "outputs": [],
      "source": [
        "# Coeficiente Angular\n",
        "reg_linear1.coef_"
      ]
    },
    {
      "cell_type": "markdown",
      "metadata": {
        "id": "uGC5B9gnO-oZ"
      },
      "source": [
        "**Equação: Valor = -626510,27 + 173771,45.número_cômodos**"
      ]
    },
    {
      "cell_type": "code",
      "execution_count": null,
      "metadata": {
        "id": "GpTQY7812wpM"
      },
      "outputs": [],
      "source": [
        "# Coeficiente de Determinação dados de treino\n",
        "reg_linear1.score(x_treino, y_treino)"
      ]
    },
    {
      "cell_type": "code",
      "execution_count": null,
      "metadata": {
        "id": "1EG8Tvie28UO"
      },
      "outputs": [],
      "source": [
        "# Coeficiente de Determinação dados de teste\n",
        "reg_linear1.score(x_teste, y_teste)"
      ]
    },
    {
      "cell_type": "code",
      "execution_count": null,
      "metadata": {
        "id": "kL8XhAwQ3EbM"
      },
      "outputs": [],
      "source": [
        "previsoes_treino = reg_linear1.predict(x_treino)\n",
        "previsoes_treino"
      ]
    },
    {
      "cell_type": "code",
      "execution_count": null,
      "metadata": {
        "id": "0nRoU5nmvNLn"
      },
      "outputs": [],
      "source": [
        "import matplotlib.pyplot as plt"
      ]
    },
    {
      "cell_type": "code",
      "execution_count": null,
      "metadata": {
        "id": "t3hTUF7HzVC5"
      },
      "outputs": [],
      "source": [
        "plt.scatter(y=y_treino, x=x_treino, color='blue', s=10, alpha=0.9)\n",
        "X_plot = np.linspace(3, 9)\n",
        "plt.plot(X_plot, X_plot*reg_linear1.coef_ + reg_linear1.intercept_, color='r')\n",
        "plt.title('Reta de regressão')\n",
        "plt.ylabel('Valor Médio')\n",
        "plt.xlabel('Quantidade Média de Cômodos')\n",
        "plt.show()"
      ]
    },
    {
      "cell_type": "code",
      "execution_count": null,
      "metadata": {
        "id": "4KLbSxAg5oiQ"
      },
      "outputs": [],
      "source": [
        "previsoes_teste = reg_linear1.predict(x_teste)\n",
        "previsoes_teste"
      ]
    },
    {
      "cell_type": "code",
      "execution_count": null,
      "metadata": {
        "id": "XZtf_4mq5wLy"
      },
      "outputs": [],
      "source": [
        "y_teste"
      ]
    },
    {
      "cell_type": "code",
      "execution_count": null,
      "metadata": {
        "id": "6v_GM2AQ8KdP"
      },
      "outputs": [],
      "source": [
        "plt.scatter(y=y_teste, x=x_teste, color='blue', s=10, alpha=0.9)\n",
        "X_plot = np.linspace(4, 9)\n",
        "plt.plot(X_plot, X_plot*reg_linear1.coef_ + reg_linear1.intercept_, color='r')\n",
        "plt.title('Reta de regressão')\n",
        "plt.ylabel('Valor Médio')\n",
        "plt.xlabel('Quantidade de Cômodos')\n",
        "plt.show()"
      ]
    },
    {
      "cell_type": "code",
      "execution_count": null,
      "metadata": {
        "id": "CNrxZVosM5lD"
      },
      "outputs": [],
      "source": [
        "# Fazendo previsões para valores distintos\n",
        "valor_casa = reg_linear1.predict([[4]])\n",
        "valor_casa"
      ]
    },
    {
      "cell_type": "markdown",
      "metadata": {
        "id": "-eU7r8Fs2n5o"
      },
      "source": [
        "**Métricas de Desempenho**"
      ]
    },
    {
      "cell_type": "code",
      "execution_count": null,
      "metadata": {
        "id": "K0vNPhFw2QA_"
      },
      "outputs": [],
      "source": [
        "# Erro absoluto\n",
        "abs(y_teste - previsoes_teste).mean()"
      ]
    },
    {
      "cell_type": "code",
      "execution_count": null,
      "metadata": {
        "id": "0xwitnAQ2QBA"
      },
      "outputs": [],
      "source": [
        "from sklearn.metrics import mean_absolute_error, mean_squared_error"
      ]
    },
    {
      "cell_type": "code",
      "execution_count": null,
      "metadata": {
        "id": "JvV7onBf2QBA"
      },
      "outputs": [],
      "source": [
        "# Erro médio absoluto\n",
        "mean_absolute_error(y_teste, previsoes_teste)"
      ]
    },
    {
      "cell_type": "code",
      "execution_count": null,
      "metadata": {
        "id": "Hsv58lFO2QBB"
      },
      "outputs": [],
      "source": [
        "# Erro quadrático médio\n",
        "mean_squared_error(y_teste, previsoes_teste)"
      ]
    },
    {
      "cell_type": "code",
      "execution_count": null,
      "metadata": {
        "id": "XP8C3lPI2QBC"
      },
      "outputs": [],
      "source": [
        "# Raiz do erro quadrático médio\n",
        "np.sqrt(mean_squared_error(y_teste, previsoes_teste))"
      ]
    },
    {
      "cell_type": "markdown",
      "metadata": {
        "id": "xOvqLq4JDIV1"
      },
      "source": [
        "### Valor médio (MEDV) em função da classe social (LSTAT)"
      ]
    },
    {
      "cell_type": "code",
      "execution_count": null,
      "metadata": {
        "id": "tlTW_OVLD7Gd"
      },
      "outputs": [],
      "source": [
        "df.head(2)"
      ]
    },
    {
      "cell_type": "code",
      "execution_count": null,
      "metadata": {
        "id": "BX3_0k2JDIV-"
      },
      "outputs": [],
      "source": [
        "x2 = df.iloc[:,1:2].values\n",
        "x2"
      ]
    },
    {
      "cell_type": "code",
      "execution_count": null,
      "metadata": {
        "id": "QQxq1rOaDIV-"
      },
      "outputs": [],
      "source": [
        "y = df.iloc[:, 3].values\n",
        "y"
      ]
    },
    {
      "cell_type": "code",
      "execution_count": null,
      "metadata": {
        "id": "fm5tatizDIV-"
      },
      "outputs": [],
      "source": [
        "from sklearn.model_selection import train_test_split\n",
        "x_treino, x_teste, y_treino, y_teste = train_test_split(x2, y, test_size = 0.3, random_state = 10)"
      ]
    },
    {
      "cell_type": "code",
      "execution_count": null,
      "metadata": {
        "id": "Nf4kIFBUDIV-"
      },
      "outputs": [],
      "source": [
        "x_treino.shape, y_treino.shape"
      ]
    },
    {
      "cell_type": "code",
      "execution_count": null,
      "metadata": {
        "id": "1ENZkvJ6DIV_"
      },
      "outputs": [],
      "source": [
        "x_teste.shape, y_teste.shape"
      ]
    },
    {
      "cell_type": "code",
      "execution_count": null,
      "metadata": {
        "id": "pnlHWrMSDIV_"
      },
      "outputs": [],
      "source": [
        "from sklearn.linear_model import LinearRegression\n",
        "reg_linear2 = LinearRegression()\n",
        "reg_linear2.fit(x_treino, y_treino)"
      ]
    },
    {
      "cell_type": "code",
      "execution_count": null,
      "metadata": {
        "id": "sf9TY-nmDIV_"
      },
      "outputs": [],
      "source": [
        "# Intercepto (coeficiente linear)\n",
        "reg_linear2.intercept_"
      ]
    },
    {
      "cell_type": "code",
      "execution_count": null,
      "metadata": {
        "id": "yKxLXHwwDIWA"
      },
      "outputs": [],
      "source": [
        "# Coeficiente Angular\n",
        "reg_linear2.coef_"
      ]
    },
    {
      "cell_type": "markdown",
      "metadata": {
        "id": "egv0y9u3pTN2"
      },
      "source": [
        "**Equação: Valor = 681977,75 - 17263,75.LSTAT**"
      ]
    },
    {
      "cell_type": "code",
      "execution_count": null,
      "metadata": {
        "id": "7rAbcYHrDIWA"
      },
      "outputs": [],
      "source": [
        "# Coeficiente de Determinação dados de treino\n",
        "reg_linear2.score(x_treino, y_treino)"
      ]
    },
    {
      "cell_type": "code",
      "execution_count": null,
      "metadata": {
        "id": "01cMJImBDIWA"
      },
      "outputs": [],
      "source": [
        "previsoes_treino = reg_linear2.predict(x_treino)\n",
        "previsoes_treino"
      ]
    },
    {
      "cell_type": "code",
      "execution_count": null,
      "metadata": {
        "id": "1k8tu9tSDIWA"
      },
      "outputs": [],
      "source": [
        "plt.scatter(y=y_treino, x=x_treino, color='blue', s=10, alpha=0.9)\n",
        "X_plot = np.linspace(0, 40)\n",
        "plt.plot(X_plot, X_plot*reg_linear2.coef_ + reg_linear2.intercept_, color='r')\n",
        "plt.title('Reta de regressão')\n",
        "plt.ylabel('Valor Médio')\n",
        "plt.xlabel('Quantidade de Proprietários de Classe Média Baixa (%)')\n",
        "plt.show()"
      ]
    },
    {
      "cell_type": "code",
      "execution_count": null,
      "metadata": {
        "id": "0VULl4HSDIWB"
      },
      "outputs": [],
      "source": [
        "previsoes_teste = reg_linear2.predict(x_teste)\n",
        "previsoes_teste"
      ]
    },
    {
      "cell_type": "code",
      "execution_count": null,
      "metadata": {
        "id": "A0e4uSPQDIWB"
      },
      "outputs": [],
      "source": [
        "y_teste"
      ]
    },
    {
      "cell_type": "code",
      "execution_count": null,
      "metadata": {
        "id": "hBKuKJ8CDIWA"
      },
      "outputs": [],
      "source": [
        "# Coeficiente de Determinação dados de teste\n",
        "reg_linear2.score(x_teste, y_teste)"
      ]
    },
    {
      "cell_type": "code",
      "execution_count": null,
      "metadata": {
        "id": "662tKSwpDIWB"
      },
      "outputs": [],
      "source": [
        "plt.scatter(y=y_teste, x=x_teste, color='blue', s=10, alpha=0.9)\n",
        "X_plot = np.linspace(2, 35)\n",
        "plt.plot(X_plot, X_plot*reg_linear2.coef_ + reg_linear2.intercept_, color='r')\n",
        "plt.title('Reta de regressão')\n",
        "plt.ylabel('Valor Médio')\n",
        "plt.xlabel('Quantidade de Proprietários de Classe Média Baixa (%)')\n",
        "plt.show()"
      ]
    },
    {
      "cell_type": "code",
      "execution_count": null,
      "metadata": {
        "id": "2q9VCdUONwFp"
      },
      "outputs": [],
      "source": [
        "# Fazendo previsões para valores distintos\n",
        "valor_casa = reg_linear2.predict([[25]])\n",
        "valor_casa"
      ]
    },
    {
      "cell_type": "markdown",
      "metadata": {
        "id": "UA65Y6G6DIWB"
      },
      "source": [
        "**Métricas de Desempenho**"
      ]
    },
    {
      "cell_type": "code",
      "execution_count": null,
      "metadata": {
        "id": "QV59JNCnDIWB"
      },
      "outputs": [],
      "source": [
        "# Erro absoluto\n",
        "abs(y_teste - previsoes_teste).mean()"
      ]
    },
    {
      "cell_type": "code",
      "execution_count": null,
      "metadata": {
        "id": "MOv0MSHiDIWC"
      },
      "outputs": [],
      "source": [
        "from sklearn.metrics import mean_absolute_error, mean_squared_error"
      ]
    },
    {
      "cell_type": "code",
      "execution_count": null,
      "metadata": {
        "id": "bc0dZQc7DIWC"
      },
      "outputs": [],
      "source": [
        "# Erro médio Absoluto\n",
        "mean_absolute_error(y_teste, previsoes_teste)"
      ]
    },
    {
      "cell_type": "code",
      "execution_count": null,
      "metadata": {
        "id": "-I9Zi-ZVDIWC"
      },
      "outputs": [],
      "source": [
        "# Erro quadrático médio\n",
        "mean_squared_error(y_teste, previsoes_teste)"
      ]
    },
    {
      "cell_type": "code",
      "execution_count": null,
      "metadata": {
        "id": "io-zNm8VDIWC"
      },
      "outputs": [],
      "source": [
        "# Raiz do erro quadrático médio (RMSE)\n",
        "np.sqrt(mean_squared_error(y_teste, previsoes_teste))"
      ]
    },
    {
      "cell_type": "markdown",
      "metadata": {
        "id": "BsXaKhiVIMGl"
      },
      "source": [
        "### **Validação Cruzada**"
      ]
    },
    {
      "cell_type": "code",
      "execution_count": null,
      "metadata": {
        "id": "lvBuy5bm_qok"
      },
      "outputs": [],
      "source": [
        "from sklearn.model_selection import KFold\n",
        "from sklearn.model_selection import cross_val_score"
      ]
    },
    {
      "cell_type": "code",
      "execution_count": null,
      "metadata": {
        "id": "SS_dyx4x_260"
      },
      "outputs": [],
      "source": [
        "# Separando os dados em folds\n",
        "kfold = KFold(n_splits = 15, shuffle=True, random_state = 5)"
      ]
    },
    {
      "cell_type": "code",
      "execution_count": null,
      "metadata": {
        "id": "K0aqT7kPAf1L"
      },
      "outputs": [],
      "source": [
        "# Criando o modelo\n",
        "from sklearn.linear_model import LinearRegression\n",
        "modelo = LinearRegression()\n",
        "resultado = cross_val_score(modelo, x2, y, cv = kfold)\n",
        "resultado"
      ]
    },
    {
      "cell_type": "code",
      "execution_count": null,
      "metadata": {
        "id": "3Lq7dW7ALUqE"
      },
      "outputs": [],
      "source": [
        "# Usamos a média e o desvio padrão\n",
        "print(\"Coef. determinação Médio: %.2f%%\" % (resultado.mean() * 100.0))"
      ]
    },
    {
      "cell_type": "markdown",
      "metadata": {
        "id": "LmzsbeX5w0lY"
      },
      "source": [
        "## **REGRESSÃO LINEAR MÚLTIPLA**"
      ]
    },
    {
      "cell_type": "code",
      "execution_count": null,
      "metadata": {
        "id": "kgYpMcLwkZUE"
      },
      "outputs": [],
      "source": [
        "from sklearn.linear_model import LinearRegression"
      ]
    },
    {
      "cell_type": "code",
      "execution_count": null,
      "metadata": {
        "id": "f1nrMVmEyqIC"
      },
      "outputs": [],
      "source": [
        "df.head(2)"
      ]
    },
    {
      "cell_type": "code",
      "execution_count": null,
      "metadata": {
        "id": "aX8qGculivhJ"
      },
      "outputs": [],
      "source": [
        "independente = df.iloc[:, 0:3].values\n",
        "independente"
      ]
    },
    {
      "cell_type": "code",
      "execution_count": null,
      "metadata": {
        "id": "M7xlISgSzDMG"
      },
      "outputs": [],
      "source": [
        "independente.shape"
      ]
    },
    {
      "cell_type": "code",
      "execution_count": null,
      "metadata": {
        "id": "Qqq3fnIvjP3R"
      },
      "outputs": [],
      "source": [
        "dependente = df.iloc[:, 3].values\n",
        "dependente"
      ]
    },
    {
      "cell_type": "code",
      "execution_count": null,
      "metadata": {
        "id": "a4AKtgVd9h02"
      },
      "outputs": [],
      "source": [
        "from sklearn.model_selection import train_test_split\n",
        "x_treino, x_teste, y_treino, y_teste = train_test_split(independente, dependente, test_size = 0.3, random_state = 0)"
      ]
    },
    {
      "cell_type": "code",
      "execution_count": null,
      "metadata": {
        "id": "9fw4GK5g9kkj"
      },
      "outputs": [],
      "source": [
        "x_treino.shape, x_teste.shape"
      ]
    },
    {
      "cell_type": "code",
      "execution_count": null,
      "metadata": {
        "id": "WUP3-e_okhcd"
      },
      "outputs": [],
      "source": [
        "multipla = LinearRegression()\n",
        "multipla.fit(x_treino, y_treino)"
      ]
    },
    {
      "cell_type": "code",
      "execution_count": null,
      "metadata": {
        "id": "wTgjt31Ep3NI"
      },
      "outputs": [],
      "source": [
        "multipla.intercept_"
      ]
    },
    {
      "cell_type": "code",
      "execution_count": null,
      "metadata": {
        "id": "9BgX7VTMuv1q"
      },
      "outputs": [],
      "source": [
        "multipla.coef_"
      ]
    },
    {
      "cell_type": "code",
      "execution_count": null,
      "metadata": {
        "id": "8nn9ATOblAPt"
      },
      "outputs": [],
      "source": [
        "print(\"Equação: Valor = {:.2f} + ({:.2f})*RM + ({:.2f})*LSTAT + ({:.2f})*PTRATIO\".format(multipla.intercept_, multipla.coef_[0], multipla.coef_[1], multipla.coef_[2]))"
      ]
    },
    {
      "cell_type": "code",
      "execution_count": null,
      "metadata": {
        "id": "4n_LXotMoJpM"
      },
      "outputs": [],
      "source": [
        "# Coeficiente de Determinação\n",
        "multipla.score(x_treino, y_treino)"
      ]
    },
    {
      "cell_type": "markdown",
      "metadata": {
        "id": "FWKwy4jE18as"
      },
      "source": [
        "**TESTE**"
      ]
    },
    {
      "cell_type": "code",
      "execution_count": null,
      "metadata": {
        "id": "vS3xum5A1-Hw"
      },
      "outputs": [],
      "source": [
        "previsoes = multipla.predict(x_teste)\n",
        "previsoes"
      ]
    },
    {
      "cell_type": "code",
      "execution_count": null,
      "metadata": {
        "id": "Ii_5SXfv2IWa"
      },
      "outputs": [],
      "source": [
        "y_teste"
      ]
    },
    {
      "cell_type": "code",
      "execution_count": null,
      "metadata": {
        "id": "uyGfU-jg5n5A"
      },
      "outputs": [],
      "source": [
        "# Coeficiente de Determinação\n",
        "multipla.score(x_teste, y_teste)"
      ]
    },
    {
      "cell_type": "code",
      "execution_count": null,
      "metadata": {
        "id": "FS1Jm81s7E1t"
      },
      "outputs": [],
      "source": [
        "# Fazendo previsões para valores distintos\n",
        "valor_casa = multipla.predict([[6,20,12]])\n",
        "valor_casa"
      ]
    },
    {
      "cell_type": "markdown",
      "metadata": {
        "id": "sSpkaLa65QBw"
      },
      "source": [
        "**MÉTRICAS**"
      ]
    },
    {
      "cell_type": "code",
      "execution_count": null,
      "metadata": {
        "id": "VzYBRKey3Gx3"
      },
      "outputs": [],
      "source": [
        "# Erro absoluto\n",
        "abs(y_teste - previsoes).mean()"
      ]
    },
    {
      "cell_type": "code",
      "execution_count": null,
      "metadata": {
        "id": "Xe7D9X8T3Gx4"
      },
      "outputs": [],
      "source": [
        "from sklearn.metrics import mean_absolute_error, mean_squared_error"
      ]
    },
    {
      "cell_type": "code",
      "execution_count": null,
      "metadata": {
        "id": "IDgsagJZ3Gx4"
      },
      "outputs": [],
      "source": [
        "# Erro médio Absoluto\n",
        "mean_absolute_error(y_teste, previsoes)"
      ]
    },
    {
      "cell_type": "code",
      "execution_count": null,
      "metadata": {
        "id": "9Ji4rWpd3Gx5"
      },
      "outputs": [],
      "source": [
        "# Erro quadrático médio\n",
        "mean_squared_error(y_teste, previsoes)"
      ]
    },
    {
      "cell_type": "code",
      "execution_count": null,
      "metadata": {
        "id": "T28f1ngx3Gx5"
      },
      "outputs": [],
      "source": [
        "# Raiz do erro quadrático médio\n",
        "np.sqrt(mean_squared_error(y_teste, previsoes))"
      ]
    },
    {
      "cell_type": "markdown",
      "metadata": {
        "id": "gGC6-Oz98SHi"
      },
      "source": [
        "### **Validação Cruzada**"
      ]
    },
    {
      "cell_type": "code",
      "execution_count": null,
      "metadata": {
        "id": "a-BNcrFK8SHj"
      },
      "outputs": [],
      "source": [
        "from sklearn.model_selection import KFold\n",
        "from sklearn.model_selection import cross_val_score"
      ]
    },
    {
      "cell_type": "code",
      "execution_count": null,
      "metadata": {
        "id": "ajx802o98SHk"
      },
      "outputs": [],
      "source": [
        "# Separando os dados em folds\n",
        "kfold = KFold(n_splits = 15, shuffle=True, random_state = 5)"
      ]
    },
    {
      "cell_type": "code",
      "execution_count": null,
      "metadata": {
        "id": "pHsOTmgU8SHl"
      },
      "outputs": [],
      "source": [
        "# Criando o modelo\n",
        "from sklearn.linear_model import LinearRegression\n",
        "modelo = LinearRegression()\n",
        "resultado = cross_val_score(modelo, independente, dependente, cv = kfold)\n",
        "resultado"
      ]
    },
    {
      "cell_type": "code",
      "execution_count": null,
      "metadata": {
        "id": "RdlkoLV38SHl"
      },
      "outputs": [],
      "source": [
        "# Usamos a média e o desvio padrão\n",
        "print(\"Coeficiente de Determinação Médio: %.2f%%\" % (resultado.mean() * 100.0))"
      ]
    },
    {
      "cell_type": "markdown",
      "metadata": {
        "id": "WTK4cOLq93Uh"
      },
      "source": [
        "**REGRESSÃO LINEAR SIMPLES:** R^2 = 0,57/0,60; RMSE = 99315,5; R^2 Validação Cruzada: 55,97%\n",
        "\n",
        "**REGRESSÃO LINEAR MÚLTIPLA:** R^2 = 0,73/0,68; RMSE = 96087,3; R^2 Validação Cruzada: 69,25%"
      ]
    },
    {
      "cell_type": "markdown",
      "metadata": {
        "id": "l74FqlotBUSo"
      },
      "source": [
        "## **REGRESSÃO POLINOMIAL**"
      ]
    },
    {
      "cell_type": "markdown",
      "metadata": {
        "id": "rxl3wSbjQzmC"
      },
      "source": [
        "https://scikit-learn.org/stable/modules/generated/sklearn.preprocessing.PolynomialFeatures.html "
      ]
    },
    {
      "cell_type": "markdown",
      "metadata": {
        "id": "s6Xb-47Gy2Zu"
      },
      "source": [
        "Valor médio (MEDV) em função do número de cômodos (RM)"
      ]
    },
    {
      "cell_type": "code",
      "execution_count": null,
      "metadata": {
        "colab": {
          "base_uri": "https://localhost:8080/",
          "height": 112
        },
        "id": "iW4QWMUdy2Zw",
        "outputId": "a2213841-13e8-4b2e-9cc7-fe88ef5dad23"
      },
      "outputs": [
        {
          "data": {
            "text/html": [
              "\n",
              "  <div id=\"df-8e3e6bc5-2ede-4ba3-a50f-8db575321be9\">\n",
              "    <div class=\"colab-df-container\">\n",
              "      <div>\n",
              "<style scoped>\n",
              "    .dataframe tbody tr th:only-of-type {\n",
              "        vertical-align: middle;\n",
              "    }\n",
              "\n",
              "    .dataframe tbody tr th {\n",
              "        vertical-align: top;\n",
              "    }\n",
              "\n",
              "    .dataframe thead th {\n",
              "        text-align: right;\n",
              "    }\n",
              "</style>\n",
              "<table border=\"1\" class=\"dataframe\">\n",
              "  <thead>\n",
              "    <tr style=\"text-align: right;\">\n",
              "      <th></th>\n",
              "      <th>RM</th>\n",
              "      <th>LSTAT</th>\n",
              "      <th>PTRATIO</th>\n",
              "      <th>MEDV</th>\n",
              "    </tr>\n",
              "  </thead>\n",
              "  <tbody>\n",
              "    <tr>\n",
              "      <th>0</th>\n",
              "      <td>6.575</td>\n",
              "      <td>4.98</td>\n",
              "      <td>15.3</td>\n",
              "      <td>504000.0</td>\n",
              "    </tr>\n",
              "    <tr>\n",
              "      <th>1</th>\n",
              "      <td>6.421</td>\n",
              "      <td>9.14</td>\n",
              "      <td>17.8</td>\n",
              "      <td>453600.0</td>\n",
              "    </tr>\n",
              "  </tbody>\n",
              "</table>\n",
              "</div>\n",
              "      <button class=\"colab-df-convert\" onclick=\"convertToInteractive('df-8e3e6bc5-2ede-4ba3-a50f-8db575321be9')\"\n",
              "              title=\"Convert this dataframe to an interactive table.\"\n",
              "              style=\"display:none;\">\n",
              "        \n",
              "  <svg xmlns=\"http://www.w3.org/2000/svg\" height=\"24px\"viewBox=\"0 0 24 24\"\n",
              "       width=\"24px\">\n",
              "    <path d=\"M0 0h24v24H0V0z\" fill=\"none\"/>\n",
              "    <path d=\"M18.56 5.44l.94 2.06.94-2.06 2.06-.94-2.06-.94-.94-2.06-.94 2.06-2.06.94zm-11 1L8.5 8.5l.94-2.06 2.06-.94-2.06-.94L8.5 2.5l-.94 2.06-2.06.94zm10 10l.94 2.06.94-2.06 2.06-.94-2.06-.94-.94-2.06-.94 2.06-2.06.94z\"/><path d=\"M17.41 7.96l-1.37-1.37c-.4-.4-.92-.59-1.43-.59-.52 0-1.04.2-1.43.59L10.3 9.45l-7.72 7.72c-.78.78-.78 2.05 0 2.83L4 21.41c.39.39.9.59 1.41.59.51 0 1.02-.2 1.41-.59l7.78-7.78 2.81-2.81c.8-.78.8-2.07 0-2.86zM5.41 20L4 18.59l7.72-7.72 1.47 1.35L5.41 20z\"/>\n",
              "  </svg>\n",
              "      </button>\n",
              "      \n",
              "  <style>\n",
              "    .colab-df-container {\n",
              "      display:flex;\n",
              "      flex-wrap:wrap;\n",
              "      gap: 12px;\n",
              "    }\n",
              "\n",
              "    .colab-df-convert {\n",
              "      background-color: #E8F0FE;\n",
              "      border: none;\n",
              "      border-radius: 50%;\n",
              "      cursor: pointer;\n",
              "      display: none;\n",
              "      fill: #1967D2;\n",
              "      height: 32px;\n",
              "      padding: 0 0 0 0;\n",
              "      width: 32px;\n",
              "    }\n",
              "\n",
              "    .colab-df-convert:hover {\n",
              "      background-color: #E2EBFA;\n",
              "      box-shadow: 0px 1px 2px rgba(60, 64, 67, 0.3), 0px 1px 3px 1px rgba(60, 64, 67, 0.15);\n",
              "      fill: #174EA6;\n",
              "    }\n",
              "\n",
              "    [theme=dark] .colab-df-convert {\n",
              "      background-color: #3B4455;\n",
              "      fill: #D2E3FC;\n",
              "    }\n",
              "\n",
              "    [theme=dark] .colab-df-convert:hover {\n",
              "      background-color: #434B5C;\n",
              "      box-shadow: 0px 1px 3px 1px rgba(0, 0, 0, 0.15);\n",
              "      filter: drop-shadow(0px 1px 2px rgba(0, 0, 0, 0.3));\n",
              "      fill: #FFFFFF;\n",
              "    }\n",
              "  </style>\n",
              "\n",
              "      <script>\n",
              "        const buttonEl =\n",
              "          document.querySelector('#df-8e3e6bc5-2ede-4ba3-a50f-8db575321be9 button.colab-df-convert');\n",
              "        buttonEl.style.display =\n",
              "          google.colab.kernel.accessAllowed ? 'block' : 'none';\n",
              "\n",
              "        async function convertToInteractive(key) {\n",
              "          const element = document.querySelector('#df-8e3e6bc5-2ede-4ba3-a50f-8db575321be9');\n",
              "          const dataTable =\n",
              "            await google.colab.kernel.invokeFunction('convertToInteractive',\n",
              "                                                     [key], {});\n",
              "          if (!dataTable) return;\n",
              "\n",
              "          const docLinkHtml = 'Like what you see? Visit the ' +\n",
              "            '<a target=\"_blank\" href=https://colab.research.google.com/notebooks/data_table.ipynb>data table notebook</a>'\n",
              "            + ' to learn more about interactive tables.';\n",
              "          element.innerHTML = '';\n",
              "          dataTable['output_type'] = 'display_data';\n",
              "          await google.colab.output.renderOutput(dataTable, element);\n",
              "          const docLink = document.createElement('div');\n",
              "          docLink.innerHTML = docLinkHtml;\n",
              "          element.appendChild(docLink);\n",
              "        }\n",
              "      </script>\n",
              "    </div>\n",
              "  </div>\n",
              "  "
            ],
            "text/plain": [
              "      RM  LSTAT  PTRATIO      MEDV\n",
              "0  6.575   4.98     15.3  504000.0\n",
              "1  6.421   9.14     17.8  453600.0"
            ]
          },
          "execution_count": 4,
          "metadata": {},
          "output_type": "execute_result"
        }
      ],
      "source": [
        "df.head(2)"
      ]
    },
    {
      "cell_type": "code",
      "execution_count": null,
      "metadata": {
        "id": "iHwBH87Qy2Zx"
      },
      "outputs": [],
      "source": [
        "x1 = df.iloc[:,0:1].values\n",
        "x1"
      ]
    },
    {
      "cell_type": "code",
      "execution_count": null,
      "metadata": {
        "id": "YcPCZ7B2y2Zx"
      },
      "outputs": [],
      "source": [
        "y = df.iloc[:, 3].values\n",
        "y"
      ]
    },
    {
      "cell_type": "code",
      "execution_count": null,
      "metadata": {
        "id": "kN8BGPNuy2Zy"
      },
      "outputs": [],
      "source": [
        "from sklearn.model_selection import train_test_split\n",
        "x_treino, x_teste, y_treino, y_teste = train_test_split(x1, y, test_size = 0.3, random_state = 0)"
      ]
    },
    {
      "cell_type": "code",
      "execution_count": null,
      "metadata": {
        "colab": {
          "base_uri": "https://localhost:8080/"
        },
        "id": "LnZefisMy2Zz",
        "outputId": "d132d049-41dd-4326-b5cc-a02aed0ccaa6"
      },
      "outputs": [
        {
          "data": {
            "text/plain": [
              "((342, 1), (342,))"
            ]
          },
          "execution_count": 8,
          "metadata": {},
          "output_type": "execute_result"
        }
      ],
      "source": [
        "x_treino.shape, y_treino.shape"
      ]
    },
    {
      "cell_type": "code",
      "execution_count": null,
      "metadata": {
        "colab": {
          "base_uri": "https://localhost:8080/"
        },
        "id": "4HZbiotXy2Zz",
        "outputId": "75a0699e-d8e6-403d-ef7a-8d52220be42c"
      },
      "outputs": [
        {
          "data": {
            "text/plain": [
              "((147, 1), (147,))"
            ]
          },
          "execution_count": 9,
          "metadata": {},
          "output_type": "execute_result"
        }
      ],
      "source": [
        "x_teste.shape, y_teste.shape"
      ]
    },
    {
      "cell_type": "code",
      "execution_count": null,
      "metadata": {
        "id": "fYmNDUC70sS-"
      },
      "outputs": [],
      "source": [
        "from sklearn.preprocessing import PolynomialFeatures\n",
        "from sklearn.linear_model import LinearRegression"
      ]
    },
    {
      "cell_type": "code",
      "execution_count": null,
      "metadata": {
        "id": "cJ40XdDp0wa9"
      },
      "outputs": [],
      "source": [
        "# Pré Processamento\n",
        "grau_polinomial =PolynomialFeatures(degree=2)"
      ]
    },
    {
      "cell_type": "code",
      "execution_count": null,
      "metadata": {
        "colab": {
          "base_uri": "https://localhost:8080/"
        },
        "id": "eaKDcBBa09t8",
        "outputId": "8204c563-5f48-4ef4-ce17-5b9c80abc4fc"
      },
      "outputs": [
        {
          "data": {
            "text/plain": [
              "array([[ 1.      ,  6.266   , 39.262756],\n",
              "       [ 1.      ,  6.951   , 48.316401],\n",
              "       [ 1.      ,  6.619   , 43.811161],\n",
              "       ...,\n",
              "       [ 1.      ,  6.021   , 36.252441],\n",
              "       [ 1.      ,  6.03    , 36.3609  ],\n",
              "       [ 1.      ,  6.02    , 36.2404  ]])"
            ]
          },
          "execution_count": 12,
          "metadata": {},
          "output_type": "execute_result"
        }
      ],
      "source": [
        "x_poly = grau_polinomial.fit_transform(x_treino)\n",
        "x_poly"
      ]
    },
    {
      "cell_type": "code",
      "execution_count": null,
      "metadata": {
        "id": "c92sBlGh14g8"
      },
      "outputs": [],
      "source": [
        "polinomial = LinearRegression()"
      ]
    },
    {
      "cell_type": "code",
      "execution_count": null,
      "metadata": {
        "colab": {
          "base_uri": "https://localhost:8080/"
        },
        "id": "rmcVhyf62D2Z",
        "outputId": "e7434aad-ec00-437a-f494-ada281033179"
      },
      "outputs": [
        {
          "data": {
            "text/plain": [
              "LinearRegression()"
            ]
          },
          "execution_count": 14,
          "metadata": {},
          "output_type": "execute_result"
        }
      ],
      "source": [
        "polinomial.fit(x_poly, y_treino)"
      ]
    },
    {
      "cell_type": "code",
      "execution_count": null,
      "metadata": {
        "id": "6LdCO7pn21oL"
      },
      "outputs": [],
      "source": [
        "previsoes_treino = polinomial.predict(x_poly)"
      ]
    },
    {
      "cell_type": "code",
      "execution_count": null,
      "metadata": {
        "colab": {
          "base_uri": "https://localhost:8080/"
        },
        "id": "sxO5u0kuBmZZ",
        "outputId": "bec1e97c-a507-40a6-c040-a6092d5f7e29"
      },
      "outputs": [
        {
          "data": {
            "text/plain": [
              "array([      0.        , -568528.11104731,   60092.59048475])"
            ]
          },
          "execution_count": 16,
          "metadata": {},
          "output_type": "execute_result"
        }
      ],
      "source": [
        "polinomial.coef_"
      ]
    },
    {
      "cell_type": "code",
      "execution_count": null,
      "metadata": {
        "colab": {
          "base_uri": "https://localhost:8080/"
        },
        "id": "45PxFqQJBvJ-",
        "outputId": "427725b0-f79d-4107-bf10-7198413162b0"
      },
      "outputs": [
        {
          "data": {
            "text/plain": [
              "1640107.0085836346"
            ]
          },
          "execution_count": 17,
          "metadata": {},
          "output_type": "execute_result"
        }
      ],
      "source": [
        "polinomial.intercept_"
      ]
    },
    {
      "cell_type": "markdown",
      "metadata": {
        "id": "gip9Am_QCO5m"
      },
      "source": [
        "**Equação:**\n",
        "\n",
        "Valor = 1640107 - 568528.11*RM + 60092.59*RM^2"
      ]
    },
    {
      "cell_type": "code",
      "execution_count": null,
      "metadata": {
        "id": "90-1bKy_ErzH"
      },
      "outputs": [],
      "source": [
        "numeros = np.linspace(3,9.84,342)\n",
        "numeros"
      ]
    },
    {
      "cell_type": "code",
      "execution_count": null,
      "metadata": {
        "colab": {
          "base_uri": "https://localhost:8080/"
        },
        "id": "xSHziSI6Ibdw",
        "outputId": "ea341448-e166-4193-bd4b-cf7eaa65c675"
      },
      "outputs": [
        {
          "data": {
            "text/plain": [
              "(342,)"
            ]
          },
          "execution_count": 19,
          "metadata": {},
          "output_type": "execute_result"
        }
      ],
      "source": [
        "numeros.shape"
      ]
    },
    {
      "cell_type": "code",
      "execution_count": null,
      "metadata": {
        "id": "1z_fEA9NCMFu"
      },
      "outputs": [],
      "source": [
        "valor = 1640107 -568528.11*numeros + 60092.59*numeros**2"
      ]
    },
    {
      "cell_type": "code",
      "execution_count": null,
      "metadata": {
        "id": "bHC7KVx8BCrF"
      },
      "outputs": [],
      "source": [
        "import matplotlib.pyplot as plt"
      ]
    },
    {
      "cell_type": "code",
      "execution_count": null,
      "metadata": {
        "colab": {
          "base_uri": "https://localhost:8080/",
          "height": 295
        },
        "id": "73IUpLI63J37",
        "outputId": "8acca2e0-cf6c-4152-ae86-cc82bf163d25"
      },
      "outputs": [
        {
          "data": {
            "image/png": "[encoded data removed]",
            "text/plain": [
              "<Figure size 432x288 with 1 Axes>"
            ]
          },
          "metadata": {
            "needs_background": "light"
          },
          "output_type": "display_data"
        }
      ],
      "source": [
        "plt.scatter(x_treino, y_treino, c = \"gray\")\n",
        "plt.xlabel(\"Quantidade Cômodos\")\n",
        "plt.ylabel(\"Valores das Casas\")\n",
        "plt.title(\"Previsão dos valores das casas: dados de treino\")\n",
        "plt.plot(numeros, valor);"
      ]
    },
    {
      "cell_type": "code",
      "execution_count": null,
      "metadata": {
        "colab": {
          "base_uri": "https://localhost:8080/"
        },
        "id": "nqXZAgSpM5TL",
        "outputId": "2a9762c9-aae9-4298-efe7-39fd5ca8b04c"
      },
      "outputs": [
        {
          "data": {
            "text/plain": [
              "392271.5799999996"
            ]
          },
          "execution_count": 24,
          "metadata": {},
          "output_type": "execute_result"
        }
      ],
      "source": [
        "# Fazendo previsões para valores distintos\n",
        "comodos = 6\n",
        "valor = 1640107 -568528.11*comodos + 60092.59*comodos**2\n",
        "valor"
      ]
    },
    {
      "cell_type": "code",
      "execution_count": null,
      "metadata": {
        "colab": {
          "base_uri": "https://localhost:8080/"
        },
        "id": "WrsObUUUQse7",
        "outputId": "f79faec3-1530-4f59-c250-f5dbbe6f5490"
      },
      "outputs": [
        {
          "data": {
            "text/plain": [
              "0.5864656525780776"
            ]
          },
          "execution_count": 25,
          "metadata": {},
          "output_type": "execute_result"
        }
      ],
      "source": [
        "# Coeficiente de Determinação dados de treino\n",
        "polinomial.score(x_poly, y_treino)"
      ]
    },
    {
      "cell_type": "markdown",
      "metadata": {
        "id": "YQM-rjYiKIx3"
      },
      "source": [
        "**TESTE**"
      ]
    },
    {
      "cell_type": "code",
      "execution_count": null,
      "metadata": {
        "colab": {
          "base_uri": "https://localhost:8080/"
        },
        "id": "b26kMsIcKRfc",
        "outputId": "d44854d2-1a7e-44cd-b9a0-77e729c1e91c"
      },
      "outputs": [
        {
          "data": {
            "text/plain": [
              "array([3.        , 3.04027397, 3.08054795, 3.12082192, 3.16109589,\n",
              "       3.20136986, 3.24164384, 3.28191781, 3.32219178, 3.36246575,\n",
              "       3.40273973, 3.4430137 , 3.48328767, 3.52356164, 3.56383562,\n",
              "       3.60410959, 3.64438356, 3.68465753, 3.72493151, 3.76520548,\n",
              "       3.80547945, 3.84575342, 3.8860274 , 3.92630137, 3.96657534,\n",
              "       4.00684932, 4.04712329, 4.08739726, 4.12767123, 4.16794521,\n",
              "       4.20821918, 4.24849315, 4.28876712, 4.3290411 , 4.36931507,\n",
              "       4.40958904, 4.44986301, 4.49013699, 4.53041096, 4.57068493,\n",
              "       4.6109589 , 4.65123288, 4.69150685, 4.73178082, 4.77205479,\n",
              "       4.81232877, 4.85260274, 4.89287671, 4.93315068, 4.97342466,\n",
              "       5.01369863, 5.0539726 , 5.09424658, 5.13452055, 5.17479452,\n",
              "       5.21506849, 5.25534247, 5.29561644, 5.33589041, 5.37616438,\n",
              "       5.41643836, 5.45671233, 5.4969863 , 5.53726027, 5.57753425,\n",
              "       5.61780822, 5.65808219, 5.69835616, 5.73863014, 5.77890411,\n",
              "       5.81917808, 5.85945205, 5.89972603, 5.94      , 5.98027397,\n",
              "       6.02054795, 6.06082192, 6.10109589, 6.14136986, 6.18164384,\n",
              "       6.22191781, 6.26219178, 6.30246575, 6.34273973, 6.3830137 ,\n",
              "       6.42328767, 6.46356164, 6.50383562, 6.54410959, 6.58438356,\n",
              "       6.62465753, 6.66493151, 6.70520548, 6.74547945, 6.78575342,\n",
              "       6.8260274 , 6.86630137, 6.90657534, 6.94684932, 6.98712329,\n",
              "       7.02739726, 7.06767123, 7.10794521, 7.14821918, 7.18849315,\n",
              "       7.22876712, 7.2690411 , 7.30931507, 7.34958904, 7.38986301,\n",
              "       7.43013699, 7.47041096, 7.51068493, 7.5509589 , 7.59123288,\n",
              "       7.63150685, 7.67178082, 7.71205479, 7.75232877, 7.79260274,\n",
              "       7.83287671, 7.87315068, 7.91342466, 7.95369863, 7.9939726 ,\n",
              "       8.03424658, 8.07452055, 8.11479452, 8.15506849, 8.19534247,\n",
              "       8.23561644, 8.27589041, 8.31616438, 8.35643836, 8.39671233,\n",
              "       8.4369863 , 8.47726027, 8.51753425, 8.55780822, 8.59808219,\n",
              "       8.63835616, 8.67863014, 8.71890411, 8.75917808, 8.79945205,\n",
              "       8.83972603, 8.88      ])"
            ]
          },
          "execution_count": 26,
          "metadata": {},
          "output_type": "execute_result"
        }
      ],
      "source": [
        "numeros2 = np.linspace(3,8.88,147)\n",
        "numeros2"
      ]
    },
    {
      "cell_type": "code",
      "execution_count": null,
      "metadata": {
        "colab": {
          "base_uri": "https://localhost:8080/"
        },
        "id": "QwIONvPaKRfd",
        "outputId": "93e88560-0753-4579-e2cf-b56cab992214"
      },
      "outputs": [
        {
          "data": {
            "text/plain": [
              "(147,)"
            ]
          },
          "execution_count": 27,
          "metadata": {},
          "output_type": "execute_result"
        }
      ],
      "source": [
        "numeros2.shape"
      ]
    },
    {
      "cell_type": "code",
      "execution_count": null,
      "metadata": {
        "id": "Jl8S1QHnKRfd"
      },
      "outputs": [],
      "source": [
        "valor2 = 1640107 -568528.11*numeros2 + 60092.59*numeros2**2"
      ]
    },
    {
      "cell_type": "code",
      "execution_count": null,
      "metadata": {
        "id": "CwfK-zZLKRfe"
      },
      "outputs": [],
      "source": [
        "import matplotlib.pyplot as plt"
      ]
    },
    {
      "cell_type": "code",
      "execution_count": null,
      "metadata": {
        "colab": {
          "base_uri": "https://localhost:8080/",
          "height": 295
        },
        "id": "dtf0r1GcKRfe",
        "outputId": "20df57ba-6d41-49b0-e1b6-c9056d962708"
      },
      "outputs": [
        {
          "data": {
            "image/png": "[encoded data removed]",
            "text/plain": [
              "<Figure size 432x288 with 1 Axes>"
            ]
          },
          "metadata": {
            "needs_background": "light"
          },
          "output_type": "display_data"
        }
      ],
      "source": [
        "plt.scatter(x_teste, y_teste, c = \"gray\")\n",
        "plt.xlabel(\"Quantidade Cômodos\")\n",
        "plt.ylabel(\"Valor Casas\")\n",
        "plt.title(\"Previsão dos valores das casas: dados de teste\")\n",
        "plt.plot(numeros2, valor2);"
      ]
    },
    {
      "cell_type": "code",
      "execution_count": null,
      "metadata": {
        "id": "hoH-9JjWKdAe"
      },
      "outputs": [],
      "source": [
        "x_poly_teste = grau_polinomial.fit_transform(x_teste)\n",
        "x_poly_teste"
      ]
    },
    {
      "cell_type": "code",
      "execution_count": null,
      "metadata": {
        "id": "NJv-sQdBKdAf"
      },
      "outputs": [],
      "source": [
        "polinomial_teste = LinearRegression()"
      ]
    },
    {
      "cell_type": "code",
      "execution_count": null,
      "metadata": {
        "colab": {
          "base_uri": "https://localhost:8080/"
        },
        "id": "mb-o1YtPKRfZ",
        "outputId": "00612fda-f778-4eb4-8cd8-d9a87e2b5b5f"
      },
      "outputs": [
        {
          "data": {
            "text/plain": [
              "LinearRegression()"
            ]
          },
          "execution_count": 33,
          "metadata": {},
          "output_type": "execute_result"
        }
      ],
      "source": [
        "polinomial_teste.fit(x_poly_teste, y_teste)"
      ]
    },
    {
      "cell_type": "code",
      "execution_count": null,
      "metadata": {
        "colab": {
          "base_uri": "https://localhost:8080/"
        },
        "id": "N4VHnrmARbfA",
        "outputId": "45552ab7-ea82-4c64-aa25-4ac5364ca8ba"
      },
      "outputs": [
        {
          "data": {
            "text/plain": [
              "0.5391879530755566"
            ]
          },
          "execution_count": 34,
          "metadata": {},
          "output_type": "execute_result"
        }
      ],
      "source": [
        "# Coeficiente de Determinação dados de teste\n",
        "polinomial.score(x_poly_teste, y_teste)"
      ]
    },
    {
      "cell_type": "code",
      "execution_count": null,
      "metadata": {
        "id": "8PngvKX2KRfa"
      },
      "outputs": [],
      "source": [
        "previsoes_teste = polinomial_teste.predict(x_poly_teste)"
      ]
    },
    {
      "cell_type": "markdown",
      "metadata": {
        "id": "bLfbXwUV2tZJ"
      },
      "source": [
        "**MÉTRICAS**"
      ]
    },
    {
      "cell_type": "code",
      "execution_count": null,
      "metadata": {
        "id": "PnDu4Kht7qFI"
      },
      "outputs": [],
      "source": [
        "from sklearn.metrics import mean_absolute_error, mean_squared_error"
      ]
    },
    {
      "cell_type": "code",
      "execution_count": null,
      "metadata": {
        "colab": {
          "base_uri": "https://localhost:8080/"
        },
        "id": "1aC34FoV7qFJ",
        "outputId": "62a8f0f6-98d3-430c-81ee-431e7d3bfb2a"
      },
      "outputs": [
        {
          "data": {
            "text/plain": [
              "88894.00551287511"
            ]
          },
          "execution_count": 37,
          "metadata": {},
          "output_type": "execute_result"
        }
      ],
      "source": [
        "# Erro médio Absoluto\n",
        "mean_absolute_error(y_teste, previsoes_teste)"
      ]
    },
    {
      "cell_type": "code",
      "execution_count": null,
      "metadata": {
        "colab": {
          "base_uri": "https://localhost:8080/"
        },
        "id": "O-Q6xhUc7qFJ",
        "outputId": "c606a24e-8920-42f3-80fa-d20ea1ec2cbc"
      },
      "outputs": [
        {
          "data": {
            "text/plain": [
              "13149352560.413319"
            ]
          },
          "execution_count": 38,
          "metadata": {},
          "output_type": "execute_result"
        }
      ],
      "source": [
        "# Erro quadrático médio\n",
        "mean_squared_error(y_teste, previsoes_teste)"
      ]
    },
    {
      "cell_type": "code",
      "execution_count": null,
      "metadata": {
        "colab": {
          "base_uri": "https://localhost:8080/"
        },
        "id": "bRpWUvWg7qFK",
        "outputId": "8646045c-bcd7-4cd5-c15b-8667c91333e9"
      },
      "outputs": [
        {
          "data": {
            "text/plain": [
              "114670.6264063004"
            ]
          },
          "execution_count": 39,
          "metadata": {},
          "output_type": "execute_result"
        }
      ],
      "source": [
        "# Raiz do erro quadrático médio (RMSE)\n",
        "np.sqrt(mean_squared_error(y_teste, previsoes_teste))"
      ]
    },
    {
      "cell_type": "markdown",
      "metadata": {
        "id": "N2mEiK4bR-5v"
      },
      "source": [
        "**RESULTADOS:**\n",
        "\n",
        "**REGRESSÃO LINEAR SIMPLES:** R^2 = 0,57/0,60; RMSE = 99315,5; R^2 Validação Cruzada: 55,97%\n",
        "\n",
        "**REGRESSÃO LINEAR MÚLTIPLA:** R^2 = 0,73/0,68; RMSE = 96087,3; R^2 Validação Cruzada: 69,25%\n",
        "\n",
        "**REGRESSÃO POLINOMIAL:** R^2 = 0,59/0,54; RMSE = 114670,6."
      ]
    },
    {
      "cell_type": "markdown",
      "metadata": {
        "id": "WX2KnLCzsq7u"
      },
      "source": [
        "## **REGRESSÃO POR VETORES DE SUPORTE**"
      ]
    },
    {
      "cell_type": "markdown",
      "metadata": {
        "id": "X5x2joIiP457"
      },
      "source": [
        "https://scikit-learn.org/stable/modules/generated/sklearn.svm.SVR.html "
      ]
    },
    {
      "cell_type": "code",
      "execution_count": null,
      "metadata": {
        "colab": {
          "base_uri": "https://localhost:8080/",
          "height": 112
        },
        "id": "YUF38EvVtCOS",
        "outputId": "fe756413-ab87-4096-c74c-5ad8911763d9"
      },
      "outputs": [
        {
          "data": {
            "text/html": [
              "\n",
              "  <div id=\"df-c9b8fbd8-4cf1-4fe3-8509-9c23081c568b\">\n",
              "    <div class=\"colab-df-container\">\n",
              "      <div>\n",
              "<style scoped>\n",
              "    .dataframe tbody tr th:only-of-type {\n",
              "        vertical-align: middle;\n",
              "    }\n",
              "\n",
              "    .dataframe tbody tr th {\n",
              "        vertical-align: top;\n",
              "    }\n",
              "\n",
              "    .dataframe thead th {\n",
              "        text-align: right;\n",
              "    }\n",
              "</style>\n",
              "<table border=\"1\" class=\"dataframe\">\n",
              "  <thead>\n",
              "    <tr style=\"text-align: right;\">\n",
              "      <th></th>\n",
              "      <th>RM</th>\n",
              "      <th>LSTAT</th>\n",
              "      <th>PTRATIO</th>\n",
              "      <th>MEDV</th>\n",
              "    </tr>\n",
              "  </thead>\n",
              "  <tbody>\n",
              "    <tr>\n",
              "      <th>0</th>\n",
              "      <td>6.575</td>\n",
              "      <td>4.98</td>\n",
              "      <td>15.3</td>\n",
              "      <td>504000.0</td>\n",
              "    </tr>\n",
              "    <tr>\n",
              "      <th>1</th>\n",
              "      <td>6.421</td>\n",
              "      <td>9.14</td>\n",
              "      <td>17.8</td>\n",
              "      <td>453600.0</td>\n",
              "    </tr>\n",
              "  </tbody>\n",
              "</table>\n",
              "</div>\n",
              "      <button class=\"colab-df-convert\" onclick=\"convertToInteractive('df-c9b8fbd8-4cf1-4fe3-8509-9c23081c568b')\"\n",
              "              title=\"Convert this dataframe to an interactive table.\"\n",
              "              style=\"display:none;\">\n",
              "        \n",
              "  <svg xmlns=\"http://www.w3.org/2000/svg\" height=\"24px\"viewBox=\"0 0 24 24\"\n",
              "       width=\"24px\">\n",
              "    <path d=\"M0 0h24v24H0V0z\" fill=\"none\"/>\n",
              "    <path d=\"M18.56 5.44l.94 2.06.94-2.06 2.06-.94-2.06-.94-.94-2.06-.94 2.06-2.06.94zm-11 1L8.5 8.5l.94-2.06 2.06-.94-2.06-.94L8.5 2.5l-.94 2.06-2.06.94zm10 10l.94 2.06.94-2.06 2.06-.94-2.06-.94-.94-2.06-.94 2.06-2.06.94z\"/><path d=\"M17.41 7.96l-1.37-1.37c-.4-.4-.92-.59-1.43-.59-.52 0-1.04.2-1.43.59L10.3 9.45l-7.72 7.72c-.78.78-.78 2.05 0 2.83L4 21.41c.39.39.9.59 1.41.59.51 0 1.02-.2 1.41-.59l7.78-7.78 2.81-2.81c.8-.78.8-2.07 0-2.86zM5.41 20L4 18.59l7.72-7.72 1.47 1.35L5.41 20z\"/>\n",
              "  </svg>\n",
              "      </button>\n",
              "      \n",
              "  <style>\n",
              "    .colab-df-container {\n",
              "      display:flex;\n",
              "      flex-wrap:wrap;\n",
              "      gap: 12px;\n",
              "    }\n",
              "\n",
              "    .colab-df-convert {\n",
              "      background-color: #E8F0FE;\n",
              "      border: none;\n",
              "      border-radius: 50%;\n",
              "      cursor: pointer;\n",
              "      display: none;\n",
              "      fill: #1967D2;\n",
              "      height: 32px;\n",
              "      padding: 0 0 0 0;\n",
              "      width: 32px;\n",
              "    }\n",
              "\n",
              "    .colab-df-convert:hover {\n",
              "      background-color: #E2EBFA;\n",
              "      box-shadow: 0px 1px 2px rgba(60, 64, 67, 0.3), 0px 1px 3px 1px rgba(60, 64, 67, 0.15);\n",
              "      fill: #174EA6;\n",
              "    }\n",
              "\n",
              "    [theme=dark] .colab-df-convert {\n",
              "      background-color: #3B4455;\n",
              "      fill: #D2E3FC;\n",
              "    }\n",
              "\n",
              "    [theme=dark] .colab-df-convert:hover {\n",
              "      background-color: #434B5C;\n",
              "      box-shadow: 0px 1px 3px 1px rgba(0, 0, 0, 0.15);\n",
              "      filter: drop-shadow(0px 1px 2px rgba(0, 0, 0, 0.3));\n",
              "      fill: #FFFFFF;\n",
              "    }\n",
              "  </style>\n",
              "\n",
              "      <script>\n",
              "        const buttonEl =\n",
              "          document.querySelector('#df-c9b8fbd8-4cf1-4fe3-8509-9c23081c568b button.colab-df-convert');\n",
              "        buttonEl.style.display =\n",
              "          google.colab.kernel.accessAllowed ? 'block' : 'none';\n",
              "\n",
              "        async function convertToInteractive(key) {\n",
              "          const element = document.querySelector('#df-c9b8fbd8-4cf1-4fe3-8509-9c23081c568b');\n",
              "          const dataTable =\n",
              "            await google.colab.kernel.invokeFunction('convertToInteractive',\n",
              "                                                     [key], {});\n",
              "          if (!dataTable) return;\n",
              "\n",
              "          const docLinkHtml = 'Like what you see? Visit the ' +\n",
              "            '<a target=\"_blank\" href=https://colab.research.google.com/notebooks/data_table.ipynb>data table notebook</a>'\n",
              "            + ' to learn more about interactive tables.';\n",
              "          element.innerHTML = '';\n",
              "          dataTable['output_type'] = 'display_data';\n",
              "          await google.colab.output.renderOutput(dataTable, element);\n",
              "          const docLink = document.createElement('div');\n",
              "          docLink.innerHTML = docLinkHtml;\n",
              "          element.appendChild(docLink);\n",
              "        }\n",
              "      </script>\n",
              "    </div>\n",
              "  </div>\n",
              "  "
            ],
            "text/plain": [
              "      RM  LSTAT  PTRATIO      MEDV\n",
              "0  6.575   4.98     15.3  504000.0\n",
              "1  6.421   9.14     17.8  453600.0"
            ]
          },
          "execution_count": 4,
          "metadata": {},
          "output_type": "execute_result"
        }
      ],
      "source": [
        "df.head(2)"
      ]
    },
    {
      "cell_type": "code",
      "execution_count": null,
      "metadata": {
        "colab": {
          "base_uri": "https://localhost:8080/"
        },
        "id": "m1BCYoD6udBc",
        "outputId": "62eb5306-044c-4339-ef30-17180c9f2dae"
      },
      "outputs": [
        {
          "data": {
            "text/plain": [
              "array([[ 6.575,  4.98 , 15.3  ],\n",
              "       [ 6.421,  9.14 , 17.8  ],\n",
              "       [ 7.185,  4.03 , 17.8  ],\n",
              "       ...,\n",
              "       [ 6.976,  5.64 , 21.   ],\n",
              "       [ 6.794,  6.48 , 21.   ],\n",
              "       [ 6.03 ,  7.88 , 21.   ]])"
            ]
          },
          "execution_count": 5,
          "metadata": {},
          "output_type": "execute_result"
        }
      ],
      "source": [
        "independente = df.iloc[:, 0:3].values\n",
        "independente"
      ]
    },
    {
      "cell_type": "code",
      "execution_count": null,
      "metadata": {
        "colab": {
          "base_uri": "https://localhost:8080/"
        },
        "id": "UrL64jazudBe",
        "outputId": "536c30be-a405-4d4c-998c-42de28b407c1"
      },
      "outputs": [
        {
          "data": {
            "text/plain": [
              "(489, 3)"
            ]
          },
          "execution_count": 6,
          "metadata": {},
          "output_type": "execute_result"
        }
      ],
      "source": [
        "independente.shape"
      ]
    },
    {
      "cell_type": "code",
      "execution_count": null,
      "metadata": {
        "id": "BZsXvQGQudBf"
      },
      "outputs": [],
      "source": [
        "dependente = df.iloc[:, 3].values\n",
        "dependente"
      ]
    },
    {
      "cell_type": "code",
      "execution_count": null,
      "metadata": {
        "id": "pJmPpACbudBf"
      },
      "outputs": [],
      "source": [
        "from sklearn.model_selection import train_test_split\n",
        "x_treino, x_teste, y_treino, y_teste = train_test_split(independente, dependente, test_size = 0.3, random_state = 0)"
      ]
    },
    {
      "cell_type": "code",
      "execution_count": null,
      "metadata": {
        "colab": {
          "base_uri": "https://localhost:8080/"
        },
        "id": "qEOTgfCnudBg",
        "outputId": "9f3abbd4-ab5f-4900-fb6f-e7d02f7c0ace"
      },
      "outputs": [
        {
          "data": {
            "text/plain": [
              "((342, 3), (147, 3))"
            ]
          },
          "execution_count": 9,
          "metadata": {},
          "output_type": "execute_result"
        }
      ],
      "source": [
        "x_treino.shape, x_teste.shape"
      ]
    },
    {
      "cell_type": "code",
      "execution_count": null,
      "metadata": {
        "colab": {
          "base_uri": "https://localhost:8080/"
        },
        "id": "ZmVCGt-BtGVO",
        "outputId": "9b792b5f-6d96-4eba-aaa7-cca7380fa9c5"
      },
      "outputs": [
        {
          "data": {
            "text/plain": [
              "SVR()"
            ]
          },
          "execution_count": 16,
          "metadata": {},
          "output_type": "execute_result"
        }
      ],
      "source": [
        "# kernel = rbf, linear, polinomial (poly)\n",
        "from sklearn.svm import SVR\n",
        "SVR = SVR(kernel='rbf')\n",
        "SVR.fit(x_treino,y_treino)"
      ]
    },
    {
      "cell_type": "code",
      "execution_count": null,
      "metadata": {
        "colab": {
          "base_uri": "https://localhost:8080/"
        },
        "id": "809lWfiEuMiV",
        "outputId": "00cecb1e-1b4e-4879-8e61-47166eafc7be"
      },
      "outputs": [
        {
          "data": {
            "text/plain": [
              "-0.006148700884580638"
            ]
          },
          "execution_count": 17,
          "metadata": {},
          "output_type": "execute_result"
        }
      ],
      "source": [
        "SVR.score(x_treino, y_treino)"
      ]
    },
    {
      "cell_type": "code",
      "execution_count": null,
      "metadata": {
        "colab": {
          "base_uri": "https://localhost:8080/"
        },
        "id": "ZCcstZ8uuUq8",
        "outputId": "268b98a2-c1b8-4ad9-9c8b-4b214557dc90"
      },
      "outputs": [
        {
          "data": {
            "text/plain": [
              "-0.0029977270958452262"
            ]
          },
          "execution_count": 18,
          "metadata": {},
          "output_type": "execute_result"
        }
      ],
      "source": [
        "SVR.score(x_teste, y_teste)"
      ]
    },
    {
      "cell_type": "markdown",
      "metadata": {
        "id": "i0tdnZNhxRDj"
      },
      "source": [
        "**Padronização de escala**"
      ]
    },
    {
      "cell_type": "code",
      "execution_count": null,
      "metadata": {
        "id": "vIgPmXt8xRtk"
      },
      "outputs": [],
      "source": [
        "from sklearn.preprocessing import StandardScaler\n",
        "x_scaler = StandardScaler()\n",
        "x_treino_scaler = x_scaler.fit_transform(x_treino)"
      ]
    },
    {
      "cell_type": "code",
      "execution_count": null,
      "metadata": {
        "colab": {
          "base_uri": "https://localhost:8080/"
        },
        "id": "fc4OD6JdyVks",
        "outputId": "85506437-acc8-46e8-c1e3-7bc1410e8e87"
      },
      "outputs": [
        {
          "data": {
            "text/plain": [
              "array([[ 0.05327517, -0.70150711, -0.05467118],\n",
              "       [ 1.12799963, -0.44487061, -0.52922816],\n",
              "       [ 0.60711128, -0.79792304,  0.230063  ],\n",
              "       ...,\n",
              "       [-0.33111532, -0.36121561, -0.33940537],\n",
              "       [-0.31699486,  0.84398345, -0.29194967],\n",
              "       [-0.33268427, -0.38815536, -0.90887374]])"
            ]
          },
          "execution_count": 21,
          "metadata": {},
          "output_type": "execute_result"
        }
      ],
      "source": [
        "x_treino_scaler"
      ]
    },
    {
      "cell_type": "code",
      "execution_count": null,
      "metadata": {
        "id": "wyKhCzqexRy0"
      },
      "outputs": [],
      "source": [
        "y_scaler = StandardScaler()\n",
        "y_treino_scaler = y_scaler.fit_transform(y_treino.reshape(-1,1))"
      ]
    },
    {
      "cell_type": "code",
      "execution_count": null,
      "metadata": {
        "colab": {
          "base_uri": "https://localhost:8080/"
        },
        "id": "uyOhdquuyb2D",
        "outputId": "30e35c96-f582-41a9-d311-0589bf9fa6b3"
      },
      "outputs": [
        {
          "data": {
            "text/plain": [
              "array([[-1.05925606e-02],\n",
              "       [ 6.46900118e-01],\n",
              "       [ 2.85923746e-01],\n",
              "       [-1.13728667e-01],\n",
              "       [ 1.44111599e-01],\n",
              "       [-7.84113359e-01],\n",
              "       [-1.24822584e+00],\n",
              "       [-2.81324840e-01],\n",
              "       [-1.39512694e-01],\n",
              "       [-1.01616960e+00],\n",
              "       [ 2.00056152e+00],\n",
              "       [ 1.21414870e+00],\n",
              "       [ 1.27860877e+00],\n",
              "       [-1.52404707e-01],\n",
              "       [ 9.04740384e-01],\n",
              "       [ 2.29945267e-03],\n",
              "       [-2.81324840e-01],\n",
              "       [ 2.73031732e-01],\n",
              "       [-2.81324840e-01],\n",
              "       [ 2.73031732e-01],\n",
              "       [ 4.27735892e-01],\n",
              "       [ 2.60139719e-01],\n",
              "       [-1.06773765e+00],\n",
              "       [-1.17087376e+00],\n",
              "       [ 3.49603506e+00],\n",
              "       [ 9.04740384e-01],\n",
              "       [-2.07331469e+00],\n",
              "       [ 1.69895626e-01],\n",
              "       [ 4.27735892e-01],\n",
              "       [ 2.76119030e+00],\n",
              "       [-3.45784907e-01],\n",
              "       [ 2.73031732e-01],\n",
              "       [-1.48028208e+00],\n",
              "       [ 1.57003612e-01],\n",
              "       [-1.91080747e-01],\n",
              "       [-1.01616960e+00],\n",
              "       [ 3.37491799e-01],\n",
              "       [-2.34845740e-02],\n",
              "       [ 1.91031742e+00],\n",
              "       [ 3.37491799e-01],\n",
              "       [-5.26273093e-01],\n",
              "       [ 6.67595192e-02],\n",
              "       [-8.74357452e-01],\n",
              "       [-2.94216853e-01],\n",
              "       [-1.11930571e+00],\n",
              "       [-3.84460947e-01],\n",
              "       [-9.90385572e-01],\n",
              "       [ 6.21116092e-01],\n",
              "       [-1.69944630e+00],\n",
              "       [ 1.67826118e+00],\n",
              "       [-1.82836644e+00],\n",
              "       [-5.39165106e-01],\n",
              "       [-7.84113359e-01],\n",
              "       [ 2.60139719e-01],\n",
              "       [ 1.38174488e+00],\n",
              "       [-1.15798175e+00],\n",
              "       [-4.10244973e-01],\n",
              "       [ 4.01951865e-01],\n",
              "       [-3.07108867e-01],\n",
              "       [-9.77493559e-01],\n",
              "       [-2.15066677e+00],\n",
              "       [ 2.33575386e+00],\n",
              "       [-2.94216853e-01],\n",
              "       [-6.21606139e-02],\n",
              "       [ 1.82787639e-01],\n",
              "       [-1.06773765e+00],\n",
              "       [ 4.09754926e-02],\n",
              "       [ 1.95679652e-01],\n",
              "       [-3.71568933e-01],\n",
              "       [ 7.50036225e-01],\n",
              "       [ 1.42042092e+00],\n",
              "       [ 1.82787639e-01],\n",
              "       [-5.52057120e-01],\n",
              "       [ 1.49777300e+00],\n",
              "       [ 3.11707772e-01],\n",
              "       [ 1.02076850e+00],\n",
              "       [-7.71221346e-01],\n",
              "       [ 1.95679652e-01],\n",
              "       [-2.03972760e-01],\n",
              "       [-1.08062967e+00],\n",
              "       [-1.33846993e+00],\n",
              "       [ 1.31219586e-01],\n",
              "       [-4.23136987e-01],\n",
              "       [-1.10641369e+00],\n",
              "       [ 4.27735892e-01],\n",
              "       [ 4.27735892e-01],\n",
              "       [-1.05484564e+00],\n",
              "       [-6.21606139e-02],\n",
              "       [ 2.19394172e+00],\n",
              "       [ 6.34008105e-01],\n",
              "       [-7.32545306e-01],\n",
              "       [-3.32892893e-01],\n",
              "       [ 3.50383812e-01],\n",
              "       [ 3.76167839e-01],\n",
              "       [ 1.74272125e+00],\n",
              "       [ 9.25435458e-02],\n",
              "       [-4.36029000e-01],\n",
              "       [-9.51709532e-01],\n",
              "       [-4.10244973e-01],\n",
              "       [-2.42648800e-01],\n",
              "       [-1.31268591e+00],\n",
              "       [ 2.05212957e+00],\n",
              "       [-2.16864774e-01],\n",
              "       [-8.61465439e-01],\n",
              "       [ 4.53519919e-01],\n",
              "       [ 1.85874937e+00],\n",
              "       [ 2.21463679e-01],\n",
              "       [-5.90733160e-01],\n",
              "       [-6.21606139e-02],\n",
              "       [-3.58676920e-01],\n",
              "       [ 2.85923746e-01],\n",
              "       [-8.79446405e-02],\n",
              "       [ 2.80834793e-02],\n",
              "       [ 8.01604278e-01],\n",
              "       [-8.35681413e-01],\n",
              "       [ 2.98035453e+00],\n",
              "       [-8.87249466e-01],\n",
              "       [-1.39512694e-01],\n",
              "       [-1.78188734e-01],\n",
              "       [-1.10641369e+00],\n",
              "       [-3.45784907e-01],\n",
              "       [-3.32892893e-01],\n",
              "       [-1.08062967e+00],\n",
              "       [ 1.69895626e-01],\n",
              "       [-2.03972760e-01],\n",
              "       [-4.48921013e-01],\n",
              "       [ 1.57003612e-01],\n",
              "       [-1.39512694e-01],\n",
              "       [ 7.50036225e-01],\n",
              "       [-7.19653293e-01],\n",
              "       [ 9.56308438e-01],\n",
              "       [ 2.29945267e-03],\n",
              "       [-3.07108867e-01],\n",
              "       [ 6.67595192e-02],\n",
              "       [-1.26620680e-01],\n",
              "       [ 4.09754926e-02],\n",
              "       [-7.84113359e-01],\n",
              "       [ 1.08522857e+00],\n",
              "       [ 1.29150078e+00],\n",
              "       [-9.51709532e-01],\n",
              "       [ 1.44111599e-01],\n",
              "       [-5.52057120e-01],\n",
              "       [-1.72523033e+00],\n",
              "       [-1.23533383e+00],\n",
              "       [ 1.70404521e+00],\n",
              "       [ 4.09754926e-02],\n",
              "       [-2.29756787e-01],\n",
              "       [-1.78188734e-01],\n",
              "       [-8.79446405e-02],\n",
              "       [ 1.82787639e-01],\n",
              "       [-1.65296720e-01],\n",
              "       [ 1.05435559e-01],\n",
              "       [-1.45449805e+00],\n",
              "       [-6.29409200e-01],\n",
              "       [ 4.40627905e-01],\n",
              "       [ 1.31219586e-01],\n",
              "       [ 1.57003612e-01],\n",
              "       [ 2.85923746e-01],\n",
              "       [-3.63765873e-02],\n",
              "       [ 2.29945267e-03],\n",
              "       [-8.09897386e-01],\n",
              "       [-8.22789399e-01],\n",
              "       [ 1.82787639e-01],\n",
              "       [ 2.85923746e-01],\n",
              "       [-2.94216853e-01],\n",
              "       [-5.00489066e-01],\n",
              "       [-5.00489066e-01],\n",
              "       [-4.10244973e-01],\n",
              "       [-7.50526272e-02],\n",
              "       [-1.13728667e-01],\n",
              "       [-3.07108867e-01],\n",
              "       [-5.77841146e-01],\n",
              "       [ 2.87721842e+00],\n",
              "       [-1.15798175e+00],\n",
              "       [-4.48921013e-01],\n",
              "       [ 8.40280318e-01],\n",
              "       [ 1.72982924e+00],\n",
              "       [ 9.43416424e-01],\n",
              "       [-1.54474214e+00],\n",
              "       [ 1.51066501e+00],\n",
              "       [ 1.08522857e+00],\n",
              "       [-3.63765873e-02],\n",
              "       [ 2.01345353e+00],\n",
              "       [-1.78188734e-01],\n",
              "       [-1.13728667e-01],\n",
              "       [ 1.70404521e+00],\n",
              "       [-1.66077026e+00],\n",
              "       [ 1.51914660e-02],\n",
              "       [-2.03972760e-01],\n",
              "       [ 8.66064344e-01],\n",
              "       [-1.40293000e+00],\n",
              "       [ 1.33017682e+00],\n",
              "       [-9.77493559e-01],\n",
              "       [ 8.14496291e-01],\n",
              "       [ 1.82787639e-01],\n",
              "       [ 2.81275835e+00],\n",
              "       [-3.58676920e-01],\n",
              "       [-1.39003798e+00],\n",
              "       [ 1.05435559e-01],\n",
              "       [ 1.48488098e+00],\n",
              "       [-2.16864774e-01],\n",
              "       [-3.32892893e-01],\n",
              "       [ 2.08571666e-01],\n",
              "       [ 6.34008105e-01],\n",
              "       [ 3.05770661e+00],\n",
              "       [-2.55540814e-01],\n",
              "       [ 2.08571666e-01],\n",
              "       [-1.55763416e+00],\n",
              "       [-1.69944630e+00],\n",
              "       [-1.28690188e+00],\n",
              "       [-5.64949133e-01],\n",
              "       [ 3.37491799e-01],\n",
              "       [ 6.67595192e-02],\n",
              "       [-1.86704248e+00],\n",
              "       [-3.20000880e-01],\n",
              "       [ 1.89742541e+00],\n",
              "       [-9.25925506e-01],\n",
              "       [ 3.89059852e-01],\n",
              "       [ 2.98815759e-01],\n",
              "       [ 3.50383812e-01],\n",
              "       [-1.28690188e+00],\n",
              "       [ 2.85143439e+00],\n",
              "       [ 4.27735892e-01],\n",
              "       [-7.06761279e-01],\n",
              "       [ 1.51914660e-02],\n",
              "       [ 2.09080561e+00],\n",
              "       [-1.44160604e+00],\n",
              "       [ 1.44111599e-01],\n",
              "       [-1.39512694e-01],\n",
              "       [ 1.95679652e-01],\n",
              "       [ 8.66064344e-01],\n",
              "       [-1.06773765e+00],\n",
              "       [ 2.47247706e-01],\n",
              "       [-1.00836654e-01],\n",
              "       [-5.00489066e-01],\n",
              "       [-9.38817519e-01],\n",
              "       [-3.97352960e-01],\n",
              "       [-8.48573426e-01],\n",
              "       [ 2.60139719e-01],\n",
              "       [ 8.78956358e-01],\n",
              "       [ 2.98815759e-01],\n",
              "       [-5.00489066e-01],\n",
              "       [-7.84113359e-01],\n",
              "       [-5.39165106e-01],\n",
              "       [ 6.08224078e-01],\n",
              "       [-1.01616960e+00],\n",
              "       [-2.68432827e-01],\n",
              "       [-1.15798175e+00],\n",
              "       [ 4.09754926e-02],\n",
              "       [ 3.50383812e-01],\n",
              "       [-7.50526272e-02],\n",
              "       [ 2.29945267e-03],\n",
              "       [ 2.85923746e-01],\n",
              "       [-1.78188734e-01],\n",
              "       [-8.35681413e-01],\n",
              "       [-4.23136987e-01],\n",
              "       [-3.32892893e-01],\n",
              "       [-5.13381080e-01],\n",
              "       [-1.86704248e+00],\n",
              "       [ 4.09754926e-02],\n",
              "       [ 4.01951865e-01],\n",
              "       [ 1.47198897e+00],\n",
              "       [-3.07108867e-01],\n",
              "       [-8.61465439e-01],\n",
              "       [ 6.08224078e-01],\n",
              "       [ 1.27860877e+00],\n",
              "       [-2.94216853e-01],\n",
              "       [ 1.16258065e+00],\n",
              "       [-1.01616960e+00],\n",
              "       [-8.74357452e-01],\n",
              "       [ 4.66411932e-01],\n",
              "       [-2.81324840e-01],\n",
              "       [-2.15066677e+00],\n",
              "       [-2.68432827e-01],\n",
              "       [ 1.35596085e+00],\n",
              "       [-7.19653293e-01],\n",
              "       [ 3.89059852e-01],\n",
              "       [-1.26111785e+00],\n",
              "       [ 2.21463679e-01],\n",
              "       [-1.67366228e+00],\n",
              "       [-1.27400987e+00],\n",
              "       [-4.74705040e-01],\n",
              "       [ 4.09754926e-02],\n",
              "       [-4.23136987e-01],\n",
              "       [ 1.04655253e+00],\n",
              "       [-1.84125845e+00],\n",
              "       [ 2.73031732e-01],\n",
              "       [-2.68432827e-01],\n",
              "       [ 1.02076850e+00],\n",
              "       [-2.16864774e-01],\n",
              "       [-9.25925506e-01],\n",
              "       [-1.09352168e+00],\n",
              "       [-7.06761279e-01],\n",
              "       [ 1.97477749e+00],\n",
              "       [-6.42301213e-01],\n",
              "       [ 9.43416424e-01],\n",
              "       [-1.44160604e+00],\n",
              "       [-1.86704248e+00],\n",
              "       [-1.91080747e-01],\n",
              "       [-9.13033492e-01],\n",
              "       [ 6.98468171e-01],\n",
              "       [ 1.04655253e+00],\n",
              "       [ 1.87164138e+00],\n",
              "       [ 1.48488098e+00],\n",
              "       [ 6.34008105e-01],\n",
              "       [-2.29756787e-01],\n",
              "       [-9.77493559e-01],\n",
              "       [-5.77841146e-01],\n",
              "       [ 3.45735902e+00],\n",
              "       [ 4.01951865e-01],\n",
              "       [-4.36029000e-01],\n",
              "       [-9.64601546e-01],\n",
              "       [ 1.33017682e+00],\n",
              "       [ 1.44111599e-01],\n",
              "       [ 1.22704072e+00],\n",
              "       [-1.00327759e+00],\n",
              "       [ 7.96515325e-02],\n",
              "       [ 3.63275825e-01],\n",
              "       [-1.75101436e+00],\n",
              "       [ 1.05944454e+00],\n",
              "       [-2.03972760e-01],\n",
              "       [ 1.17547266e+00],\n",
              "       [ 1.70404521e+00],\n",
              "       [ 3.76167839e-01],\n",
              "       [-6.93869266e-01],\n",
              "       [ 2.47247706e-01],\n",
              "       [-1.89282650e+00],\n",
              "       [ 3.24599785e-01],\n",
              "       [ 6.67595192e-02],\n",
              "       [ 1.47198897e+00],\n",
              "       [ 3.50383812e-01],\n",
              "       [ 7.96515325e-02],\n",
              "       [-2.34845740e-02],\n",
              "       [-3.58676920e-01],\n",
              "       [-1.00327759e+00],\n",
              "       [ 3.11707772e-01],\n",
              "       [ 1.56223306e+00],\n",
              "       [-1.26620680e-01],\n",
              "       [ 1.66536917e+00],\n",
              "       [-3.20000880e-01],\n",
              "       [-6.55193226e-01],\n",
              "       [ 1.95679652e-01]])"
            ]
          },
          "execution_count": 27,
          "metadata": {},
          "output_type": "execute_result"
        }
      ],
      "source": [
        "y_treino_scaler"
      ]
    },
    {
      "cell_type": "code",
      "execution_count": null,
      "metadata": {
        "id": "IsHYG6i7ygdg"
      },
      "outputs": [],
      "source": [
        "x_teste_scaler = x_scaler.transform(x_teste)\n",
        "x_teste_scaler"
      ]
    },
    {
      "cell_type": "code",
      "execution_count": null,
      "metadata": {
        "id": "P5QgpoYoy_Vq"
      },
      "outputs": [],
      "source": [
        "y_teste_scaler = y_scaler.transform(y_teste.reshape(-1,1))\n",
        "y_teste_scaler"
      ]
    },
    {
      "cell_type": "code",
      "execution_count": null,
      "metadata": {
        "colab": {
          "base_uri": "https://localhost:8080/"
        },
        "id": "oyhO5h_8zZVJ",
        "outputId": "9af5cc61-1599-4d3a-fd92-f5f86ff065f6"
      },
      "outputs": [
        {
          "data": {
            "text/plain": [
              "SVR()"
            ]
          },
          "execution_count": 39,
          "metadata": {},
          "output_type": "execute_result"
        }
      ],
      "source": [
        "from sklearn.svm import SVR\n",
        "SVR2 = SVR(kernel='rbf')\n",
        "SVR2.fit(x_treino_scaler, y_treino_scaler.ravel())\n",
        "\n",
        "# .ravel() é para retornar matriz 1D"
      ]
    },
    {
      "cell_type": "code",
      "execution_count": null,
      "metadata": {
        "colab": {
          "base_uri": "https://localhost:8080/"
        },
        "id": "-CfJcin_z0ZS",
        "outputId": "71ff4764-689b-4bf1-f72b-e5a1b39453ae"
      },
      "outputs": [
        {
          "data": {
            "text/plain": [
              "0.8714780218682298"
            ]
          },
          "execution_count": 40,
          "metadata": {},
          "output_type": "execute_result"
        }
      ],
      "source": [
        "SVR2.score(x_treino_scaler, y_treino_scaler)"
      ]
    },
    {
      "cell_type": "markdown",
      "metadata": {
        "id": "6fHv3HCV0c4U"
      },
      "source": [
        "**TESTE**"
      ]
    },
    {
      "cell_type": "code",
      "execution_count": null,
      "metadata": {
        "colab": {
          "base_uri": "https://localhost:8080/"
        },
        "id": "UkLzgWpV0cDv",
        "outputId": "be17d7a6-c6c4-4397-f2f7-0cc535428548"
      },
      "outputs": [
        {
          "data": {
            "text/plain": [
              "0.8141963480712318"
            ]
          },
          "execution_count": 41,
          "metadata": {},
          "output_type": "execute_result"
        }
      ],
      "source": [
        "SVR2.score(x_teste_scaler, y_teste_scaler)"
      ]
    },
    {
      "cell_type": "code",
      "execution_count": null,
      "metadata": {
        "id": "tIHtC0NF038o"
      },
      "outputs": [],
      "source": [
        "previsoes_teste = SVR2.predict(x_teste_scaler)\n",
        "previsoes_teste"
      ]
    },
    {
      "cell_type": "code",
      "execution_count": null,
      "metadata": {
        "id": "he5RYWCs1Cvl"
      },
      "outputs": [],
      "source": [
        "y_teste_scaler"
      ]
    },
    {
      "cell_type": "markdown",
      "metadata": {
        "id": "qXiWO2g21N4C"
      },
      "source": [
        "**Revertendo a transformação**"
      ]
    },
    {
      "cell_type": "code",
      "execution_count": null,
      "metadata": {
        "id": "YxYKJhda1QOQ"
      },
      "outputs": [],
      "source": [
        "y_teste_inverse = y_scaler.inverse_transform(y_teste_scaler)\n",
        "previsoes_inverse = y_scaler.inverse_transform(previsoes_teste.reshape(-1, 1))"
      ]
    },
    {
      "cell_type": "code",
      "execution_count": null,
      "metadata": {
        "id": "h5UWcx7U2O4R"
      },
      "outputs": [],
      "source": [
        "y_teste_inverse"
      ]
    },
    {
      "cell_type": "code",
      "execution_count": null,
      "metadata": {
        "id": "gzk4dY8b2RaH"
      },
      "outputs": [],
      "source": [
        "previsoes_inverse"
      ]
    },
    {
      "cell_type": "markdown",
      "metadata": {
        "id": "LIuZtYzy244V"
      },
      "source": [
        "**MÉTRICAS**"
      ]
    },
    {
      "cell_type": "code",
      "execution_count": null,
      "metadata": {
        "id": "xQObOvjP244W"
      },
      "outputs": [],
      "source": [
        "from sklearn.metrics import mean_absolute_error, mean_squared_error"
      ]
    },
    {
      "cell_type": "code",
      "execution_count": null,
      "metadata": {
        "colab": {
          "base_uri": "https://localhost:8080/"
        },
        "id": "4_JGDXQ_244X",
        "outputId": "260af89d-74f7-46f3-e644-f6a9731a67c2"
      },
      "outputs": [
        {
          "data": {
            "text/plain": [
              "54733.899498823375"
            ]
          },
          "execution_count": 49,
          "metadata": {},
          "output_type": "execute_result"
        }
      ],
      "source": [
        "# Erro médio Absoluto\n",
        "mean_absolute_error(y_teste_inverse, previsoes_inverse)"
      ]
    },
    {
      "cell_type": "code",
      "execution_count": null,
      "metadata": {
        "colab": {
          "base_uri": "https://localhost:8080/"
        },
        "id": "FGawDh_o244Y",
        "outputId": "fbc496d2-79d1-44ce-c0ed-ca6653f07b77"
      },
      "outputs": [
        {
          "data": {
            "text/plain": [
              "5390892216.930902"
            ]
          },
          "execution_count": 50,
          "metadata": {},
          "output_type": "execute_result"
        }
      ],
      "source": [
        "# Erro quadrático médio\n",
        "mean_squared_error(y_teste_inverse, previsoes_inverse)"
      ]
    },
    {
      "cell_type": "code",
      "execution_count": null,
      "metadata": {
        "colab": {
          "base_uri": "https://localhost:8080/"
        },
        "id": "5EwUUep7244Z",
        "outputId": "421b5f41-def6-4758-9ef3-a158a568152c"
      },
      "outputs": [
        {
          "data": {
            "text/plain": [
              "73422.6955166514"
            ]
          },
          "execution_count": 51,
          "metadata": {},
          "output_type": "execute_result"
        }
      ],
      "source": [
        "# Raiz do erro quadrático médio (RMSE)\n",
        "np.sqrt(mean_squared_error(y_teste_inverse, previsoes_inverse))"
      ]
    },
    {
      "cell_type": "markdown",
      "metadata": {
        "id": "rHDzUmOb35hE"
      },
      "source": [
        "### **Validação Cruzada**"
      ]
    },
    {
      "cell_type": "markdown",
      "metadata": {
        "id": "ebxViZwY3_mH"
      },
      "source": [
        "**Padronização de escala**"
      ]
    },
    {
      "cell_type": "code",
      "execution_count": null,
      "metadata": {
        "id": "AIAuGipc3_mI"
      },
      "outputs": [],
      "source": [
        "from sklearn.preprocessing import StandardScaler\n",
        "x = StandardScaler()\n",
        "independente_scaler = x.fit_transform(independente)"
      ]
    },
    {
      "cell_type": "code",
      "execution_count": null,
      "metadata": {
        "colab": {
          "base_uri": "https://localhost:8080/"
        },
        "id": "RO4FhcYt3_mI",
        "outputId": "0d152dcd-30b5-480c-f482-08b3d89f4f7e"
      },
      "outputs": [
        {
          "data": {
            "text/plain": [
              "array([[ 0.52055395, -1.1250769 , -1.5250831 ],\n",
              "       [ 0.28104837, -0.53706982, -0.33974768],\n",
              "       [ 1.46924486, -1.25935736, -0.33974768],\n",
              "       ...,\n",
              "       [ 1.14420158, -1.03178731,  1.17748167],\n",
              "       [ 0.86114953, -0.91305511,  1.17748167],\n",
              "       [-0.32704695, -0.71516812,  1.17748167]])"
            ]
          },
          "execution_count": 53,
          "metadata": {},
          "output_type": "execute_result"
        }
      ],
      "source": [
        "independente_scaler"
      ]
    },
    {
      "cell_type": "code",
      "execution_count": null,
      "metadata": {
        "id": "y5khxbi53_mJ"
      },
      "outputs": [],
      "source": [
        "y = StandardScaler()\n",
        "dependente_scaler = y.fit_transform(dependente.reshape(-1,1))"
      ]
    },
    {
      "cell_type": "code",
      "execution_count": null,
      "metadata": {
        "id": "VFsyFWtC3gLe"
      },
      "outputs": [],
      "source": [
        "from sklearn.model_selection import KFold\n",
        "from sklearn.model_selection import cross_val_score"
      ]
    },
    {
      "cell_type": "code",
      "execution_count": null,
      "metadata": {
        "id": "AwKcmfAS3gLg"
      },
      "outputs": [],
      "source": [
        "# Separando os dados em folds\n",
        "kfold = KFold(n_splits = 15, shuffle=True, random_state = 5)"
      ]
    },
    {
      "cell_type": "code",
      "execution_count": null,
      "metadata": {
        "colab": {
          "base_uri": "https://localhost:8080/"
        },
        "id": "i8R3DHwF3gLg",
        "outputId": "23de34be-1575-49a4-8923-c557c62f34cc"
      },
      "outputs": [
        {
          "data": {
            "text/plain": [
              "array([0.92812888, 0.84684121, 0.77550142, 0.84579676, 0.87130224,\n",
              "       0.73027848, 0.8773257 , 0.8323081 , 0.81165058, 0.86738849,\n",
              "       0.91428868, 0.65473478, 0.78365184, 0.83876782, 0.77741225])"
            ]
          },
          "execution_count": 57,
          "metadata": {},
          "output_type": "execute_result"
        }
      ],
      "source": [
        "# Criando o modelo\n",
        "from sklearn.svm import SVR\n",
        "modelo = SVR(kernel='rbf')\n",
        "resultado = cross_val_score(modelo, independente_scaler, dependente_scaler.ravel(), cv = kfold)\n",
        "resultado"
      ]
    },
    {
      "cell_type": "code",
      "execution_count": null,
      "metadata": {
        "colab": {
          "base_uri": "https://localhost:8080/"
        },
        "id": "6xzv5UHd3gLh",
        "outputId": "ee712667-90ca-407a-cf80-72de804e5e33"
      },
      "outputs": [
        {
          "name": "stdout",
          "output_type": "stream",
          "text": [
            "Coeficiente de Determinação médio: 82.37%\n"
          ]
        }
      ],
      "source": [
        "# Usamos a média e o desvio padrão\n",
        "print(\"Coeficiente de Determinação médio: %.2f%%\" % (resultado.mean() * 100.0))"
      ]
    },
    {
      "cell_type": "markdown",
      "metadata": {
        "id": "9uo9IM_V2nph"
      },
      "source": [
        "**RESULTADOS:**\n",
        "\n",
        "**REGRESSÃO LINEAR SIMPLES:** R^2 = 0,57/0,60; RMSE = 99315,5; R^2 Validação Cruzada: 55,97%\n",
        "\n",
        "**REGRESSÃO LINEAR MÚLTIPLA:** R^2 = 0,73/0,68; RMSE = 96087,3; R^2 Validação Cruzada: 69,25%\n",
        "\n",
        "**REGRESSÃO POLINOMIAL:** R^2 = 0,59/0,54; RMSE = 114670,6.\n",
        "\n",
        "**REGRESSÃO SVR:** R^2 = 0,87/0,81; RMSE = 73422,7. R^2 Validação Cruzada: 82,37%."
      ]
    },
    {
      "cell_type": "markdown",
      "metadata": {
        "id": "N3OZHJFl2npi"
      },
      "source": [
        "## **REGRESSÃO COM ÁRVORE DE DECISÃO**"
      ]
    },
    {
      "cell_type": "markdown",
      "metadata": {
        "id": "0tAem7qwPVhF"
      },
      "source": [
        "https://scikit-learn.org/stable/modules/tree.html#regression "
      ]
    },
    {
      "cell_type": "code",
      "execution_count": null,
      "metadata": {
        "colab": {
          "base_uri": "https://localhost:8080/",
          "height": 112
        },
        "id": "ka5_F-RwHkLb",
        "outputId": "4f4e5c72-fdd6-49ed-b53b-49f2a295cfad"
      },
      "outputs": [
        {
          "data": {
            "text/html": [
              "\n",
              "  <div id=\"df-c477ffdd-f616-4d25-94d2-29029e946350\">\n",
              "    <div class=\"colab-df-container\">\n",
              "      <div>\n",
              "<style scoped>\n",
              "    .dataframe tbody tr th:only-of-type {\n",
              "        vertical-align: middle;\n",
              "    }\n",
              "\n",
              "    .dataframe tbody tr th {\n",
              "        vertical-align: top;\n",
              "    }\n",
              "\n",
              "    .dataframe thead th {\n",
              "        text-align: right;\n",
              "    }\n",
              "</style>\n",
              "<table border=\"1\" class=\"dataframe\">\n",
              "  <thead>\n",
              "    <tr style=\"text-align: right;\">\n",
              "      <th></th>\n",
              "      <th>RM</th>\n",
              "      <th>LSTAT</th>\n",
              "      <th>PTRATIO</th>\n",
              "      <th>MEDV</th>\n",
              "    </tr>\n",
              "  </thead>\n",
              "  <tbody>\n",
              "    <tr>\n",
              "      <th>0</th>\n",
              "      <td>6.575</td>\n",
              "      <td>4.98</td>\n",
              "      <td>15.3</td>\n",
              "      <td>504000.0</td>\n",
              "    </tr>\n",
              "    <tr>\n",
              "      <th>1</th>\n",
              "      <td>6.421</td>\n",
              "      <td>9.14</td>\n",
              "      <td>17.8</td>\n",
              "      <td>453600.0</td>\n",
              "    </tr>\n",
              "  </tbody>\n",
              "</table>\n",
              "</div>\n",
              "      <button class=\"colab-df-convert\" onclick=\"convertToInteractive('df-c477ffdd-f616-4d25-94d2-29029e946350')\"\n",
              "              title=\"Convert this dataframe to an interactive table.\"\n",
              "              style=\"display:none;\">\n",
              "        \n",
              "  <svg xmlns=\"http://www.w3.org/2000/svg\" height=\"24px\"viewBox=\"0 0 24 24\"\n",
              "       width=\"24px\">\n",
              "    <path d=\"M0 0h24v24H0V0z\" fill=\"none\"/>\n",
              "    <path d=\"M18.56 5.44l.94 2.06.94-2.06 2.06-.94-2.06-.94-.94-2.06-.94 2.06-2.06.94zm-11 1L8.5 8.5l.94-2.06 2.06-.94-2.06-.94L8.5 2.5l-.94 2.06-2.06.94zm10 10l.94 2.06.94-2.06 2.06-.94-2.06-.94-.94-2.06-.94 2.06-2.06.94z\"/><path d=\"M17.41 7.96l-1.37-1.37c-.4-.4-.92-.59-1.43-.59-.52 0-1.04.2-1.43.59L10.3 9.45l-7.72 7.72c-.78.78-.78 2.05 0 2.83L4 21.41c.39.39.9.59 1.41.59.51 0 1.02-.2 1.41-.59l7.78-7.78 2.81-2.81c.8-.78.8-2.07 0-2.86zM5.41 20L4 18.59l7.72-7.72 1.47 1.35L5.41 20z\"/>\n",
              "  </svg>\n",
              "      </button>\n",
              "      \n",
              "  <style>\n",
              "    .colab-df-container {\n",
              "      display:flex;\n",
              "      flex-wrap:wrap;\n",
              "      gap: 12px;\n",
              "    }\n",
              "\n",
              "    .colab-df-convert {\n",
              "      background-color: #E8F0FE;\n",
              "      border: none;\n",
              "      border-radius: 50%;\n",
              "      cursor: pointer;\n",
              "      display: none;\n",
              "      fill: #1967D2;\n",
              "      height: 32px;\n",
              "      padding: 0 0 0 0;\n",
              "      width: 32px;\n",
              "    }\n",
              "\n",
              "    .colab-df-convert:hover {\n",
              "      background-color: #E2EBFA;\n",
              "      box-shadow: 0px 1px 2px rgba(60, 64, 67, 0.3), 0px 1px 3px 1px rgba(60, 64, 67, 0.15);\n",
              "      fill: #174EA6;\n",
              "    }\n",
              "\n",
              "    [theme=dark] .colab-df-convert {\n",
              "      background-color: #3B4455;\n",
              "      fill: #D2E3FC;\n",
              "    }\n",
              "\n",
              "    [theme=dark] .colab-df-convert:hover {\n",
              "      background-color: #434B5C;\n",
              "      box-shadow: 0px 1px 3px 1px rgba(0, 0, 0, 0.15);\n",
              "      filter: drop-shadow(0px 1px 2px rgba(0, 0, 0, 0.3));\n",
              "      fill: #FFFFFF;\n",
              "    }\n",
              "  </style>\n",
              "\n",
              "      <script>\n",
              "        const buttonEl =\n",
              "          document.querySelector('#df-c477ffdd-f616-4d25-94d2-29029e946350 button.colab-df-convert');\n",
              "        buttonEl.style.display =\n",
              "          google.colab.kernel.accessAllowed ? 'block' : 'none';\n",
              "\n",
              "        async function convertToInteractive(key) {\n",
              "          const element = document.querySelector('#df-c477ffdd-f616-4d25-94d2-29029e946350');\n",
              "          const dataTable =\n",
              "            await google.colab.kernel.invokeFunction('convertToInteractive',\n",
              "                                                     [key], {});\n",
              "          if (!dataTable) return;\n",
              "\n",
              "          const docLinkHtml = 'Like what you see? Visit the ' +\n",
              "            '<a target=\"_blank\" href=https://colab.research.google.com/notebooks/data_table.ipynb>data table notebook</a>'\n",
              "            + ' to learn more about interactive tables.';\n",
              "          element.innerHTML = '';\n",
              "          dataTable['output_type'] = 'display_data';\n",
              "          await google.colab.output.renderOutput(dataTable, element);\n",
              "          const docLink = document.createElement('div');\n",
              "          docLink.innerHTML = docLinkHtml;\n",
              "          element.appendChild(docLink);\n",
              "        }\n",
              "      </script>\n",
              "    </div>\n",
              "  </div>\n",
              "  "
            ],
            "text/plain": [
              "      RM  LSTAT  PTRATIO      MEDV\n",
              "0  6.575   4.98     15.3  504000.0\n",
              "1  6.421   9.14     17.8  453600.0"
            ]
          },
          "execution_count": 59,
          "metadata": {},
          "output_type": "execute_result"
        }
      ],
      "source": [
        "df.head(2)"
      ]
    },
    {
      "cell_type": "code",
      "execution_count": null,
      "metadata": {
        "colab": {
          "base_uri": "https://localhost:8080/"
        },
        "id": "PSvXJHP3HkLc",
        "outputId": "380cac3d-0175-4a08-aa63-243577445309"
      },
      "outputs": [
        {
          "data": {
            "text/plain": [
              "array([[ 6.575,  4.98 , 15.3  ],\n",
              "       [ 6.421,  9.14 , 17.8  ],\n",
              "       [ 7.185,  4.03 , 17.8  ],\n",
              "       ...,\n",
              "       [ 6.976,  5.64 , 21.   ],\n",
              "       [ 6.794,  6.48 , 21.   ],\n",
              "       [ 6.03 ,  7.88 , 21.   ]])"
            ]
          },
          "execution_count": 60,
          "metadata": {},
          "output_type": "execute_result"
        }
      ],
      "source": [
        "independente = df.iloc[:, 0:3].values\n",
        "independente"
      ]
    },
    {
      "cell_type": "code",
      "execution_count": null,
      "metadata": {
        "colab": {
          "base_uri": "https://localhost:8080/"
        },
        "id": "x3JRhqbFHkLd",
        "outputId": "2f87a92b-204e-4e81-f40e-3fb70e26f605"
      },
      "outputs": [
        {
          "data": {
            "text/plain": [
              "(489, 3)"
            ]
          },
          "execution_count": 61,
          "metadata": {},
          "output_type": "execute_result"
        }
      ],
      "source": [
        "independente.shape"
      ]
    },
    {
      "cell_type": "code",
      "execution_count": null,
      "metadata": {
        "colab": {
          "base_uri": "https://localhost:8080/"
        },
        "id": "enBgBJlRHkLd",
        "outputId": "75a7a3dc-4be3-40b1-c36a-ec0fc8768462"
      },
      "outputs": [
        {
          "data": {
            "text/plain": [
              "array([ 504000.,  453600.,  728700.,  701400.,  760200.,  602700.,\n",
              "        480900.,  569100.,  346500.,  396900.,  315000.,  396900.,\n",
              "        455700.,  428400.,  382200.,  417900.,  485100.,  367500.,\n",
              "        424200.,  382200.,  285600.,  411600.,  319200.,  304500.,\n",
              "        327600.,  291900.,  348600.,  310800.,  386400.,  441000.,\n",
              "        266700.,  304500.,  277200.,  275100.,  283500.,  396900.,\n",
              "        420000.,  441000.,  518700.,  646800.,  732900.,  558600.,\n",
              "        531300.,  518700.,  445200.,  405300.,  420000.,  348600.,\n",
              "        302400.,  407400.,  413700.,  430500.,  525000.,  491400.,\n",
              "        396900.,  743400.,  518700.,  663600.,  489300.,  411600.,\n",
              "        392700.,  336000.,  466200.,  525000.,  693000.,  493500.,\n",
              "        407400.,  462000.,  365400.,  438900.,  508200.,  455700.,\n",
              "        478800.,  491400.,  506100.,  449400.,  420000.,  436800.,\n",
              "        445200.,  426300.,  588000.,  501900.,  520800.,  480900.,\n",
              "        501900.,  558600.,  472500.,  466200.,  495600.,  602700.,\n",
              "        474600.,  462000.,  480900.,  525000.,  432600.,  596400.,\n",
              "        449400.,  812700.,  919800.,  697200.,  577500.,  556500.,\n",
              "        390600.,  405300.,  422100.,  409500.,  409500.,  428400.,\n",
              "        415800.,  407400.,  455700.,  478800.,  394800.,  392700.,\n",
              "        388500.,  384300.,  445200.,  403200.,  428400.,  405300.,\n",
              "        462000.,  426300.,  430500.,  363300.,  394800.,  449400.,\n",
              "        329700.,  340200.,  378000.,  300300.,  403200.,  411600.,\n",
              "        483000.,  386400.,  327600.,  380100.,  365400.,  359100.,\n",
              "        279300.,  373800.,  294000.,  302400.,  281400.,  327600.,\n",
              "        247800.,  289800.,  327600.,  306600.,  373800.,  323400.,\n",
              "        451500.,  411600.,  321300.,  407400.,  357000.,  327600.,\n",
              "        275100.,  867300.,  510300.,  489300.,  567000.,  476700.,\n",
              "        525000.,  499800.,  499800.,  468300.,  365400.,  401100.,\n",
              "        485100.,  495600.,  474600.,  617400.,  487200.,  516600.,\n",
              "        627900.,  781200.,  835800.,  760200.,  795900.,  682500.,\n",
              "        554400.,  621600.,  672000.,  625800.,  732900.,  777000.,\n",
              "        640500.,  764400.,  653100.,  611100.,  699300.,  636300.,\n",
              "        726600.,  732900.,  690900.,  506100.,  888300., 1018500.,\n",
              "        474600.,  512400.,  472500.,  512400.,  420000.,  455700.,\n",
              "        405300.,  470400.,  590100.,  497700.,  525000.,  489300.,\n",
              "        602700.,  451500.,  483000.,  560700.,  455700.,  577500.,\n",
              "        632100.,  940800.,  789600.,  663600.,  980700.,  661500.,\n",
              "        510300.,  665700.,  875700., 1014300.,  609000.,  504000.,\n",
              "        527100.,  661500.,  497700.,  489300.,  462000.,  422100.,\n",
              "        466200.,  497700.,  369600.,  388500.,  510300.,  430500.,\n",
              "        514500.,  550200.,  512400.,  520800.,  621600.,  898800.,\n",
              "        459900.,  438900.,  924000.,  756000.,  632100.,  709800.,\n",
              "        905100., 1024800.,  651000.,  766500.,  478800.,  644700.,\n",
              "        913500.,  434700.,  443100.,  529200.,  512400.,  739200.,\n",
              "        680400.,  672000.,  697200.,  695100.,  611100.,  737100.,\n",
              "        953400.,  743400.,  966000.,  676200.,  462000.,  422100.,\n",
              "        487200.,  468300.,  520800.,  598500.,  783300.,  585900.,\n",
              "        501900.,  455700.,  600600.,  569100.,  426300.,  472500.,\n",
              "        609000.,  520800.,  462000.,  554400.,  695100.,  758100.,\n",
              "        596400.,  701400.,  592200.,  478800.,  426300.,  338100.,\n",
              "        464100.,  407400.,  453600.,  499800.,  340200.,  373800.,\n",
              "        415800.,  485100.,  441000.,  499800.,  485100.,  428400.,\n",
              "        388500.,  525000.,  516600.,  483000.,  466200.,  405300.,\n",
              "        474600.,  415800.,  359100.,  407400.,  466200.,  434700.,\n",
              "        443100.,  409500.,  388500.,  432600.,  399000.,  392700.,\n",
              "        686700.,  346500.,  501900.,  655200.,  367500.,  361200.,\n",
              "        485100.,  514500.,  558600.,  480900.,  506100.,  390600.,\n",
              "        632100.,  382200.,  432600.,  373800.,  455700.,  476700.,\n",
              "        474600.,  525000.,  417900.,  436800.,  352800.,  577500.,\n",
              "        459900.,  485100.,  289800.,  289800.,  315000.,  291900.,\n",
              "        279300.,  275100.,  214200.,  218400.,  228900.,  237300.,\n",
              "        258300.,  184800.,  151200.,  220500.,  155400.,  214200.,\n",
              "        241500.,  317100.,  487200.,  203700.,  289800.,  266700.,\n",
              "        275100.,  262500.,  178500.,  105000.,  132300.,  117600.,\n",
              "        151200.,  254100.,  174300.,  178500.,  105000.,  249900.,\n",
              "        585900.,  361200.,  577500.,  315000.,  361200.,  375900.,\n",
              "        342300.,  147000.,  151200.,  157500.,  218400.,  184800.,\n",
              "        176400.,  350700.,  298200.,  436800.,  281400.,  245700.,\n",
              "        174300.,  214200.,  228900.,  231000.,  199500.,  304500.,\n",
              "        296100.,  338100.,  300300.,  245700.,  281400.,  201600.,\n",
              "        182700.,  176400.,  268800.,  220500.,  359100.,  386400.,\n",
              "        323400.,  226800.,  247800.,  312900.,  264600.,  296100.,\n",
              "        273000.,  281400.,  319200.,  338100.,  373800.,  312900.,\n",
              "        296100.,  266700.,  283500.,  312900.,  420000.,  344400.,\n",
              "        371700.,  409500.,  424200.,  449400.,  417900.,  399000.,\n",
              "        401100.,  401100.,  422100.,  417900.,  411600.,  487200.,\n",
              "        625800.,  289800.,  279300.,  350700.,  252000.,  306600.,\n",
              "        449400.,  483000.,  497700.,  525000.,  457800.,  432600.,\n",
              "        445200.,  401100.,  432600.,  319200.,  147000.,  170100.,\n",
              "        285600.,  422100.,  457800.,  514500.,  485100.,  413700.,\n",
              "        384300.,  445200.,  367500.,  352800.,  470400.,  432600.,\n",
              "        501900.,  462000.,  249900.])"
            ]
          },
          "execution_count": 62,
          "metadata": {},
          "output_type": "execute_result"
        }
      ],
      "source": [
        "dependente = df.iloc[:, 3].values\n",
        "dependente"
      ]
    },
    {
      "cell_type": "code",
      "execution_count": null,
      "metadata": {
        "colab": {
          "base_uri": "https://localhost:8080/"
        },
        "id": "ChyvkvdhHy3l",
        "outputId": "d9f0be16-0535-46b4-9456-ac2c69ab83e3"
      },
      "outputs": [
        {
          "data": {
            "text/plain": [
              "(489,)"
            ]
          },
          "execution_count": 63,
          "metadata": {},
          "output_type": "execute_result"
        }
      ],
      "source": [
        "dependente.shape"
      ]
    },
    {
      "cell_type": "code",
      "execution_count": null,
      "metadata": {
        "id": "F66i09NYHkLe"
      },
      "outputs": [],
      "source": [
        "from sklearn.model_selection import train_test_split\n",
        "x_treino, x_teste, y_treino, y_teste = train_test_split(independente, dependente, test_size = 0.3, random_state = 0)"
      ]
    },
    {
      "cell_type": "code",
      "execution_count": null,
      "metadata": {
        "colab": {
          "base_uri": "https://localhost:8080/"
        },
        "id": "T59uRIMSHkLe",
        "outputId": "622ce02f-5d55-4b78-a068-f12455fbd4bb"
      },
      "outputs": [
        {
          "data": {
            "text/plain": [
              "((342, 3), (147, 3))"
            ]
          },
          "execution_count": 65,
          "metadata": {},
          "output_type": "execute_result"
        }
      ],
      "source": [
        "x_treino.shape, x_teste.shape"
      ]
    },
    {
      "cell_type": "code",
      "execution_count": null,
      "metadata": {
        "colab": {
          "base_uri": "https://localhost:8080/"
        },
        "id": "AGQ6_Yp8H8Jk",
        "outputId": "95989006-8040-45e2-daea-cb6a81169145"
      },
      "outputs": [
        {
          "data": {
            "text/plain": [
              "((342,), (147,))"
            ]
          },
          "execution_count": 66,
          "metadata": {},
          "output_type": "execute_result"
        }
      ],
      "source": [
        "y_treino.shape, y_teste.shape"
      ]
    },
    {
      "cell_type": "code",
      "execution_count": null,
      "metadata": {
        "colab": {
          "base_uri": "https://localhost:8080/"
        },
        "id": "xekvfhT7hWgM",
        "outputId": "cdb3824c-e754-4eca-9c90-6871566189a5"
      },
      "outputs": [
        {
          "data": {
            "text/plain": [
              "DecisionTreeRegressor(max_depth=5, random_state=10)"
            ]
          },
          "execution_count": 82,
          "metadata": {},
          "output_type": "execute_result"
        }
      ],
      "source": [
        "from sklearn.tree import DecisionTreeRegressor\n",
        "arvore = DecisionTreeRegressor(max_depth=5, random_state=10)\n",
        "arvore.fit(x_treino, y_treino)"
      ]
    },
    {
      "cell_type": "code",
      "execution_count": null,
      "metadata": {
        "colab": {
          "base_uri": "https://localhost:8080/"
        },
        "id": "9N8PKjeLhnwm",
        "outputId": "09a40624-5799-465b-e520-a1486fc54a14"
      },
      "outputs": [
        {
          "data": {
            "text/plain": [
              "0.9050951127606555"
            ]
          },
          "execution_count": 83,
          "metadata": {},
          "output_type": "execute_result"
        }
      ],
      "source": [
        "arvore.score(x_treino, y_treino)"
      ]
    },
    {
      "cell_type": "markdown",
      "metadata": {
        "id": "-4H1NHKAMTMx"
      },
      "source": [
        "**TESTE**"
      ]
    },
    {
      "cell_type": "code",
      "execution_count": null,
      "metadata": {
        "colab": {
          "base_uri": "https://localhost:8080/"
        },
        "id": "fnRicPdUhtEV",
        "outputId": "f19c49e3-f941-4c67-eafc-205f4680a95e"
      },
      "outputs": [
        {
          "data": {
            "text/plain": [
              "0.8256951550328737"
            ]
          },
          "execution_count": 84,
          "metadata": {},
          "output_type": "execute_result"
        }
      ],
      "source": [
        "arvore.score(x_teste, y_teste)"
      ]
    },
    {
      "cell_type": "code",
      "execution_count": null,
      "metadata": {
        "id": "iUUoAtpBh3gv"
      },
      "outputs": [],
      "source": [
        "previsoes_teste = arvore.predict(x_teste)\n",
        "previsoes_teste"
      ]
    },
    {
      "cell_type": "code",
      "execution_count": null,
      "metadata": {
        "id": "AbwmfJgLh8wk"
      },
      "outputs": [],
      "source": [
        "y_teste"
      ]
    },
    {
      "cell_type": "markdown",
      "metadata": {
        "id": "lKWJ-81bMyZP"
      },
      "source": [
        "**MÉTRICAS**"
      ]
    },
    {
      "cell_type": "code",
      "execution_count": null,
      "metadata": {
        "id": "eAErxalxMyZQ"
      },
      "outputs": [],
      "source": [
        "from sklearn.metrics import mean_absolute_error, mean_squared_error"
      ]
    },
    {
      "cell_type": "code",
      "execution_count": null,
      "metadata": {
        "colab": {
          "base_uri": "https://localhost:8080/"
        },
        "id": "o7shpq0eMyZR",
        "outputId": "440531b3-06aa-41f7-a3d7-021542e38bee"
      },
      "outputs": [
        {
          "data": {
            "text/plain": [
              "52954.00426293284"
            ]
          },
          "execution_count": 89,
          "metadata": {},
          "output_type": "execute_result"
        }
      ],
      "source": [
        "# Erro médio Absoluto\n",
        "mean_absolute_error(y_teste, previsoes_teste)"
      ]
    },
    {
      "cell_type": "code",
      "execution_count": null,
      "metadata": {
        "colab": {
          "base_uri": "https://localhost:8080/"
        },
        "id": "UCxNMPjvMyZS",
        "outputId": "9e427f16-6eaa-4690-8804-077beaa623c3"
      },
      "outputs": [
        {
          "data": {
            "text/plain": [
              "5057266756.343771"
            ]
          },
          "execution_count": 90,
          "metadata": {},
          "output_type": "execute_result"
        }
      ],
      "source": [
        "# Erro quadrático médio\n",
        "mean_squared_error(y_teste, previsoes_teste)"
      ]
    },
    {
      "cell_type": "code",
      "execution_count": null,
      "metadata": {
        "colab": {
          "base_uri": "https://localhost:8080/"
        },
        "id": "-i_NBmScMyZS",
        "outputId": "13238b82-ba41-43b5-890f-a1fe0cd9c068"
      },
      "outputs": [
        {
          "data": {
            "text/plain": [
              "71114.46235713077"
            ]
          },
          "execution_count": 91,
          "metadata": {},
          "output_type": "execute_result"
        }
      ],
      "source": [
        "# Raiz do erro quadrático médio (RMSE)\n",
        "np.sqrt(mean_squared_error(y_teste, previsoes_teste))"
      ]
    },
    {
      "cell_type": "markdown",
      "metadata": {
        "id": "KlGC2Y7eNJIH"
      },
      "source": [
        "### **Validação Cruzada**"
      ]
    },
    {
      "cell_type": "code",
      "execution_count": null,
      "metadata": {
        "id": "_uZCiCebNJII"
      },
      "outputs": [],
      "source": [
        "from sklearn.model_selection import KFold\n",
        "from sklearn.model_selection import cross_val_score"
      ]
    },
    {
      "cell_type": "code",
      "execution_count": null,
      "metadata": {
        "id": "dzXlSwOHNJIJ"
      },
      "outputs": [],
      "source": [
        "# Separando os dados em folds\n",
        "kfold = KFold(n_splits = 15, shuffle=True, random_state = 5)"
      ]
    },
    {
      "cell_type": "code",
      "execution_count": null,
      "metadata": {
        "colab": {
          "base_uri": "https://localhost:8080/"
        },
        "id": "JOzI7g_kNJIJ",
        "outputId": "de682c61-5b1a-4f7b-ed4f-905962d9bda3"
      },
      "outputs": [
        {
          "data": {
            "text/plain": [
              "array([0.9107871 , 0.91994845, 0.70416127, 0.79571349, 0.64537243,\n",
              "       0.62424022, 0.83188854, 0.77916943, 0.74608406, 0.45125985,\n",
              "       0.92525406, 0.72678715, 0.72120525, 0.84170908, 0.56581873])"
            ]
          },
          "execution_count": 94,
          "metadata": {},
          "output_type": "execute_result"
        }
      ],
      "source": [
        "# Criando o modelo\n",
        "from sklearn.tree import DecisionTreeRegressor\n",
        "modelo = DecisionTreeRegressor(max_depth=5, random_state=10)\n",
        "resultado = cross_val_score(modelo, independente, dependente, cv = kfold)\n",
        "resultado"
      ]
    },
    {
      "cell_type": "code",
      "execution_count": null,
      "metadata": {
        "colab": {
          "base_uri": "https://localhost:8080/"
        },
        "id": "k9_kKBtYNJIK",
        "outputId": "a8ef3c7d-7dd1-4cdf-c747-abc8a8b5f014"
      },
      "outputs": [
        {
          "name": "stdout",
          "output_type": "stream",
          "text": [
            "Coeficiente de Determinação Médio: 74.60%\n"
          ]
        }
      ],
      "source": [
        "# Usamos a média e o desvio padrão\n",
        "print(\"Coeficiente de Determinação Médio: %.2f%%\" % (resultado.mean() * 100.0))"
      ]
    },
    {
      "cell_type": "markdown",
      "metadata": {
        "id": "T-iYcZo4NJIL"
      },
      "source": [
        "**RESULTADOS:**\n",
        "\n",
        "**REGRESSÃO LINEAR SIMPLES:** R^2 = 0,57/0,60; RMSE = 99315,5; R^2 Validação Cruzada: 55,97%\n",
        "\n",
        "**REGRESSÃO LINEAR MÚLTIPLA:** R^2 = 0,73/0,68; RMSE = 96087,3; R^2 Validação Cruzada: 69,25%\n",
        "\n",
        "**REGRESSÃO POLINOMIAL:** R^2 = 0,59/0,54; RMSE = 114670,6.\n",
        "\n",
        "**REGRESSÃO SVR:** R^2 = 0,87/0,81; RMSE = 73422,7. R^2 Validação Cruzada: 82,37%.\n",
        "\n",
        "**REGRESSÃO ÁRVORE DE DECISÃO:** R^2 = 0,91/0,83; RMSE = 71114,5. R^2 Validação Cruzada: 74,60%."
      ]
    },
    {
      "cell_type": "markdown",
      "metadata": {
        "id": "em7docfu_mvB"
      },
      "source": [
        "## **REGRESSÃO COM RANDOM FOREST**"
      ]
    },
    {
      "cell_type": "markdown",
      "metadata": {
        "id": "XxohwrvT_xVI"
      },
      "source": [
        "https://scikit-learn.org/stable/modules/generated/sklearn.ensemble.RandomForestRegressor.html "
      ]
    },
    {
      "cell_type": "code",
      "execution_count": null,
      "metadata": {
        "colab": {
          "base_uri": "https://localhost:8080/",
          "height": 112
        },
        "id": "BreuwClMAqSa",
        "outputId": "b7105e80-b12d-44dd-b615-b987c0ae5eff"
      },
      "outputs": [
        {
          "data": {
            "text/html": [
              "\n",
              "  <div id=\"df-29475a65-0953-4259-a2e9-a4a86b4794af\">\n",
              "    <div class=\"colab-df-container\">\n",
              "      <div>\n",
              "<style scoped>\n",
              "    .dataframe tbody tr th:only-of-type {\n",
              "        vertical-align: middle;\n",
              "    }\n",
              "\n",
              "    .dataframe tbody tr th {\n",
              "        vertical-align: top;\n",
              "    }\n",
              "\n",
              "    .dataframe thead th {\n",
              "        text-align: right;\n",
              "    }\n",
              "</style>\n",
              "<table border=\"1\" class=\"dataframe\">\n",
              "  <thead>\n",
              "    <tr style=\"text-align: right;\">\n",
              "      <th></th>\n",
              "      <th>RM</th>\n",
              "      <th>LSTAT</th>\n",
              "      <th>PTRATIO</th>\n",
              "      <th>MEDV</th>\n",
              "    </tr>\n",
              "  </thead>\n",
              "  <tbody>\n",
              "    <tr>\n",
              "      <th>0</th>\n",
              "      <td>6.575</td>\n",
              "      <td>4.98</td>\n",
              "      <td>15.3</td>\n",
              "      <td>504000.0</td>\n",
              "    </tr>\n",
              "    <tr>\n",
              "      <th>1</th>\n",
              "      <td>6.421</td>\n",
              "      <td>9.14</td>\n",
              "      <td>17.8</td>\n",
              "      <td>453600.0</td>\n",
              "    </tr>\n",
              "  </tbody>\n",
              "</table>\n",
              "</div>\n",
              "      <button class=\"colab-df-convert\" onclick=\"convertToInteractive('df-29475a65-0953-4259-a2e9-a4a86b4794af')\"\n",
              "              title=\"Convert this dataframe to an interactive table.\"\n",
              "              style=\"display:none;\">\n",
              "        \n",
              "  <svg xmlns=\"http://www.w3.org/2000/svg\" height=\"24px\"viewBox=\"0 0 24 24\"\n",
              "       width=\"24px\">\n",
              "    <path d=\"M0 0h24v24H0V0z\" fill=\"none\"/>\n",
              "    <path d=\"M18.56 5.44l.94 2.06.94-2.06 2.06-.94-2.06-.94-.94-2.06-.94 2.06-2.06.94zm-11 1L8.5 8.5l.94-2.06 2.06-.94-2.06-.94L8.5 2.5l-.94 2.06-2.06.94zm10 10l.94 2.06.94-2.06 2.06-.94-2.06-.94-.94-2.06-.94 2.06-2.06.94z\"/><path d=\"M17.41 7.96l-1.37-1.37c-.4-.4-.92-.59-1.43-.59-.52 0-1.04.2-1.43.59L10.3 9.45l-7.72 7.72c-.78.78-.78 2.05 0 2.83L4 21.41c.39.39.9.59 1.41.59.51 0 1.02-.2 1.41-.59l7.78-7.78 2.81-2.81c.8-.78.8-2.07 0-2.86zM5.41 20L4 18.59l7.72-7.72 1.47 1.35L5.41 20z\"/>\n",
              "  </svg>\n",
              "      </button>\n",
              "      \n",
              "  <style>\n",
              "    .colab-df-container {\n",
              "      display:flex;\n",
              "      flex-wrap:wrap;\n",
              "      gap: 12px;\n",
              "    }\n",
              "\n",
              "    .colab-df-convert {\n",
              "      background-color: #E8F0FE;\n",
              "      border: none;\n",
              "      border-radius: 50%;\n",
              "      cursor: pointer;\n",
              "      display: none;\n",
              "      fill: #1967D2;\n",
              "      height: 32px;\n",
              "      padding: 0 0 0 0;\n",
              "      width: 32px;\n",
              "    }\n",
              "\n",
              "    .colab-df-convert:hover {\n",
              "      background-color: #E2EBFA;\n",
              "      box-shadow: 0px 1px 2px rgba(60, 64, 67, 0.3), 0px 1px 3px 1px rgba(60, 64, 67, 0.15);\n",
              "      fill: #174EA6;\n",
              "    }\n",
              "\n",
              "    [theme=dark] .colab-df-convert {\n",
              "      background-color: #3B4455;\n",
              "      fill: #D2E3FC;\n",
              "    }\n",
              "\n",
              "    [theme=dark] .colab-df-convert:hover {\n",
              "      background-color: #434B5C;\n",
              "      box-shadow: 0px 1px 3px 1px rgba(0, 0, 0, 0.15);\n",
              "      filter: drop-shadow(0px 1px 2px rgba(0, 0, 0, 0.3));\n",
              "      fill: #FFFFFF;\n",
              "    }\n",
              "  </style>\n",
              "\n",
              "      <script>\n",
              "        const buttonEl =\n",
              "          document.querySelector('#df-29475a65-0953-4259-a2e9-a4a86b4794af button.colab-df-convert');\n",
              "        buttonEl.style.display =\n",
              "          google.colab.kernel.accessAllowed ? 'block' : 'none';\n",
              "\n",
              "        async function convertToInteractive(key) {\n",
              "          const element = document.querySelector('#df-29475a65-0953-4259-a2e9-a4a86b4794af');\n",
              "          const dataTable =\n",
              "            await google.colab.kernel.invokeFunction('convertToInteractive',\n",
              "                                                     [key], {});\n",
              "          if (!dataTable) return;\n",
              "\n",
              "          const docLinkHtml = 'Like what you see? Visit the ' +\n",
              "            '<a target=\"_blank\" href=https://colab.research.google.com/notebooks/data_table.ipynb>data table notebook</a>'\n",
              "            + ' to learn more about interactive tables.';\n",
              "          element.innerHTML = '';\n",
              "          dataTable['output_type'] = 'display_data';\n",
              "          await google.colab.output.renderOutput(dataTable, element);\n",
              "          const docLink = document.createElement('div');\n",
              "          docLink.innerHTML = docLinkHtml;\n",
              "          element.appendChild(docLink);\n",
              "        }\n",
              "      </script>\n",
              "    </div>\n",
              "  </div>\n",
              "  "
            ],
            "text/plain": [
              "      RM  LSTAT  PTRATIO      MEDV\n",
              "0  6.575   4.98     15.3  504000.0\n",
              "1  6.421   9.14     17.8  453600.0"
            ]
          },
          "execution_count": 96,
          "metadata": {},
          "output_type": "execute_result"
        }
      ],
      "source": [
        "df.head(2)"
      ]
    },
    {
      "cell_type": "code",
      "execution_count": null,
      "metadata": {
        "colab": {
          "base_uri": "https://localhost:8080/"
        },
        "id": "L9IfgWrjAqSb",
        "outputId": "750b5084-d0c4-491b-d4e0-2fdce507012d"
      },
      "outputs": [
        {
          "data": {
            "text/plain": [
              "array([[ 6.575,  4.98 , 15.3  ],\n",
              "       [ 6.421,  9.14 , 17.8  ],\n",
              "       [ 7.185,  4.03 , 17.8  ],\n",
              "       ...,\n",
              "       [ 6.976,  5.64 , 21.   ],\n",
              "       [ 6.794,  6.48 , 21.   ],\n",
              "       [ 6.03 ,  7.88 , 21.   ]])"
            ]
          },
          "execution_count": 97,
          "metadata": {},
          "output_type": "execute_result"
        }
      ],
      "source": [
        "independente = df.iloc[:, 0:3].values\n",
        "independente"
      ]
    },
    {
      "cell_type": "code",
      "execution_count": null,
      "metadata": {
        "colab": {
          "base_uri": "https://localhost:8080/"
        },
        "id": "fzFtVk9JAqSc",
        "outputId": "e71c5fb3-145f-4da4-c5d1-078a82932d0d"
      },
      "outputs": [
        {
          "data": {
            "text/plain": [
              "(489, 3)"
            ]
          },
          "execution_count": 98,
          "metadata": {},
          "output_type": "execute_result"
        }
      ],
      "source": [
        "independente.shape"
      ]
    },
    {
      "cell_type": "code",
      "execution_count": null,
      "metadata": {
        "id": "dPZbKG7yAqSd"
      },
      "outputs": [],
      "source": [
        "dependente = df.iloc[:, 3].values\n",
        "dependente"
      ]
    },
    {
      "cell_type": "code",
      "execution_count": null,
      "metadata": {
        "colab": {
          "base_uri": "https://localhost:8080/"
        },
        "id": "mKrN8FpVAqSe",
        "outputId": "c1d81108-8bf2-4fce-ec46-a682cb5944af"
      },
      "outputs": [
        {
          "data": {
            "text/plain": [
              "(489,)"
            ]
          },
          "execution_count": 100,
          "metadata": {},
          "output_type": "execute_result"
        }
      ],
      "source": [
        "dependente.shape"
      ]
    },
    {
      "cell_type": "code",
      "execution_count": null,
      "metadata": {
        "id": "FBV-LWNCAqSe"
      },
      "outputs": [],
      "source": [
        "from sklearn.model_selection import train_test_split\n",
        "x_treino, x_teste, y_treino, y_teste = train_test_split(independente, dependente, test_size = 0.3, random_state = 0)"
      ]
    },
    {
      "cell_type": "code",
      "execution_count": null,
      "metadata": {
        "colab": {
          "base_uri": "https://localhost:8080/"
        },
        "id": "smtq2nvRAqSf",
        "outputId": "8df593ad-024c-447e-a361-16449a607c18"
      },
      "outputs": [
        {
          "data": {
            "text/plain": [
              "((342, 3), (147, 3))"
            ]
          },
          "execution_count": 102,
          "metadata": {},
          "output_type": "execute_result"
        }
      ],
      "source": [
        "x_treino.shape, x_teste.shape"
      ]
    },
    {
      "cell_type": "code",
      "execution_count": null,
      "metadata": {
        "colab": {
          "base_uri": "https://localhost:8080/"
        },
        "id": "cmGJ3PJVAqSf",
        "outputId": "865c0a5a-16b0-4015-e179-b1576fce81cb"
      },
      "outputs": [
        {
          "data": {
            "text/plain": [
              "((342,), (147,))"
            ]
          },
          "execution_count": 103,
          "metadata": {},
          "output_type": "execute_result"
        }
      ],
      "source": [
        "y_treino.shape, y_teste.shape"
      ]
    },
    {
      "cell_type": "code",
      "execution_count": null,
      "metadata": {
        "id": "jq-8R7XpB9f3"
      },
      "outputs": [],
      "source": [
        "from sklearn.ensemble import RandomForestRegressor"
      ]
    },
    {
      "cell_type": "code",
      "execution_count": null,
      "metadata": {
        "colab": {
          "base_uri": "https://localhost:8080/"
        },
        "id": "6dN6ggkVBHH4",
        "outputId": "0a4e5001-4157-4aeb-c04a-89444d9700f5"
      },
      "outputs": [
        {
          "data": {
            "text/plain": [
              "RandomForestRegressor(max_depth=5, n_estimators=60, random_state=10)"
            ]
          },
          "execution_count": 124,
          "metadata": {},
          "output_type": "execute_result"
        }
      ],
      "source": [
        "random = RandomForestRegressor(n_estimators=60, criterion='squared_error', max_depth=5, random_state = 10)\n",
        "random.fit(x_treino, y_treino)"
      ]
    },
    {
      "cell_type": "code",
      "execution_count": null,
      "metadata": {
        "colab": {
          "base_uri": "https://localhost:8080/"
        },
        "id": "RtbJdyMVBHH6",
        "outputId": "3697c31d-dd98-415a-9a97-72fe0349f5d9"
      },
      "outputs": [
        {
          "data": {
            "text/plain": [
              "0.9160346630571496"
            ]
          },
          "execution_count": 125,
          "metadata": {},
          "output_type": "execute_result"
        }
      ],
      "source": [
        "random.score(x_treino, y_treino)"
      ]
    },
    {
      "cell_type": "markdown",
      "metadata": {
        "id": "l6-F9ZQxBHH7"
      },
      "source": [
        "**TESTE**"
      ]
    },
    {
      "cell_type": "code",
      "execution_count": null,
      "metadata": {
        "colab": {
          "base_uri": "https://localhost:8080/"
        },
        "id": "gBApN-jaBHH7",
        "outputId": "4922af12-a018-46df-821a-c1cc5f03b04b"
      },
      "outputs": [
        {
          "data": {
            "text/plain": [
              "0.8465287311346861"
            ]
          },
          "execution_count": 126,
          "metadata": {},
          "output_type": "execute_result"
        }
      ],
      "source": [
        "random.score(x_teste, y_teste)"
      ]
    },
    {
      "cell_type": "code",
      "execution_count": null,
      "metadata": {
        "colab": {
          "base_uri": "https://localhost:8080/"
        },
        "id": "Y51B43YTBHH8",
        "outputId": "41c15dc9-b9dc-422c-b078-6be13afcac95"
      },
      "outputs": [
        {
          "data": {
            "text/plain": [
              "array([429790.1184383 , 626425.24570752, 319291.        , 369687.79212278,\n",
              "       504007.08094948, 275038.77411657, 325784.08333333, 419935.2164072 ,\n",
              "       461145.73252911, 407252.93004329, 250872.39578869, 342808.74084789,\n",
              "       454388.83705035, 207628.59742739, 523389.0588747 , 343148.06749092,\n",
              "       436277.53376586, 519168.2986373 , 400302.89135561, 591299.21535976,\n",
              "       617998.62691853, 737021.36549068, 207628.59742739, 433990.65598718,\n",
              "       378602.16484354, 911394.60227273, 690510.8130319 , 913862.10227273,\n",
              "       420589.43787112, 423405.52420844, 326646.08924392, 380183.19387172,\n",
              "       436732.30908567, 687715.29521126, 434483.34195931, 890163.5       ,\n",
              "       529306.19369936, 231323.99610428, 491146.52058414, 505014.08035269,\n",
              "       256106.89211222, 382749.3212387 , 424659.14608592, 488901.56840275,\n",
              "       401002.16125623, 406066.93224785, 503825.27539393, 325390.61402888,\n",
              "       856473.33333333, 421515.20723289, 693269.282585  , 434272.60667474,\n",
              "       558379.53436472, 316642.23814568, 704727.75862718, 559192.52730616,\n",
              "       406381.82428563, 255624.64565925, 499926.87134093, 434776.96144387,\n",
              "       350186.15081671, 252268.73513548, 397698.16566116, 395614.03953968,\n",
              "       422428.75850028, 403891.91271646, 215210.54948682, 536654.00753288,\n",
              "       513785.13928472, 231304.24860448, 226660.48953562, 506670.72458346,\n",
              "       395125.7769061 , 543662.57239953, 275306.51893325, 431116.8198088 ,\n",
              "       570520.49683611, 393268.04999836, 507023.08035269, 406706.26103402,\n",
              "       415351.88929453, 874444.89393939, 425271.9440792 , 495109.99472626,\n",
              "       439513.78598415, 636495.70382195, 518540.17318236, 501934.72576814,\n",
              "       435186.16291764, 383141.14474298, 437706.83676213, 337449.78967305,\n",
              "       342595.6557225 , 322769.55301827, 493263.68220267, 490961.56658345,\n",
              "       467182.03657619, 528960.62498931, 421062.66200905, 326988.53155981,\n",
              "       281513.13062458, 236128.37464226, 562609.43078304, 433978.58208801,\n",
              "       314112.48178357, 193514.86427076, 349790.34214059, 433491.88899808,\n",
              "       339670.59266029, 516730.73014701, 697931.48894037, 436275.0191512 ,\n",
              "       427014.54921195, 721186.58817263, 531410.16874628, 500166.75121957,\n",
              "       308105.74716421, 395349.88572404, 399564.00212267, 904881.22727273,\n",
              "       661378.51444098, 400723.4271665 , 277889.32967213, 347781.03519667,\n",
              "       505675.25459512, 327241.80296897, 382693.05841105, 401231.22468894,\n",
              "       515552.49641257, 502511.41704835, 395016.5269061 , 504886.30791679,\n",
              "       726845.82742031, 426300.02784886, 502202.59857516, 423282.75332   ,\n",
              "       330773.53422856, 444149.40854915, 398754.79378933, 340082.09234034,\n",
              "       427722.1077759 , 263330.18749778, 450733.48014822, 425419.73608318,\n",
              "       205745.15505495, 314653.07147901, 649863.69856727])"
            ]
          },
          "execution_count": 127,
          "metadata": {},
          "output_type": "execute_result"
        }
      ],
      "source": [
        "previsoes_teste = random.predict(x_teste)\n",
        "previsoes_teste"
      ]
    },
    {
      "cell_type": "code",
      "execution_count": null,
      "metadata": {
        "colab": {
          "base_uri": "https://localhost:8080/"
        },
        "id": "B48-pZ7eBHH9",
        "outputId": "28cf9dd9-656f-4ae5-beec-11643f447635"
      },
      "outputs": [
        {
          "data": {
            "text/plain": [
              "array([ 417900.,  632100.,  281400.,  577500.,  474600.,  359100.,\n",
              "        247800.,  474600.,  449400.,  411600.,  214200.,  214200.,\n",
              "        428400.,  375900.,  577500.,  327600.,  420000.,  489300.,\n",
              "        470400.,  640500.,  651000.,  690900.,  147000.,  441000.,\n",
              "        367500.,  966000.,  756000.,  888300.,  455700.,  445200.,\n",
              "        323400.,  455700.,  430500.,  867300.,  445200.,  875700.,\n",
              "        415800.,  268800.,  590100.,  497700.,  231000.,  315000.,\n",
              "        388500.,  449400.,  413700.,  352800.,  453600.,  306600.,\n",
              "        898800.,  514500.,  743400.,  474600.,  600600.,  304500.,\n",
              "        661500.,  489300.,  422100.,  184800.,  525000.,  249900.,\n",
              "        407400.,  361200.,  428400.,  392700.,  428400.,  472500.,\n",
              "        258300.,  550200.,  346500.,  199500.,  302400.,  611100.,\n",
              "        396900.,  585900.,  279300.,  483000.,  462000.,  218400.,\n",
              "        518700.,  420000.,  392700.,  980700.,  455700.,  514500.,\n",
              "        480900.,  520800.,  485100.,  525000.,  390600.,  569100.,\n",
              "        359100.,  346500.,  283500.,  344400.,  459900.,  464100.,\n",
              "        432600.,  617400.,  449400.,  289800.,  174300.,  275100.,\n",
              "        661500.,  411600.,  275100.,  132300.,  357000.,  483000.,\n",
              "        285600.,  493500.,  701400.,  405300.,  338100.,  743400.,\n",
              "        682500.,  466200.,  176400.,  373800.,  394800., 1014300.,\n",
              "        636300.,  228900.,  262500.,  350700.,  567000.,  417900.,\n",
              "        407400.,  415800.,  525000.,  506100.,  348600.,  474600.,\n",
              "        760200.,  485100.,  602700.,  432600.,  380100.,  438900.,\n",
              "        430500.,  319200.,  365400.,  285600.,  474600.,  382200.,\n",
              "        176400.,  312900.,  693000.])"
            ]
          },
          "execution_count": 128,
          "metadata": {},
          "output_type": "execute_result"
        }
      ],
      "source": [
        "y_teste"
      ]
    },
    {
      "cell_type": "markdown",
      "metadata": {
        "id": "l1m3gPLhBHH9"
      },
      "source": [
        "**MÉTRICAS**"
      ]
    },
    {
      "cell_type": "code",
      "execution_count": null,
      "metadata": {
        "id": "x-D_BJZ-BHH9"
      },
      "outputs": [],
      "source": [
        "from sklearn.metrics import mean_absolute_error, mean_squared_error"
      ]
    },
    {
      "cell_type": "code",
      "execution_count": null,
      "metadata": {
        "colab": {
          "base_uri": "https://localhost:8080/"
        },
        "id": "wvRaZ50aBHH-",
        "outputId": "9c6e9d3c-7ede-41b8-8f64-f5b63af0d3bf"
      },
      "outputs": [
        {
          "data": {
            "text/plain": [
              "49730.29595322481"
            ]
          },
          "execution_count": 130,
          "metadata": {},
          "output_type": "execute_result"
        }
      ],
      "source": [
        "# Erro médio Absoluto\n",
        "mean_absolute_error(y_teste, previsoes_teste)"
      ]
    },
    {
      "cell_type": "code",
      "execution_count": null,
      "metadata": {
        "colab": {
          "base_uri": "https://localhost:8080/"
        },
        "id": "Fjju8AAbBHH_",
        "outputId": "fcf1cf89-250d-480e-93d1-c33196d4d47e"
      },
      "outputs": [
        {
          "data": {
            "text/plain": [
              "4452803054.515374"
            ]
          },
          "execution_count": 131,
          "metadata": {},
          "output_type": "execute_result"
        }
      ],
      "source": [
        "# Erro quadrático médio\n",
        "mean_squared_error(y_teste, previsoes_teste)"
      ]
    },
    {
      "cell_type": "code",
      "execution_count": null,
      "metadata": {
        "colab": {
          "base_uri": "https://localhost:8080/"
        },
        "id": "L_4yAmxxBHH_",
        "outputId": "e7662369-13aa-42c0-d318-4055c35fd4de"
      },
      "outputs": [
        {
          "data": {
            "text/plain": [
              "66729.326795011"
            ]
          },
          "execution_count": 132,
          "metadata": {},
          "output_type": "execute_result"
        }
      ],
      "source": [
        "# Raiz do erro quadrático médio (RMSE)\n",
        "np.sqrt(mean_squared_error(y_teste, previsoes_teste))"
      ]
    },
    {
      "cell_type": "markdown",
      "metadata": {
        "id": "mLyVoeblBHIA"
      },
      "source": [
        "### **Validação Cruzada**"
      ]
    },
    {
      "cell_type": "code",
      "execution_count": null,
      "metadata": {
        "id": "TQiW7o6mBHIA"
      },
      "outputs": [],
      "source": [
        "from sklearn.model_selection import KFold\n",
        "from sklearn.model_selection import cross_val_score"
      ]
    },
    {
      "cell_type": "code",
      "execution_count": null,
      "metadata": {
        "id": "u6c0cLchBHIB"
      },
      "outputs": [],
      "source": [
        "# Separando os dados em folds\n",
        "kfold = KFold(n_splits = 15, shuffle=True, random_state = 5)"
      ]
    },
    {
      "cell_type": "code",
      "execution_count": null,
      "metadata": {
        "colab": {
          "base_uri": "https://localhost:8080/"
        },
        "id": "bfcTtlMtBHIB",
        "outputId": "38a5bc16-7010-4596-c963-360415d46cf9"
      },
      "outputs": [
        {
          "data": {
            "text/plain": [
              "array([0.9390087 , 0.9048205 , 0.78576987, 0.78178487, 0.80471035,\n",
              "       0.73189206, 0.88019637, 0.85442545, 0.7796746 , 0.82002933,\n",
              "       0.93538902, 0.72717569, 0.80683864, 0.8863317 , 0.78974059])"
            ]
          },
          "execution_count": 135,
          "metadata": {},
          "output_type": "execute_result"
        }
      ],
      "source": [
        "# Criando o modelo\n",
        "from sklearn.ensemble import RandomForestRegressor\n",
        "modelo = RandomForestRegressor(n_estimators=60, criterion='squared_error', max_depth=5, random_state = 10)\n",
        "resultado = cross_val_score(modelo, independente, dependente, cv = kfold)\n",
        "resultado"
      ]
    },
    {
      "cell_type": "code",
      "execution_count": null,
      "metadata": {
        "colab": {
          "base_uri": "https://localhost:8080/"
        },
        "id": "k8dR6MeCBHIC",
        "outputId": "a460b720-5ef2-42e3-e998-4e755a922fed"
      },
      "outputs": [
        {
          "name": "stdout",
          "output_type": "stream",
          "text": [
            "Coeficiente de Determinação Médio: 82.85%\n"
          ]
        }
      ],
      "source": [
        "# Usamos a média e o desvio padrão\n",
        "print(\"Coeficiente de Determinação Médio: %.2f%%\" % (resultado.mean() * 100.0))"
      ]
    },
    {
      "cell_type": "markdown",
      "metadata": {
        "id": "-5fEdSH-BHIC"
      },
      "source": [
        "**RESULTADOS:**\n",
        "\n",
        "**REGRESSÃO LINEAR SIMPLES:** R^2 = 0,57/0,60; RMSE = 99315,5; R^2 Validação Cruzada: 55,97%\n",
        "\n",
        "**REGRESSÃO LINEAR MÚLTIPLA:** R^2 = 0,73/0,68; RMSE = 96087,3; R^2 Validação Cruzada: 69,25%\n",
        "\n",
        "**REGRESSÃO POLINOMIAL:** R^2 = 0,59/0,54; RMSE = 114670,6.\n",
        "\n",
        "**REGRESSÃO SVR:** R^2 = 0,87/0,81; RMSE = 73422,7. R^2 Validação Cruzada: 82,37%.\n",
        "\n",
        "**REGRESSÃO ÁRVORE DE DECISÃO:** R^2 = 0,91/0,83; RMSE = 71114,5. R^2 Validação Cruzada: 74,60%.\n",
        "\n",
        "**REGRESSÃO COM RANDOM FOREST:** R^2 = 0,92/0,85; RMSE = 66729,3. R^2 Validação Cruzada: 82,85%."
      ]
    },
    {
      "cell_type": "markdown",
      "metadata": {
        "id": "texm7_wzD3ZN"
      },
      "source": [
        "## **REGRESSÃO COM XGBOOST**"
      ]
    },
    {
      "cell_type": "markdown",
      "metadata": {
        "id": "9bFhbBKgEnmc"
      },
      "source": [
        "https://xgboost.readthedocs.io/en/latest/python/python_api.html#xgboost.XGBRegressor "
      ]
    },
    {
      "cell_type": "code",
      "execution_count": null,
      "metadata": {
        "colab": {
          "base_uri": "https://localhost:8080/",
          "height": 112
        },
        "id": "S1kDY4K6LZ3o",
        "outputId": "d3610d6d-1aec-4103-e6db-a1058eb1f83c"
      },
      "outputs": [
        {
          "data": {
            "text/html": [
              "\n",
              "  <div id=\"df-8277ccd0-4127-4479-8d20-d90d4a2cc561\">\n",
              "    <div class=\"colab-df-container\">\n",
              "      <div>\n",
              "<style scoped>\n",
              "    .dataframe tbody tr th:only-of-type {\n",
              "        vertical-align: middle;\n",
              "    }\n",
              "\n",
              "    .dataframe tbody tr th {\n",
              "        vertical-align: top;\n",
              "    }\n",
              "\n",
              "    .dataframe thead th {\n",
              "        text-align: right;\n",
              "    }\n",
              "</style>\n",
              "<table border=\"1\" class=\"dataframe\">\n",
              "  <thead>\n",
              "    <tr style=\"text-align: right;\">\n",
              "      <th></th>\n",
              "      <th>RM</th>\n",
              "      <th>LSTAT</th>\n",
              "      <th>PTRATIO</th>\n",
              "      <th>MEDV</th>\n",
              "    </tr>\n",
              "  </thead>\n",
              "  <tbody>\n",
              "    <tr>\n",
              "      <th>0</th>\n",
              "      <td>6.575</td>\n",
              "      <td>4.98</td>\n",
              "      <td>15.3</td>\n",
              "      <td>504000.0</td>\n",
              "    </tr>\n",
              "    <tr>\n",
              "      <th>1</th>\n",
              "      <td>6.421</td>\n",
              "      <td>9.14</td>\n",
              "      <td>17.8</td>\n",
              "      <td>453600.0</td>\n",
              "    </tr>\n",
              "  </tbody>\n",
              "</table>\n",
              "</div>\n",
              "      <button class=\"colab-df-convert\" onclick=\"convertToInteractive('df-8277ccd0-4127-4479-8d20-d90d4a2cc561')\"\n",
              "              title=\"Convert this dataframe to an interactive table.\"\n",
              "              style=\"display:none;\">\n",
              "        \n",
              "  <svg xmlns=\"http://www.w3.org/2000/svg\" height=\"24px\"viewBox=\"0 0 24 24\"\n",
              "       width=\"24px\">\n",
              "    <path d=\"M0 0h24v24H0V0z\" fill=\"none\"/>\n",
              "    <path d=\"M18.56 5.44l.94 2.06.94-2.06 2.06-.94-2.06-.94-.94-2.06-.94 2.06-2.06.94zm-11 1L8.5 8.5l.94-2.06 2.06-.94-2.06-.94L8.5 2.5l-.94 2.06-2.06.94zm10 10l.94 2.06.94-2.06 2.06-.94-2.06-.94-.94-2.06-.94 2.06-2.06.94z\"/><path d=\"M17.41 7.96l-1.37-1.37c-.4-.4-.92-.59-1.43-.59-.52 0-1.04.2-1.43.59L10.3 9.45l-7.72 7.72c-.78.78-.78 2.05 0 2.83L4 21.41c.39.39.9.59 1.41.59.51 0 1.02-.2 1.41-.59l7.78-7.78 2.81-2.81c.8-.78.8-2.07 0-2.86zM5.41 20L4 18.59l7.72-7.72 1.47 1.35L5.41 20z\"/>\n",
              "  </svg>\n",
              "      </button>\n",
              "      \n",
              "  <style>\n",
              "    .colab-df-container {\n",
              "      display:flex;\n",
              "      flex-wrap:wrap;\n",
              "      gap: 12px;\n",
              "    }\n",
              "\n",
              "    .colab-df-convert {\n",
              "      background-color: #E8F0FE;\n",
              "      border: none;\n",
              "      border-radius: 50%;\n",
              "      cursor: pointer;\n",
              "      display: none;\n",
              "      fill: #1967D2;\n",
              "      height: 32px;\n",
              "      padding: 0 0 0 0;\n",
              "      width: 32px;\n",
              "    }\n",
              "\n",
              "    .colab-df-convert:hover {\n",
              "      background-color: #E2EBFA;\n",
              "      box-shadow: 0px 1px 2px rgba(60, 64, 67, 0.3), 0px 1px 3px 1px rgba(60, 64, 67, 0.15);\n",
              "      fill: #174EA6;\n",
              "    }\n",
              "\n",
              "    [theme=dark] .colab-df-convert {\n",
              "      background-color: #3B4455;\n",
              "      fill: #D2E3FC;\n",
              "    }\n",
              "\n",
              "    [theme=dark] .colab-df-convert:hover {\n",
              "      background-color: #434B5C;\n",
              "      box-shadow: 0px 1px 3px 1px rgba(0, 0, 0, 0.15);\n",
              "      filter: drop-shadow(0px 1px 2px rgba(0, 0, 0, 0.3));\n",
              "      fill: #FFFFFF;\n",
              "    }\n",
              "  </style>\n",
              "\n",
              "      <script>\n",
              "        const buttonEl =\n",
              "          document.querySelector('#df-8277ccd0-4127-4479-8d20-d90d4a2cc561 button.colab-df-convert');\n",
              "        buttonEl.style.display =\n",
              "          google.colab.kernel.accessAllowed ? 'block' : 'none';\n",
              "\n",
              "        async function convertToInteractive(key) {\n",
              "          const element = document.querySelector('#df-8277ccd0-4127-4479-8d20-d90d4a2cc561');\n",
              "          const dataTable =\n",
              "            await google.colab.kernel.invokeFunction('convertToInteractive',\n",
              "                                                     [key], {});\n",
              "          if (!dataTable) return;\n",
              "\n",
              "          const docLinkHtml = 'Like what you see? Visit the ' +\n",
              "            '<a target=\"_blank\" href=https://colab.research.google.com/notebooks/data_table.ipynb>data table notebook</a>'\n",
              "            + ' to learn more about interactive tables.';\n",
              "          element.innerHTML = '';\n",
              "          dataTable['output_type'] = 'display_data';\n",
              "          await google.colab.output.renderOutput(dataTable, element);\n",
              "          const docLink = document.createElement('div');\n",
              "          docLink.innerHTML = docLinkHtml;\n",
              "          element.appendChild(docLink);\n",
              "        }\n",
              "      </script>\n",
              "    </div>\n",
              "  </div>\n",
              "  "
            ],
            "text/plain": [
              "      RM  LSTAT  PTRATIO      MEDV\n",
              "0  6.575   4.98     15.3  504000.0\n",
              "1  6.421   9.14     17.8  453600.0"
            ]
          },
          "execution_count": 137,
          "metadata": {},
          "output_type": "execute_result"
        }
      ],
      "source": [
        "df.head(2)"
      ]
    },
    {
      "cell_type": "code",
      "execution_count": null,
      "metadata": {
        "colab": {
          "base_uri": "https://localhost:8080/"
        },
        "id": "gJxxUoJfLZ3q",
        "outputId": "7721f825-78ae-4255-92da-cd4ef457d080"
      },
      "outputs": [
        {
          "data": {
            "text/plain": [
              "array([[ 6.575,  4.98 , 15.3  ],\n",
              "       [ 6.421,  9.14 , 17.8  ],\n",
              "       [ 7.185,  4.03 , 17.8  ],\n",
              "       ...,\n",
              "       [ 6.976,  5.64 , 21.   ],\n",
              "       [ 6.794,  6.48 , 21.   ],\n",
              "       [ 6.03 ,  7.88 , 21.   ]])"
            ]
          },
          "execution_count": 138,
          "metadata": {},
          "output_type": "execute_result"
        }
      ],
      "source": [
        "independente = df.iloc[:, 0:3].values\n",
        "independente"
      ]
    },
    {
      "cell_type": "code",
      "execution_count": null,
      "metadata": {
        "colab": {
          "base_uri": "https://localhost:8080/"
        },
        "id": "X748p6-1LZ3r",
        "outputId": "7e474144-b08e-4f76-de7c-f8e371ab48bc"
      },
      "outputs": [
        {
          "data": {
            "text/plain": [
              "(489, 3)"
            ]
          },
          "execution_count": 139,
          "metadata": {},
          "output_type": "execute_result"
        }
      ],
      "source": [
        "independente.shape"
      ]
    },
    {
      "cell_type": "code",
      "execution_count": null,
      "metadata": {
        "id": "T6PtTe5SLZ3r"
      },
      "outputs": [],
      "source": [
        "dependente = df.iloc[:, 3].values"
      ]
    },
    {
      "cell_type": "code",
      "execution_count": null,
      "metadata": {
        "colab": {
          "base_uri": "https://localhost:8080/"
        },
        "id": "IVvAP3tJLZ3s",
        "outputId": "efbb01cd-e5ed-4bb7-debc-39f5dd71e3b4"
      },
      "outputs": [
        {
          "data": {
            "text/plain": [
              "(489,)"
            ]
          },
          "execution_count": 141,
          "metadata": {},
          "output_type": "execute_result"
        }
      ],
      "source": [
        "dependente.shape"
      ]
    },
    {
      "cell_type": "code",
      "execution_count": null,
      "metadata": {
        "id": "-R3GlRD8LZ3s"
      },
      "outputs": [],
      "source": [
        "from sklearn.model_selection import train_test_split\n",
        "x_treino, x_teste, y_treino, y_teste = train_test_split(independente, dependente, test_size = 0.3, random_state = 0)"
      ]
    },
    {
      "cell_type": "code",
      "execution_count": null,
      "metadata": {
        "colab": {
          "base_uri": "https://localhost:8080/"
        },
        "id": "2ZOzrZh1LZ3t",
        "outputId": "fe8062ed-59c3-4c68-a38a-a596e6bfa38a"
      },
      "outputs": [
        {
          "data": {
            "text/plain": [
              "((342, 3), (147, 3))"
            ]
          },
          "execution_count": 143,
          "metadata": {},
          "output_type": "execute_result"
        }
      ],
      "source": [
        "x_treino.shape, x_teste.shape"
      ]
    },
    {
      "cell_type": "code",
      "execution_count": null,
      "metadata": {
        "id": "gXsNjojnEoyA"
      },
      "outputs": [],
      "source": [
        "from xgboost import XGBRegressor"
      ]
    },
    {
      "cell_type": "code",
      "execution_count": null,
      "metadata": {
        "colab": {
          "base_uri": "https://localhost:8080/"
        },
        "id": "ggIQN7N9LZ3v",
        "outputId": "fd727ff3-19cf-4c86-e9c0-2747f76cb95c"
      },
      "outputs": [
        {
          "data": {
            "text/plain": [
              "XGBRegressor(learning_rate=0.05, n_estimators=180, objective='reg:squarederror',\n",
              "             random_state=10)"
            ]
          },
          "execution_count": 351,
          "metadata": {},
          "output_type": "execute_result"
        }
      ],
      "source": [
        "xgboost = XGBRegressor(n_estimators=180, max_depth=3, learning_rate=0.05, objective=\"reg:squarederror\", random_state=10)\n",
        "xgboost.fit(x_treino, y_treino)"
      ]
    },
    {
      "cell_type": "code",
      "execution_count": null,
      "metadata": {
        "colab": {
          "base_uri": "https://localhost:8080/"
        },
        "id": "qGniar4pLZ3v",
        "outputId": "e667d301-0212-433a-a100-8bcf50def0b4"
      },
      "outputs": [
        {
          "data": {
            "text/plain": [
              "0.9269256727642161"
            ]
          },
          "execution_count": 352,
          "metadata": {},
          "output_type": "execute_result"
        }
      ],
      "source": [
        "xgboost.score(x_treino, y_treino)"
      ]
    },
    {
      "cell_type": "markdown",
      "metadata": {
        "id": "Ag0SWRYdLZ3w"
      },
      "source": [
        "**TESTE**"
      ]
    },
    {
      "cell_type": "code",
      "execution_count": null,
      "metadata": {
        "colab": {
          "base_uri": "https://localhost:8080/"
        },
        "id": "gPggEGb0LZ3w",
        "outputId": "41226565-7edd-4f2e-8ae6-87556aab9a81"
      },
      "outputs": [
        {
          "data": {
            "text/plain": [
              "0.8416164650842644"
            ]
          },
          "execution_count": 353,
          "metadata": {},
          "output_type": "execute_result"
        }
      ],
      "source": [
        "xgboost.score(x_teste, y_teste)"
      ]
    },
    {
      "cell_type": "code",
      "execution_count": null,
      "metadata": {
        "id": "LZ7WLVF4LZ3x"
      },
      "outputs": [],
      "source": [
        "previsoes_teste = xgboost.predict(x_teste)"
      ]
    },
    {
      "cell_type": "code",
      "execution_count": null,
      "metadata": {
        "colab": {
          "base_uri": "https://localhost:8080/"
        },
        "id": "qXY1DEm2TPrs",
        "outputId": "5ab4c525-6521-428a-bf06-3525a04f0e43"
      },
      "outputs": [
        {
          "data": {
            "text/plain": [
              "array([368061.16], dtype=float32)"
            ]
          },
          "execution_count": 355,
          "metadata": {},
          "output_type": "execute_result"
        }
      ],
      "source": [
        "# Fazendo previsões para valores distintos\n",
        "valor_casa = xgboost.predict([[6,20,12]])\n",
        "valor_casa"
      ]
    },
    {
      "cell_type": "markdown",
      "metadata": {
        "id": "eupiQ6n9LZ3y"
      },
      "source": [
        "**MÉTRICAS**"
      ]
    },
    {
      "cell_type": "code",
      "execution_count": null,
      "metadata": {
        "id": "mNFhiP0nLZ3z"
      },
      "outputs": [],
      "source": [
        "from sklearn.metrics import mean_absolute_error, mean_squared_error"
      ]
    },
    {
      "cell_type": "code",
      "execution_count": null,
      "metadata": {
        "colab": {
          "base_uri": "https://localhost:8080/"
        },
        "id": "ptcF4Z3QLZ3z",
        "outputId": "80197b3e-ba36-410a-fd6a-046258677637"
      },
      "outputs": [
        {
          "data": {
            "text/plain": [
              "51063.76605017007"
            ]
          },
          "execution_count": 356,
          "metadata": {},
          "output_type": "execute_result"
        }
      ],
      "source": [
        "# Erro médio Absoluto\n",
        "mean_absolute_error(y_teste, previsoes_teste)"
      ]
    },
    {
      "cell_type": "code",
      "execution_count": null,
      "metadata": {
        "colab": {
          "base_uri": "https://localhost:8080/"
        },
        "id": "UW9rH3WyLZ30",
        "outputId": "8bbbcf2b-abc9-4dbe-b74e-212d7f46edcc"
      },
      "outputs": [
        {
          "data": {
            "text/plain": [
              "67788.84234677578"
            ]
          },
          "execution_count": 357,
          "metadata": {},
          "output_type": "execute_result"
        }
      ],
      "source": [
        "# Raiz do erro quadrático médio (RMSE)\n",
        "np.sqrt(mean_squared_error(y_teste, previsoes_teste))"
      ]
    },
    {
      "cell_type": "markdown",
      "metadata": {
        "id": "mopLhYaKLZ31"
      },
      "source": [
        "### **Validação Cruzada**"
      ]
    },
    {
      "cell_type": "code",
      "execution_count": null,
      "metadata": {
        "id": "EW9FdkEELZ31"
      },
      "outputs": [],
      "source": [
        "from sklearn.model_selection import KFold\n",
        "from sklearn.model_selection import cross_val_score"
      ]
    },
    {
      "cell_type": "code",
      "execution_count": null,
      "metadata": {
        "id": "-duD4L-4LZ32"
      },
      "outputs": [],
      "source": [
        "# Separando os dados em folds\n",
        "kfold = KFold(n_splits = 15, shuffle=True, random_state = 5)"
      ]
    },
    {
      "cell_type": "code",
      "execution_count": null,
      "metadata": {
        "colab": {
          "base_uri": "https://localhost:8080/"
        },
        "id": "KTJuA6GpLZ32",
        "outputId": "fe621e8a-a05e-4705-c034-479e35240ee1"
      },
      "outputs": [
        {
          "data": {
            "text/plain": [
              "array([0.95352272, 0.90664315, 0.77445699, 0.79897621, 0.83737888,\n",
              "       0.71638268, 0.90830893, 0.83769017, 0.83258437, 0.84008661,\n",
              "       0.9032208 , 0.71795708, 0.76351618, 0.89191949, 0.79971926])"
            ]
          },
          "execution_count": 360,
          "metadata": {},
          "output_type": "execute_result"
        }
      ],
      "source": [
        "# Criando o modelo\n",
        "from xgboost import XGBRegressor\n",
        "modelo = XGBRegressor(n_estimators=180, max_depth=3, learning_rate=0.05, objective = \"reg:squarederror\")\n",
        "resultado = cross_val_score(modelo, independente, dependente, cv = kfold)\n",
        "resultado"
      ]
    },
    {
      "cell_type": "code",
      "execution_count": null,
      "metadata": {
        "colab": {
          "base_uri": "https://localhost:8080/"
        },
        "id": "6OLrwVIQLZ33",
        "outputId": "b71259c3-fe1d-4f2e-c682-74d5978a8627"
      },
      "outputs": [
        {
          "name": "stdout",
          "output_type": "stream",
          "text": [
            "Coeficiente de determinação Médio: 83.22%\n"
          ]
        }
      ],
      "source": [
        "# Usamos a média e o desvio padrão\n",
        "print(\"Coeficiente de determinação Médio: %.2f%%\" % (resultado.mean() * 100.0))"
      ]
    },
    {
      "cell_type": "markdown",
      "metadata": {
        "id": "y4gwkctLLZ33"
      },
      "source": [
        "**RESULTADOS:**\n",
        "\n",
        "**REGRESSÃO LINEAR SIMPLES:** R^2 = 0,57/0,60; RMSE = 99315,5; R^2 Validação Cruzada: 55,97%\n",
        "\n",
        "**REGRESSÃO LINEAR MÚLTIPLA:** R^2 = 0,73/0,68; RMSE = 96087,3; R^2 Validação Cruzada: 69,25%\n",
        "\n",
        "**REGRESSÃO POLINOMIAL:** R^2 = 0,59/0,54; RMSE = 114670,6.\n",
        "\n",
        "**REGRESSÃO SVR:** R^2 = 0,87/0,81; RMSE = 73422,7. R^2 Validação Cruzada: 82,37%.\n",
        "\n",
        "**REGRESSÃO ÁRVORE DE DECISÃO:** R^2 = 0,91/0,83; RMSE = 71114,5. R^2 Validação Cruzada: 74,60%.\n",
        "\n",
        "**REGRESSÃO COM RANDOM FOREST:** R^2 = 0,92/0,85; RMSE = 66729,3. R^2 Validação Cruzada: 82,85%.\n",
        "\n",
        "**REGRESSÃO COM XGBOOST:** R^2 = 0,93/0,84; RMSE = 67788,8. R^2 Validação Cruzada: 83,22%."
      ]
    },
    {
      "cell_type": "markdown",
      "metadata": {
        "id": "5Ml9LC8_P_Us"
      },
      "source": [
        "## **REGRESSÃO COM LIGHT GBM**"
      ]
    },
    {
      "cell_type": "markdown",
      "metadata": {
        "id": "sLqV3RvmQHiI"
      },
      "source": [
        "https://lightgbm.readthedocs.io/en/latest/pythonapi/lightgbm.LGBMRegressor.html "
      ]
    },
    {
      "cell_type": "code",
      "execution_count": null,
      "metadata": {
        "colab": {
          "base_uri": "https://localhost:8080/"
        },
        "id": "hqvRU7h6Q9oc",
        "outputId": "b5f85a50-182d-4154-cb3e-5e233280e5be"
      },
      "outputs": [
        {
          "name": "stdout",
          "output_type": "stream",
          "text": [
            "Requirement already satisfied: lightgbm in /usr/local/lib/python3.7/dist-packages (2.2.3)\n",
            "Requirement already satisfied: numpy in /usr/local/lib/python3.7/dist-packages (from lightgbm) (1.19.5)\n",
            "Requirement already satisfied: scipy in /usr/local/lib/python3.7/dist-packages (from lightgbm) (1.4.1)\n",
            "Requirement already satisfied: scikit-learn in /usr/local/lib/python3.7/dist-packages (from lightgbm) (1.0.2)\n",
            "Requirement already satisfied: threadpoolctl>=2.0.0 in /usr/local/lib/python3.7/dist-packages (from scikit-learn->lightgbm) (3.1.0)\n",
            "Requirement already satisfied: joblib>=0.11 in /usr/local/lib/python3.7/dist-packages (from scikit-learn->lightgbm) (1.1.0)\n"
          ]
        }
      ],
      "source": [
        "# Instalação do Algoritmo\n",
        "!pip install lightgbm"
      ]
    },
    {
      "cell_type": "code",
      "execution_count": null,
      "metadata": {
        "colab": {
          "base_uri": "https://localhost:8080/",
          "height": 112
        },
        "id": "TmOsSq05QgB0",
        "outputId": "734b68c2-a884-4ebb-f3f7-67fa5ca0dd96"
      },
      "outputs": [
        {
          "data": {
            "text/html": [
              "\n",
              "  <div id=\"df-003b0df6-2d90-48ea-b07f-09647e7cbb94\">\n",
              "    <div class=\"colab-df-container\">\n",
              "      <div>\n",
              "<style scoped>\n",
              "    .dataframe tbody tr th:only-of-type {\n",
              "        vertical-align: middle;\n",
              "    }\n",
              "\n",
              "    .dataframe tbody tr th {\n",
              "        vertical-align: top;\n",
              "    }\n",
              "\n",
              "    .dataframe thead th {\n",
              "        text-align: right;\n",
              "    }\n",
              "</style>\n",
              "<table border=\"1\" class=\"dataframe\">\n",
              "  <thead>\n",
              "    <tr style=\"text-align: right;\">\n",
              "      <th></th>\n",
              "      <th>RM</th>\n",
              "      <th>LSTAT</th>\n",
              "      <th>PTRATIO</th>\n",
              "      <th>MEDV</th>\n",
              "    </tr>\n",
              "  </thead>\n",
              "  <tbody>\n",
              "    <tr>\n",
              "      <th>0</th>\n",
              "      <td>6.575</td>\n",
              "      <td>4.98</td>\n",
              "      <td>15.3</td>\n",
              "      <td>504000.0</td>\n",
              "    </tr>\n",
              "    <tr>\n",
              "      <th>1</th>\n",
              "      <td>6.421</td>\n",
              "      <td>9.14</td>\n",
              "      <td>17.8</td>\n",
              "      <td>453600.0</td>\n",
              "    </tr>\n",
              "  </tbody>\n",
              "</table>\n",
              "</div>\n",
              "      <button class=\"colab-df-convert\" onclick=\"convertToInteractive('df-003b0df6-2d90-48ea-b07f-09647e7cbb94')\"\n",
              "              title=\"Convert this dataframe to an interactive table.\"\n",
              "              style=\"display:none;\">\n",
              "        \n",
              "  <svg xmlns=\"http://www.w3.org/2000/svg\" height=\"24px\"viewBox=\"0 0 24 24\"\n",
              "       width=\"24px\">\n",
              "    <path d=\"M0 0h24v24H0V0z\" fill=\"none\"/>\n",
              "    <path d=\"M18.56 5.44l.94 2.06.94-2.06 2.06-.94-2.06-.94-.94-2.06-.94 2.06-2.06.94zm-11 1L8.5 8.5l.94-2.06 2.06-.94-2.06-.94L8.5 2.5l-.94 2.06-2.06.94zm10 10l.94 2.06.94-2.06 2.06-.94-2.06-.94-.94-2.06-.94 2.06-2.06.94z\"/><path d=\"M17.41 7.96l-1.37-1.37c-.4-.4-.92-.59-1.43-.59-.52 0-1.04.2-1.43.59L10.3 9.45l-7.72 7.72c-.78.78-.78 2.05 0 2.83L4 21.41c.39.39.9.59 1.41.59.51 0 1.02-.2 1.41-.59l7.78-7.78 2.81-2.81c.8-.78.8-2.07 0-2.86zM5.41 20L4 18.59l7.72-7.72 1.47 1.35L5.41 20z\"/>\n",
              "  </svg>\n",
              "      </button>\n",
              "      \n",
              "  <style>\n",
              "    .colab-df-container {\n",
              "      display:flex;\n",
              "      flex-wrap:wrap;\n",
              "      gap: 12px;\n",
              "    }\n",
              "\n",
              "    .colab-df-convert {\n",
              "      background-color: #E8F0FE;\n",
              "      border: none;\n",
              "      border-radius: 50%;\n",
              "      cursor: pointer;\n",
              "      display: none;\n",
              "      fill: #1967D2;\n",
              "      height: 32px;\n",
              "      padding: 0 0 0 0;\n",
              "      width: 32px;\n",
              "    }\n",
              "\n",
              "    .colab-df-convert:hover {\n",
              "      background-color: #E2EBFA;\n",
              "      box-shadow: 0px 1px 2px rgba(60, 64, 67, 0.3), 0px 1px 3px 1px rgba(60, 64, 67, 0.15);\n",
              "      fill: #174EA6;\n",
              "    }\n",
              "\n",
              "    [theme=dark] .colab-df-convert {\n",
              "      background-color: #3B4455;\n",
              "      fill: #D2E3FC;\n",
              "    }\n",
              "\n",
              "    [theme=dark] .colab-df-convert:hover {\n",
              "      background-color: #434B5C;\n",
              "      box-shadow: 0px 1px 3px 1px rgba(0, 0, 0, 0.15);\n",
              "      filter: drop-shadow(0px 1px 2px rgba(0, 0, 0, 0.3));\n",
              "      fill: #FFFFFF;\n",
              "    }\n",
              "  </style>\n",
              "\n",
              "      <script>\n",
              "        const buttonEl =\n",
              "          document.querySelector('#df-003b0df6-2d90-48ea-b07f-09647e7cbb94 button.colab-df-convert');\n",
              "        buttonEl.style.display =\n",
              "          google.colab.kernel.accessAllowed ? 'block' : 'none';\n",
              "\n",
              "        async function convertToInteractive(key) {\n",
              "          const element = document.querySelector('#df-003b0df6-2d90-48ea-b07f-09647e7cbb94');\n",
              "          const dataTable =\n",
              "            await google.colab.kernel.invokeFunction('convertToInteractive',\n",
              "                                                     [key], {});\n",
              "          if (!dataTable) return;\n",
              "\n",
              "          const docLinkHtml = 'Like what you see? Visit the ' +\n",
              "            '<a target=\"_blank\" href=https://colab.research.google.com/notebooks/data_table.ipynb>data table notebook</a>'\n",
              "            + ' to learn more about interactive tables.';\n",
              "          element.innerHTML = '';\n",
              "          dataTable['output_type'] = 'display_data';\n",
              "          await google.colab.output.renderOutput(dataTable, element);\n",
              "          const docLink = document.createElement('div');\n",
              "          docLink.innerHTML = docLinkHtml;\n",
              "          element.appendChild(docLink);\n",
              "        }\n",
              "      </script>\n",
              "    </div>\n",
              "  </div>\n",
              "  "
            ],
            "text/plain": [
              "      RM  LSTAT  PTRATIO      MEDV\n",
              "0  6.575   4.98     15.3  504000.0\n",
              "1  6.421   9.14     17.8  453600.0"
            ]
          },
          "execution_count": 206,
          "metadata": {},
          "output_type": "execute_result"
        }
      ],
      "source": [
        "df.head(2)"
      ]
    },
    {
      "cell_type": "code",
      "execution_count": null,
      "metadata": {
        "colab": {
          "base_uri": "https://localhost:8080/"
        },
        "id": "zyubjorGQgB2",
        "outputId": "daa4130d-00c7-42c8-8519-b4cb09bea4db"
      },
      "outputs": [
        {
          "data": {
            "text/plain": [
              "array([[ 6.575,  4.98 , 15.3  ],\n",
              "       [ 6.421,  9.14 , 17.8  ],\n",
              "       [ 7.185,  4.03 , 17.8  ],\n",
              "       ...,\n",
              "       [ 6.976,  5.64 , 21.   ],\n",
              "       [ 6.794,  6.48 , 21.   ],\n",
              "       [ 6.03 ,  7.88 , 21.   ]])"
            ]
          },
          "execution_count": 207,
          "metadata": {},
          "output_type": "execute_result"
        }
      ],
      "source": [
        "independente = df.iloc[:, 0:3].values\n",
        "independente"
      ]
    },
    {
      "cell_type": "code",
      "execution_count": null,
      "metadata": {
        "colab": {
          "base_uri": "https://localhost:8080/"
        },
        "id": "r08QXJHHQgB2",
        "outputId": "f8898270-9245-4611-8126-5ef1198fed52"
      },
      "outputs": [
        {
          "data": {
            "text/plain": [
              "(489, 3)"
            ]
          },
          "execution_count": 209,
          "metadata": {},
          "output_type": "execute_result"
        }
      ],
      "source": [
        "independente.shape"
      ]
    },
    {
      "cell_type": "code",
      "execution_count": null,
      "metadata": {
        "id": "mWxdToSwQgB3"
      },
      "outputs": [],
      "source": [
        "dependente = df.iloc[:, 3].values"
      ]
    },
    {
      "cell_type": "code",
      "execution_count": null,
      "metadata": {
        "colab": {
          "base_uri": "https://localhost:8080/"
        },
        "id": "G6Rvs0KHQgB4",
        "outputId": "e825ce14-d5a9-4704-fe4b-7b868b3f7cdc"
      },
      "outputs": [
        {
          "data": {
            "text/plain": [
              "(489,)"
            ]
          },
          "execution_count": 210,
          "metadata": {},
          "output_type": "execute_result"
        }
      ],
      "source": [
        "dependente.shape"
      ]
    },
    {
      "cell_type": "code",
      "execution_count": null,
      "metadata": {
        "id": "uaWSEem8QgB4"
      },
      "outputs": [],
      "source": [
        "from sklearn.model_selection import train_test_split\n",
        "x_treino, x_teste, y_treino, y_teste = train_test_split(independente, dependente, test_size = 0.3, random_state = 0)"
      ]
    },
    {
      "cell_type": "code",
      "execution_count": null,
      "metadata": {
        "colab": {
          "base_uri": "https://localhost:8080/"
        },
        "id": "dgMg2ZJ2QgB5",
        "outputId": "bf338c0c-262a-4e08-de39-bb107751b263"
      },
      "outputs": [
        {
          "data": {
            "text/plain": [
              "((342, 3), (147, 3))"
            ]
          },
          "execution_count": 212,
          "metadata": {},
          "output_type": "execute_result"
        }
      ],
      "source": [
        "x_treino.shape, x_teste.shape"
      ]
    },
    {
      "cell_type": "code",
      "execution_count": null,
      "metadata": {
        "id": "q4V61kANQgB5"
      },
      "outputs": [],
      "source": [
        "import lightgbm as lgb"
      ]
    },
    {
      "cell_type": "code",
      "execution_count": null,
      "metadata": {
        "colab": {
          "base_uri": "https://localhost:8080/"
        },
        "id": "Sk8UBLYrQgB6",
        "outputId": "407696bf-ae9f-4784-aecc-e41b1555393c"
      },
      "outputs": [
        {
          "data": {
            "text/plain": [
              "LGBMRegressor(max_depth=3, n_estimators=50, num_leaves=50, random_state=10)"
            ]
          },
          "execution_count": 340,
          "metadata": {},
          "output_type": "execute_result"
        }
      ],
      "source": [
        "lgbm = lgb.LGBMRegressor(num_leaves=50, max_depth=3, learning_rate=0.1, n_estimators=50, random_state=10)\n",
        "lgbm.fit(x_treino, y_treino)"
      ]
    },
    {
      "cell_type": "code",
      "execution_count": null,
      "metadata": {
        "colab": {
          "base_uri": "https://localhost:8080/"
        },
        "id": "-fk3JlxnQgB6",
        "outputId": "7fb81c5a-f0b9-4e5e-e20e-bf5c8bde7769"
      },
      "outputs": [
        {
          "data": {
            "text/plain": [
              "0.8814914688459106"
            ]
          },
          "execution_count": 341,
          "metadata": {},
          "output_type": "execute_result"
        }
      ],
      "source": [
        "lgbm.score(x_treino, y_treino)"
      ]
    },
    {
      "cell_type": "markdown",
      "metadata": {
        "id": "6vaV_m3fQgB7"
      },
      "source": [
        "**TESTE**"
      ]
    },
    {
      "cell_type": "code",
      "execution_count": null,
      "metadata": {
        "colab": {
          "base_uri": "https://localhost:8080/"
        },
        "id": "0e_-0p0EQgB7",
        "outputId": "8fa5f6ae-739a-4b8f-a1f6-5f2a3be54e77"
      },
      "outputs": [
        {
          "data": {
            "text/plain": [
              "0.821790912114666"
            ]
          },
          "execution_count": 342,
          "metadata": {},
          "output_type": "execute_result"
        }
      ],
      "source": [
        "lgbm.score(x_teste, y_teste)"
      ]
    },
    {
      "cell_type": "code",
      "execution_count": null,
      "metadata": {
        "id": "SuRMp_IuQgB8"
      },
      "outputs": [],
      "source": [
        "previsoes_teste = lgbm.predict(x_teste)"
      ]
    },
    {
      "cell_type": "code",
      "execution_count": null,
      "metadata": {
        "colab": {
          "base_uri": "https://localhost:8080/"
        },
        "id": "vHgIjE5hTYEW",
        "outputId": "59b2cb5e-4170-4255-bf3c-0a8c55585064"
      },
      "outputs": [
        {
          "data": {
            "text/plain": [
              "array([473777.6547499])"
            ]
          },
          "execution_count": 344,
          "metadata": {},
          "output_type": "execute_result"
        }
      ],
      "source": [
        "# Fazendo previsões para valores distintos\n",
        "valor_casa = lgbm.predict([[8,12,25]])\n",
        "valor_casa"
      ]
    },
    {
      "cell_type": "markdown",
      "metadata": {
        "id": "TB4eq5DYQgB8"
      },
      "source": [
        "**MÉTRICAS**"
      ]
    },
    {
      "cell_type": "code",
      "execution_count": null,
      "metadata": {
        "id": "bUuxOSjGQgB9"
      },
      "outputs": [],
      "source": [
        "from sklearn.metrics import mean_absolute_error, mean_squared_error"
      ]
    },
    {
      "cell_type": "code",
      "execution_count": null,
      "metadata": {
        "colab": {
          "base_uri": "https://localhost:8080/"
        },
        "id": "oD4PttzoQgB9",
        "outputId": "154d43cf-f75e-4cf8-b19a-0cb527175060"
      },
      "outputs": [
        {
          "data": {
            "text/plain": [
              "55114.09314449551"
            ]
          },
          "execution_count": 345,
          "metadata": {},
          "output_type": "execute_result"
        }
      ],
      "source": [
        "# Erro médio Absoluto\n",
        "mean_absolute_error(y_teste, previsoes_teste)"
      ]
    },
    {
      "cell_type": "code",
      "execution_count": null,
      "metadata": {
        "colab": {
          "base_uri": "https://localhost:8080/"
        },
        "id": "Dql6Ds3rQgB-",
        "outputId": "16c1e22d-5f0e-42c3-df84-2292a0f4a17d"
      },
      "outputs": [
        {
          "data": {
            "text/plain": [
              "71906.49585704789"
            ]
          },
          "execution_count": 346,
          "metadata": {},
          "output_type": "execute_result"
        }
      ],
      "source": [
        "# Raiz do erro quadrático médio (RMSE)\n",
        "np.sqrt(mean_squared_error(y_teste, previsoes_teste))"
      ]
    },
    {
      "cell_type": "markdown",
      "metadata": {
        "id": "HiSSyx4qQgB_"
      },
      "source": [
        "### **Validação Cruzada**"
      ]
    },
    {
      "cell_type": "code",
      "execution_count": null,
      "metadata": {
        "id": "qoP8WdOAQgB_"
      },
      "outputs": [],
      "source": [
        "from sklearn.model_selection import KFold\n",
        "from sklearn.model_selection import cross_val_score"
      ]
    },
    {
      "cell_type": "code",
      "execution_count": null,
      "metadata": {
        "id": "OiBBJQ5oQgCA"
      },
      "outputs": [],
      "source": [
        "# Separando os dados em folds\n",
        "kfold = KFold(n_splits = 15, shuffle=True, random_state = 5)"
      ]
    },
    {
      "cell_type": "code",
      "execution_count": null,
      "metadata": {
        "colab": {
          "base_uri": "https://localhost:8080/"
        },
        "id": "yzpxQlPpQgCA",
        "outputId": "607a1c9b-fd69-4114-e44d-5aed6e1a0940"
      },
      "outputs": [
        {
          "data": {
            "text/plain": [
              "array([0.92885902, 0.87411091, 0.79183715, 0.82557057, 0.84077803,\n",
              "       0.69153561, 0.8972966 , 0.853766  , 0.78817415, 0.84598833,\n",
              "       0.9151854 , 0.680427  , 0.7801631 , 0.86306132, 0.78006315])"
            ]
          },
          "execution_count": 348,
          "metadata": {},
          "output_type": "execute_result"
        }
      ],
      "source": [
        "# Criando o modelo\n",
        "import lightgbm as lgb\n",
        "modelo = lgb.LGBMRegressor(num_leaves=50, max_depth=3, learning_rate=0.1, n_estimators=50)\n",
        "resultado = cross_val_score(modelo, independente, dependente, cv = kfold)\n",
        "resultado"
      ]
    },
    {
      "cell_type": "code",
      "execution_count": null,
      "metadata": {
        "colab": {
          "base_uri": "https://localhost:8080/"
        },
        "id": "eDE7L7RBQgCB",
        "outputId": "10ca6d63-fb32-4b2c-cd5e-c19e58e66cef"
      },
      "outputs": [
        {
          "name": "stdout",
          "output_type": "stream",
          "text": [
            "Coeficiente de Determinação Médio: 82.38%\n"
          ]
        }
      ],
      "source": [
        "# Usamos a média e o desvio padrão\n",
        "print(\"Coeficiente de Determinação Médio: %.2f%%\" % (resultado.mean() * 100.0))"
      ]
    },
    {
      "cell_type": "markdown",
      "metadata": {
        "id": "vxcj5kwGQgCC"
      },
      "source": [
        "**RESULTADOS:**\n",
        "\n",
        "**REGRESSÃO LINEAR SIMPLES:** R^2 = 0,57/0,60; RMSE = 99315,5; R^2 Validação Cruzada: 55,97%\n",
        "\n",
        "**REGRESSÃO LINEAR MÚLTIPLA:** R^2 = 0,73/0,68; RMSE = 96087,3; R^2 Validação Cruzada: 69,25%\n",
        "\n",
        "**REGRESSÃO POLINOMIAL:** R^2 = 0,59/0,54; RMSE = 114670,6.\n",
        "\n",
        "**REGRESSÃO SVR:** R^2 = 0,87/0,81; RMSE = 73422,7. R^2 Validação Cruzada: 82,37%.\n",
        "\n",
        "**REGRESSÃO ÁRVORE DE DECISÃO:** R^2 = 0,91/0,83; RMSE = 71114,5. R^2 Validação Cruzada: 74,60%.\n",
        "\n",
        "**REGRESSÃO COM RANDOM FOREST:** R^2 = 0,92/0,85; RMSE = 66729,3. R^2 Validação Cruzada: 82,85%.\n",
        "\n",
        "**REGRESSÃO COM XGBOOST:** R^2 = 0,93/0,84; RMSE = 67788,8. R^2 Validação Cruzada: 83,22%.\n",
        "\n",
        "**REGRESSÃO COM LIGHT GBM:** R^2 = 0,88/0,82; RMSE = 71906,4. R^2 Validação Cruzada: 82,38%."
      ]
    },
    {
      "cell_type": "markdown",
      "metadata": {
        "id": "gZsVtfKfQgCC"
      },
      "source": [
        "## **REGRESSÃO COM CATBOOST**"
      ]
    },
    {
      "cell_type": "markdown",
      "metadata": {
        "id": "5GPeGeg-VXsz"
      },
      "source": [
        "https://catboost.ai/en/docs/concepts/python-reference_catboostregressor "
      ]
    },
    {
      "cell_type": "code",
      "execution_count": null,
      "metadata": {
        "colab": {
          "base_uri": "https://localhost:8080/"
        },
        "id": "NuLKDgUGVXs0",
        "outputId": "62de0743-1791-446e-eae3-3c1734c60979"
      },
      "outputs": [
        {
          "name": "stdout",
          "output_type": "stream",
          "text": [
            "Collecting catboost\n",
            "  Downloading catboost-1.0.4-cp37-none-manylinux1_x86_64.whl (76.1 MB)\n",
            "\u001b[K     |████████████████████████████████| 76.1 MB 1.2 MB/s \n",
            "\u001b[?25hRequirement already satisfied: matplotlib in /usr/local/lib/python3.7/dist-packages (from catboost) (3.2.2)\n",
            "Requirement already satisfied: pandas>=0.24.0 in /usr/local/lib/python3.7/dist-packages (from catboost) (1.3.5)\n",
            "Requirement already satisfied: scipy in /usr/local/lib/python3.7/dist-packages (from catboost) (1.4.1)\n",
            "Requirement already satisfied: plotly in /usr/local/lib/python3.7/dist-packages (from catboost) (5.5.0)\n",
            "Requirement already satisfied: six in /usr/local/lib/python3.7/dist-packages (from catboost) (1.15.0)\n",
            "Requirement already satisfied: numpy>=1.16.0 in /usr/local/lib/python3.7/dist-packages (from catboost) (1.19.5)\n",
            "Requirement already satisfied: graphviz in /usr/local/lib/python3.7/dist-packages (from catboost) (0.10.1)\n",
            "Requirement already satisfied: python-dateutil>=2.7.3 in /usr/local/lib/python3.7/dist-packages (from pandas>=0.24.0->catboost) (2.8.2)\n",
            "Requirement already satisfied: pytz>=2017.3 in /usr/local/lib/python3.7/dist-packages (from pandas>=0.24.0->catboost) (2018.9)\n",
            "Requirement already satisfied: cycler>=0.10 in /usr/local/lib/python3.7/dist-packages (from matplotlib->catboost) (0.11.0)\n",
            "Requirement already satisfied: kiwisolver>=1.0.1 in /usr/local/lib/python3.7/dist-packages (from matplotlib->catboost) (1.3.2)\n",
            "Requirement already satisfied: pyparsing!=2.0.4,!=2.1.2,!=2.1.6,>=2.0.1 in /usr/local/lib/python3.7/dist-packages (from matplotlib->catboost) (3.0.7)\n",
            "Requirement already satisfied: tenacity>=6.2.0 in /usr/local/lib/python3.7/dist-packages (from plotly->catboost) (8.0.1)\n",
            "Installing collected packages: catboost\n",
            "Successfully installed catboost-1.0.4\n"
          ]
        }
      ],
      "source": [
        "#Instalação\n",
        "!pip install catboost"
      ]
    },
    {
      "cell_type": "code",
      "execution_count": null,
      "metadata": {
        "colab": {
          "base_uri": "https://localhost:8080/",
          "height": 112
        },
        "id": "ld2ULQzLVXs1",
        "outputId": "a8eb2563-e2d9-47f5-cc47-ecb26bd5da68"
      },
      "outputs": [
        {
          "data": {
            "text/html": [
              "\n",
              "  <div id=\"df-c524cb97-c96f-4e3c-8578-ca15c55d0fc3\">\n",
              "    <div class=\"colab-df-container\">\n",
              "      <div>\n",
              "<style scoped>\n",
              "    .dataframe tbody tr th:only-of-type {\n",
              "        vertical-align: middle;\n",
              "    }\n",
              "\n",
              "    .dataframe tbody tr th {\n",
              "        vertical-align: top;\n",
              "    }\n",
              "\n",
              "    .dataframe thead th {\n",
              "        text-align: right;\n",
              "    }\n",
              "</style>\n",
              "<table border=\"1\" class=\"dataframe\">\n",
              "  <thead>\n",
              "    <tr style=\"text-align: right;\">\n",
              "      <th></th>\n",
              "      <th>RM</th>\n",
              "      <th>LSTAT</th>\n",
              "      <th>PTRATIO</th>\n",
              "      <th>MEDV</th>\n",
              "    </tr>\n",
              "  </thead>\n",
              "  <tbody>\n",
              "    <tr>\n",
              "      <th>0</th>\n",
              "      <td>6.575</td>\n",
              "      <td>4.98</td>\n",
              "      <td>15.3</td>\n",
              "      <td>504000.0</td>\n",
              "    </tr>\n",
              "    <tr>\n",
              "      <th>1</th>\n",
              "      <td>6.421</td>\n",
              "      <td>9.14</td>\n",
              "      <td>17.8</td>\n",
              "      <td>453600.0</td>\n",
              "    </tr>\n",
              "  </tbody>\n",
              "</table>\n",
              "</div>\n",
              "      <button class=\"colab-df-convert\" onclick=\"convertToInteractive('df-c524cb97-c96f-4e3c-8578-ca15c55d0fc3')\"\n",
              "              title=\"Convert this dataframe to an interactive table.\"\n",
              "              style=\"display:none;\">\n",
              "        \n",
              "  <svg xmlns=\"http://www.w3.org/2000/svg\" height=\"24px\"viewBox=\"0 0 24 24\"\n",
              "       width=\"24px\">\n",
              "    <path d=\"M0 0h24v24H0V0z\" fill=\"none\"/>\n",
              "    <path d=\"M18.56 5.44l.94 2.06.94-2.06 2.06-.94-2.06-.94-.94-2.06-.94 2.06-2.06.94zm-11 1L8.5 8.5l.94-2.06 2.06-.94-2.06-.94L8.5 2.5l-.94 2.06-2.06.94zm10 10l.94 2.06.94-2.06 2.06-.94-2.06-.94-.94-2.06-.94 2.06-2.06.94z\"/><path d=\"M17.41 7.96l-1.37-1.37c-.4-.4-.92-.59-1.43-.59-.52 0-1.04.2-1.43.59L10.3 9.45l-7.72 7.72c-.78.78-.78 2.05 0 2.83L4 21.41c.39.39.9.59 1.41.59.51 0 1.02-.2 1.41-.59l7.78-7.78 2.81-2.81c.8-.78.8-2.07 0-2.86zM5.41 20L4 18.59l7.72-7.72 1.47 1.35L5.41 20z\"/>\n",
              "  </svg>\n",
              "      </button>\n",
              "      \n",
              "  <style>\n",
              "    .colab-df-container {\n",
              "      display:flex;\n",
              "      flex-wrap:wrap;\n",
              "      gap: 12px;\n",
              "    }\n",
              "\n",
              "    .colab-df-convert {\n",
              "      background-color: #E8F0FE;\n",
              "      border: none;\n",
              "      border-radius: 50%;\n",
              "      cursor: pointer;\n",
              "      display: none;\n",
              "      fill: #1967D2;\n",
              "      height: 32px;\n",
              "      padding: 0 0 0 0;\n",
              "      width: 32px;\n",
              "    }\n",
              "\n",
              "    .colab-df-convert:hover {\n",
              "      background-color: #E2EBFA;\n",
              "      box-shadow: 0px 1px 2px rgba(60, 64, 67, 0.3), 0px 1px 3px 1px rgba(60, 64, 67, 0.15);\n",
              "      fill: #174EA6;\n",
              "    }\n",
              "\n",
              "    [theme=dark] .colab-df-convert {\n",
              "      background-color: #3B4455;\n",
              "      fill: #D2E3FC;\n",
              "    }\n",
              "\n",
              "    [theme=dark] .colab-df-convert:hover {\n",
              "      background-color: #434B5C;\n",
              "      box-shadow: 0px 1px 3px 1px rgba(0, 0, 0, 0.15);\n",
              "      filter: drop-shadow(0px 1px 2px rgba(0, 0, 0, 0.3));\n",
              "      fill: #FFFFFF;\n",
              "    }\n",
              "  </style>\n",
              "\n",
              "      <script>\n",
              "        const buttonEl =\n",
              "          document.querySelector('#df-c524cb97-c96f-4e3c-8578-ca15c55d0fc3 button.colab-df-convert');\n",
              "        buttonEl.style.display =\n",
              "          google.colab.kernel.accessAllowed ? 'block' : 'none';\n",
              "\n",
              "        async function convertToInteractive(key) {\n",
              "          const element = document.querySelector('#df-c524cb97-c96f-4e3c-8578-ca15c55d0fc3');\n",
              "          const dataTable =\n",
              "            await google.colab.kernel.invokeFunction('convertToInteractive',\n",
              "                                                     [key], {});\n",
              "          if (!dataTable) return;\n",
              "\n",
              "          const docLinkHtml = 'Like what you see? Visit the ' +\n",
              "            '<a target=\"_blank\" href=https://colab.research.google.com/notebooks/data_table.ipynb>data table notebook</a>'\n",
              "            + ' to learn more about interactive tables.';\n",
              "          element.innerHTML = '';\n",
              "          dataTable['output_type'] = 'display_data';\n",
              "          await google.colab.output.renderOutput(dataTable, element);\n",
              "          const docLink = document.createElement('div');\n",
              "          docLink.innerHTML = docLinkHtml;\n",
              "          element.appendChild(docLink);\n",
              "        }\n",
              "      </script>\n",
              "    </div>\n",
              "  </div>\n",
              "  "
            ],
            "text/plain": [
              "      RM  LSTAT  PTRATIO      MEDV\n",
              "0  6.575   4.98     15.3  504000.0\n",
              "1  6.421   9.14     17.8  453600.0"
            ]
          },
          "execution_count": 273,
          "metadata": {},
          "output_type": "execute_result"
        }
      ],
      "source": [
        "df.head(2)"
      ]
    },
    {
      "cell_type": "code",
      "execution_count": null,
      "metadata": {
        "id": "1nReQ2gUVXs2"
      },
      "outputs": [],
      "source": [
        "independente = df.iloc[:, 0:3].values\n",
        "independente"
      ]
    },
    {
      "cell_type": "code",
      "execution_count": null,
      "metadata": {
        "colab": {
          "base_uri": "https://localhost:8080/"
        },
        "id": "rDPRCUFUVXs3",
        "outputId": "4c714f4d-0906-4a61-96a1-6001f8ad4e5c"
      },
      "outputs": [
        {
          "data": {
            "text/plain": [
              "(489, 3)"
            ]
          },
          "execution_count": 276,
          "metadata": {},
          "output_type": "execute_result"
        }
      ],
      "source": [
        "independente.shape"
      ]
    },
    {
      "cell_type": "code",
      "execution_count": null,
      "metadata": {
        "id": "v_vJst49VXs3"
      },
      "outputs": [],
      "source": [
        "dependente = df.iloc[:, 3].values"
      ]
    },
    {
      "cell_type": "code",
      "execution_count": null,
      "metadata": {
        "colab": {
          "base_uri": "https://localhost:8080/"
        },
        "id": "CuJFrX_1VXs4",
        "outputId": "fb116a84-3ae1-42b5-b594-da6b99f2a679"
      },
      "outputs": [
        {
          "data": {
            "text/plain": [
              "(489,)"
            ]
          },
          "execution_count": 277,
          "metadata": {},
          "output_type": "execute_result"
        }
      ],
      "source": [
        "dependente.shape"
      ]
    },
    {
      "cell_type": "code",
      "execution_count": null,
      "metadata": {
        "id": "ZiFMJQRNVXs4"
      },
      "outputs": [],
      "source": [
        "from sklearn.model_selection import train_test_split\n",
        "x_treino, x_teste, y_treino, y_teste = train_test_split(independente, dependente, test_size = 0.3, random_state = 0)"
      ]
    },
    {
      "cell_type": "code",
      "execution_count": null,
      "metadata": {
        "colab": {
          "base_uri": "https://localhost:8080/"
        },
        "id": "7S3QP4XEVXs5",
        "outputId": "5549db3e-b9fa-4bae-ce01-8b894992d848"
      },
      "outputs": [
        {
          "data": {
            "text/plain": [
              "((342, 3), (147, 3))"
            ]
          },
          "execution_count": 279,
          "metadata": {},
          "output_type": "execute_result"
        }
      ],
      "source": [
        "x_treino.shape, x_teste.shape"
      ]
    },
    {
      "cell_type": "code",
      "execution_count": null,
      "metadata": {
        "id": "Mvq49H8TVXs5"
      },
      "outputs": [],
      "source": [
        "from catboost.core import CatBoostRegressor"
      ]
    },
    {
      "cell_type": "code",
      "execution_count": null,
      "metadata": {
        "id": "ElgRHg_3VXs6"
      },
      "outputs": [],
      "source": [
        "catboost = CatBoostRegressor (iterations=100, learning_rate=0.08, depth = 5, random_state = 10)\n",
        "catboost.fit(x_treino, y_treino)"
      ]
    },
    {
      "cell_type": "code",
      "execution_count": null,
      "metadata": {
        "colab": {
          "base_uri": "https://localhost:8080/"
        },
        "id": "RYJLt365VXs6",
        "outputId": "839226bd-5533-4d87-891a-23a9843b4aba"
      },
      "outputs": [
        {
          "data": {
            "text/plain": [
              "0.8987749049972403"
            ]
          },
          "execution_count": 324,
          "metadata": {},
          "output_type": "execute_result"
        }
      ],
      "source": [
        "catboost.score(x_treino, y_treino)"
      ]
    },
    {
      "cell_type": "markdown",
      "metadata": {
        "id": "J0YqqCe_VXs7"
      },
      "source": [
        "**TESTE**"
      ]
    },
    {
      "cell_type": "code",
      "execution_count": null,
      "metadata": {
        "colab": {
          "base_uri": "https://localhost:8080/"
        },
        "id": "Kq3ufyL1VXs7",
        "outputId": "cb2168cb-a83c-4299-cf35-cde93a4ed4f3"
      },
      "outputs": [
        {
          "data": {
            "text/plain": [
              "0.8356524921108562"
            ]
          },
          "execution_count": 325,
          "metadata": {},
          "output_type": "execute_result"
        }
      ],
      "source": [
        "catboost.score(x_teste, y_teste)"
      ]
    },
    {
      "cell_type": "code",
      "execution_count": null,
      "metadata": {
        "id": "bbb2-5sqVXs8"
      },
      "outputs": [],
      "source": [
        "previsoes_teste = catboost.predict(x_teste)"
      ]
    },
    {
      "cell_type": "code",
      "execution_count": null,
      "metadata": {
        "colab": {
          "base_uri": "https://localhost:8080/"
        },
        "id": "rFXFPukcYZNe",
        "outputId": "7fa87afc-d83a-405d-b6df-0f4bfff0a4e0"
      },
      "outputs": [
        {
          "data": {
            "text/plain": [
              "array([328451.4683164])"
            ]
          },
          "execution_count": 330,
          "metadata": {},
          "output_type": "execute_result"
        }
      ],
      "source": [
        "# Fazendo previsões para valores distintos\n",
        "valor_casa = catboost.predict([[5,18,20]])\n",
        "valor_casa"
      ]
    },
    {
      "cell_type": "markdown",
      "metadata": {
        "id": "pSBW-UoFVXs8"
      },
      "source": [
        "**MÉTRICAS**"
      ]
    },
    {
      "cell_type": "code",
      "execution_count": null,
      "metadata": {
        "id": "dUHUBMG5VXs9"
      },
      "outputs": [],
      "source": [
        "from sklearn.metrics import mean_absolute_error, mean_squared_error"
      ]
    },
    {
      "cell_type": "code",
      "execution_count": null,
      "metadata": {
        "colab": {
          "base_uri": "https://localhost:8080/"
        },
        "id": "lgn3ZatBVXs9",
        "outputId": "84ef62dc-45cb-47f7-cc3f-8271492846f9"
      },
      "outputs": [
        {
          "data": {
            "text/plain": [
              "52043.380841851125"
            ]
          },
          "execution_count": 332,
          "metadata": {},
          "output_type": "execute_result"
        }
      ],
      "source": [
        "# Erro médio Absoluto\n",
        "mean_absolute_error(y_teste, previsoes_teste)"
      ]
    },
    {
      "cell_type": "code",
      "execution_count": null,
      "metadata": {
        "colab": {
          "base_uri": "https://localhost:8080/"
        },
        "id": "DewzTfdWVXs9",
        "outputId": "1cb50ae3-8fc5-49f5-b121-85d34b3648cb"
      },
      "outputs": [
        {
          "data": {
            "text/plain": [
              "69053.3516855943"
            ]
          },
          "execution_count": 333,
          "metadata": {},
          "output_type": "execute_result"
        }
      ],
      "source": [
        "# Raiz do erro quadrático médio (RMSE)\n",
        "np.sqrt(mean_squared_error(y_teste, previsoes_teste))"
      ]
    },
    {
      "cell_type": "markdown",
      "metadata": {
        "id": "KPym0jypVXs-"
      },
      "source": [
        "### **Validação Cruzada**"
      ]
    },
    {
      "cell_type": "code",
      "execution_count": null,
      "metadata": {
        "id": "oZwUBh3_VXs-"
      },
      "outputs": [],
      "source": [
        "from sklearn.model_selection import KFold\n",
        "from sklearn.model_selection import cross_val_score"
      ]
    },
    {
      "cell_type": "code",
      "execution_count": null,
      "metadata": {
        "id": "gJMJ1x4bVXs_"
      },
      "outputs": [],
      "source": [
        "# Separando os dados em folds\n",
        "kfold = KFold(n_splits = 15, shuffle=True, random_state = 5)"
      ]
    },
    {
      "cell_type": "code",
      "execution_count": null,
      "metadata": {
        "id": "TUW6Frh8VXs_"
      },
      "outputs": [],
      "source": [
        "# Criando o modelo\n",
        "from catboost.core import CatBoostRegressor\n",
        "modelo = CatBoostRegressor (iterations=100, learning_rate=0.08, depth = 5, random_state = 10)\n",
        "resultado = cross_val_score(modelo, independente, dependente, cv = kfold)\n",
        "resultado"
      ]
    },
    {
      "cell_type": "code",
      "execution_count": null,
      "metadata": {
        "colab": {
          "base_uri": "https://localhost:8080/"
        },
        "id": "sRPAGvgQVXtA",
        "outputId": "8c50c1eb-2b59-4f2a-c3ac-37495a4dd1c9"
      },
      "outputs": [
        {
          "name": "stdout",
          "output_type": "stream",
          "text": [
            "Coeficiente de Determinação Médio: 83.40%\n"
          ]
        }
      ],
      "source": [
        "# Usamos a média e o desvio padrão\n",
        "print(\"Coeficiente de Determinação Médio: %.2f%%\" % (resultado.mean() * 100.0))"
      ]
    },
    {
      "cell_type": "markdown",
      "metadata": {
        "id": "7cwsGoINVXtA"
      },
      "source": [
        "**RESULTADOS:**\n",
        "\n",
        "**REGRESSÃO LINEAR SIMPLES:** R^2 = 0,57/0,60; RMSE = 99315,5; R^2 Validação Cruzada: 55,97%\n",
        "\n",
        "**REGRESSÃO LINEAR MÚLTIPLA:** R^2 = 0,73/0,68; RMSE = 96087,3; R^2 Validação Cruzada: 69,25%\n",
        "\n",
        "**REGRESSÃO POLINOMIAL:** R^2 = 0,59/0,54; RMSE = 114670,6.\n",
        "\n",
        "**REGRESSÃO SVR:** R^2 = 0,87/0,81; RMSE = 73422,7. R^2 Validação Cruzada: 82,37%.\n",
        "\n",
        "**REGRESSÃO ÁRVORE DE DECISÃO:** R^2 = 0,91/0,83; RMSE = 71114,5. R^2 Validação Cruzada: 74,60%.\n",
        "\n",
        "**REGRESSÃO COM RANDOM FOREST:** R^2 = 0,92/0,85; RMSE = 66729,3. R^2 Validação Cruzada: 82,85%.\n",
        "\n",
        "**REGRESSÃO COM XGBOOST:** R^2 = 0,93/0,84; RMSE = 67788,8. R^2 Validação Cruzada: 83,22%.\n",
        "\n",
        "**REGRESSÃO COM LIGHT GBM:** R^2 = 0,88/0,82; RMSE = 71906,4. R^2 Validação Cruzada: 82,38%.\n",
        "\n",
        "**REGRESSÃO COM CATBOOST:** R^2 = 0,90/0,84; RMSE = 69053,3 R^2 Validação Cruzada: 83,40%."
      ]
    },
    {
      "cell_type": "markdown",
      "metadata": {
        "id": "_n5ncFlgox69"
      },
      "source": []
    },
    {
      "cell_type": "markdown",
      "metadata": {
        "id": "-SI78UagmLD7"
      },
      "source": [
        "# **Salvando dados para Deploy**"
      ]
    },
    {
      "cell_type": "code",
      "execution_count": null,
      "metadata": {
        "colab": {
          "base_uri": "https://localhost:8080/"
        },
        "id": "iHM2TQfjbwf9",
        "outputId": "121607d5-7c87-4bd7-a2f8-1ba3c0367b5b"
      },
      "outputs": [
        {
          "data": {
            "text/plain": [
              "array([[ 6.575,  4.98 , 15.3  ],\n",
              "       [ 6.421,  9.14 , 17.8  ],\n",
              "       [ 7.185,  4.03 , 17.8  ],\n",
              "       ...,\n",
              "       [ 6.976,  5.64 , 21.   ],\n",
              "       [ 6.794,  6.48 , 21.   ],\n",
              "       [ 6.03 ,  7.88 , 21.   ]])"
            ]
          },
          "execution_count": 14,
          "metadata": {},
          "output_type": "execute_result"
        }
      ],
      "source": [
        "independente = df.iloc[:, 0:3].values\n",
        "independente"
      ]
    },
    {
      "cell_type": "code",
      "execution_count": null,
      "metadata": {
        "id": "isSCWsMPDdw6"
      },
      "outputs": [],
      "source": [
        "dependente = df.iloc[:, 3].values\n",
        "dependente"
      ]
    },
    {
      "cell_type": "code",
      "execution_count": null,
      "metadata": {
        "id": "XUYRtI5VDBXF"
      },
      "outputs": [],
      "source": [
        "np.savetxt('independente.csv', independente, delimiter=',')"
      ]
    },
    {
      "cell_type": "code",
      "execution_count": null,
      "metadata": {
        "id": "dd7lbPU3DQFO"
      },
      "outputs": [],
      "source": [
        "np.savetxt('dependente.csv', dependente, delimiter=',')"
      ]
    },
    {
      "cell_type": "markdown",
      "metadata": {
        "id": "Q6LoOxMow4Ci"
      },
      "source": [
        "# **DESAFIO 2**"
      ]
    },
    {
      "cell_type": "markdown",
      "metadata": {
        "id": "bjLFumRQxayX"
      },
      "source": [
        "DESENVOLVER E SELECIONAR O MELHOR ALGORITMO DE MACHINE LEARNING DE REGRESSÃO PARA O DATASET DO LINK A SEGUIR:"
      ]
    },
    {
      "cell_type": "markdown",
      "metadata": {
        "id": "VG8xV9wYxKk2"
      },
      "source": [
        "https://www.kaggle.com/mirichoi0218/insurance/code"
      ]
    }
  ],
  "metadata": {
    "colab": {
      "name": "regressao.ipynb",
      "provenance": []
    },
    "kernelspec": {
      "display_name": "Python 3",
      "name": "python3"
    },
    "language_info": {
      "codemirror_mode": {
        "name": "ipython",
        "version": 3
      },
      "file_extension": ".py",
      "mimetype": "text/x-python",
      "name": "python",
      "nbconvert_exporter": "python",
      "pygments_lexer": "ipython3",
      "version": "3.11.3"
    }
  },
  "nbformat": 4,
  "nbformat_minor": 0
}
